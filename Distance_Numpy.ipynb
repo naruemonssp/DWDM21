{
  "nbformat": 4,
  "nbformat_minor": 0,
  "metadata": {
    "colab": {
      "name": "Distance Numpy.ipynb",
      "provenance": [],
      "authorship_tag": "ABX9TyPB1a7vULeogy6cOSo6HCKx",
      "include_colab_link": true
    },
    "kernelspec": {
      "name": "python3",
      "display_name": "Python 3"
    },
    "language_info": {
      "name": "python"
    }
  },
  "cells": [
    {
      "cell_type": "markdown",
      "metadata": {
        "id": "view-in-github",
        "colab_type": "text"
      },
      "source": [
        "<a href=\"https://colab.research.google.com/github/naruemonssp/DWDM21/blob/main/Distance_Numpy.ipynb\" target=\"_parent\"><img src=\"https://colab.research.google.com/assets/colab-badge.svg\" alt=\"Open In Colab\"/></a>"
      ]
    },
    {
      "cell_type": "code",
      "metadata": {
        "id": "aEPEI6v60Lmv"
      },
      "source": [
        "import numpy as np #package สำหรับทำงานกับ ข้อมูลที่เป็นตัวเลข (อยู่ในรูปแบบ Matrix)"
      ],
      "execution_count": 3,
      "outputs": []
    },
    {
      "cell_type": "markdown",
      "metadata": {
        "id": "bfffO50o0QCT"
      },
      "source": [
        "##Nimpy Array (matrix) จาก list"
      ]
    },
    {
      "cell_type": "markdown",
      "metadata": {
        "id": "hieYpvun0Rx7"
      },
      "source": [
        "สร้าง numpy array"
      ]
    },
    {
      "cell_type": "code",
      "metadata": {
        "id": "kJQ94dTG0PHg"
      },
      "source": [
        "np_a = np.array([[1,2,3],[4,5,6]]) # สร้าง numpy array ที่มี 2 แถว 3 หลัก"
      ],
      "execution_count": 4,
      "outputs": []
    },
    {
      "cell_type": "code",
      "metadata": {
        "colab": {
          "base_uri": "https://localhost:8080/"
        },
        "id": "192ExkgL0TOH",
        "outputId": "5820c63b-92dd-40cc-c6a5-f22c60299a99"
      },
      "source": [
        "np_a"
      ],
      "execution_count": 5,
      "outputs": [
        {
          "output_type": "execute_result",
          "data": {
            "text/plain": [
              "array([[1, 2, 3],\n",
              "       [4, 5, 6]])"
            ]
          },
          "metadata": {},
          "execution_count": 5
        }
      ]
    },
    {
      "cell_type": "code",
      "metadata": {
        "colab": {
          "base_uri": "https://localhost:8080/"
        },
        "id": "i2Z4X4bK0USX",
        "outputId": "b3a9ab46-f50a-4a37-90a6-f9683c6f291a"
      },
      "source": [
        "np_a.shape"
      ],
      "execution_count": 6,
      "outputs": [
        {
          "output_type": "execute_result",
          "data": {
            "text/plain": [
              "(2, 3)"
            ]
          },
          "metadata": {},
          "execution_count": 6
        }
      ]
    },
    {
      "cell_type": "code",
      "metadata": {
        "colab": {
          "base_uri": "https://localhost:8080/"
        },
        "id": "l91K-lpd0VTv",
        "outputId": "b95b4b59-9651-49b1-8dda-83d4d4b48f9a"
      },
      "source": [
        "np_b = np.array([[1,4],[2,5],[3,6]])\n",
        "np_b"
      ],
      "execution_count": 7,
      "outputs": [
        {
          "output_type": "execute_result",
          "data": {
            "text/plain": [
              "array([[1, 4],\n",
              "       [2, 5],\n",
              "       [3, 6]])"
            ]
          },
          "metadata": {},
          "execution_count": 7
        }
      ]
    },
    {
      "cell_type": "markdown",
      "metadata": {
        "id": "RmzTvJlZ0YB1"
      },
      "source": [
        "##สร้าง matrix เริ่มต้น (zeros,ones)"
      ]
    },
    {
      "cell_type": "code",
      "metadata": {
        "colab": {
          "base_uri": "https://localhost:8080/"
        },
        "id": "TIUqLDUd0Wex",
        "outputId": "91e0bcd1-f886-4730-db14-6a8cbbbeff7d"
      },
      "source": [
        "np_z = np.zeros((4,5)) # identity การบวก\n",
        "np_z"
      ],
      "execution_count": 8,
      "outputs": [
        {
          "output_type": "execute_result",
          "data": {
            "text/plain": [
              "array([[0., 0., 0., 0., 0.],\n",
              "       [0., 0., 0., 0., 0.],\n",
              "       [0., 0., 0., 0., 0.],\n",
              "       [0., 0., 0., 0., 0.]])"
            ]
          },
          "metadata": {},
          "execution_count": 8
        }
      ]
    },
    {
      "cell_type": "code",
      "metadata": {
        "colab": {
          "base_uri": "https://localhost:8080/"
        },
        "id": "h9_pE_-J0ZeQ",
        "outputId": "fd0e5b92-f333-497e-f667-2779cc096641"
      },
      "source": [
        "np_o = np.ones((5,6)) #identity การคูณ\n",
        "np_o"
      ],
      "execution_count": 9,
      "outputs": [
        {
          "output_type": "execute_result",
          "data": {
            "text/plain": [
              "array([[1., 1., 1., 1., 1., 1.],\n",
              "       [1., 1., 1., 1., 1., 1.],\n",
              "       [1., 1., 1., 1., 1., 1.],\n",
              "       [1., 1., 1., 1., 1., 1.],\n",
              "       [1., 1., 1., 1., 1., 1.]])"
            ]
          },
          "metadata": {},
          "execution_count": 9
        }
      ]
    },
    {
      "cell_type": "code",
      "metadata": {
        "colab": {
          "base_uri": "https://localhost:8080/"
        },
        "id": "Vje23D7D0arn",
        "outputId": "26cceebc-a412-447d-fde2-814ed9756030"
      },
      "source": [
        "np_200 = 200*np.ones((4,7))\n",
        "np_200"
      ],
      "execution_count": 10,
      "outputs": [
        {
          "output_type": "execute_result",
          "data": {
            "text/plain": [
              "array([[200., 200., 200., 200., 200., 200., 200.],\n",
              "       [200., 200., 200., 200., 200., 200., 200.],\n",
              "       [200., 200., 200., 200., 200., 200., 200.],\n",
              "       [200., 200., 200., 200., 200., 200., 200.]])"
            ]
          },
          "metadata": {},
          "execution_count": 10
        }
      ]
    },
    {
      "cell_type": "markdown",
      "metadata": {
        "id": "aZGYM1E90eeA"
      },
      "source": [
        "##สร้าง matrix random"
      ]
    },
    {
      "cell_type": "code",
      "metadata": {
        "colab": {
          "base_uri": "https://localhost:8080/"
        },
        "id": "QcUKK-CW0cFR",
        "outputId": "27f9d2a2-207e-4061-f7dc-698646548218"
      },
      "source": [
        "np.random.randn(5,5) #random เลขมาจาก normal distribution ที่มี mu=0 std = 1"
      ],
      "execution_count": 11,
      "outputs": [
        {
          "output_type": "execute_result",
          "data": {
            "text/plain": [
              "array([[ 1.35656978,  0.45226134, -2.85698058,  1.26019406, -0.89465414],\n",
              "       [ 0.76193338,  0.06445074,  1.0279886 ,  0.72860618,  0.83556583],\n",
              "       [-1.12365505,  1.03031321, -0.69351774, -0.41768535, -0.42316061],\n",
              "       [-0.51205607,  1.07270399,  1.05262338,  1.79082312,  1.33857091],\n",
              "       [ 0.562518  , -0.9840072 , -1.93954544,  1.17500095,  1.39782501]])"
            ]
          },
          "metadata": {},
          "execution_count": 11
        }
      ]
    },
    {
      "cell_type": "code",
      "metadata": {
        "colab": {
          "base_uri": "https://localhost:8080/"
        },
        "id": "Uc718PIk0gtP",
        "outputId": "1891fbad-5a72-4e21-bd4c-5abfb59998ed"
      },
      "source": [
        "2+(5*np.random.randn(3,3)) #random เลขมาจาก normal distribution ที่มี mu=2 std = 5"
      ],
      "execution_count": 12,
      "outputs": [
        {
          "output_type": "execute_result",
          "data": {
            "text/plain": [
              "array([[ 6.08430839, -3.58561402,  6.62556466],\n",
              "       [-2.95149418,  8.15609012,  5.09130584],\n",
              "       [ 9.24938992,  1.15891087, -3.82585727]])"
            ]
          },
          "metadata": {},
          "execution_count": 12
        }
      ]
    },
    {
      "cell_type": "code",
      "metadata": {
        "colab": {
          "base_uri": "https://localhost:8080/"
        },
        "id": "XD9Rx9L10hrX",
        "outputId": "cfd495e1-2c3a-4e1c-9b05-27048cd878fb"
      },
      "source": [
        "np.random.randint(5,11,(4,5))   #เลขจำนวนเต็ม ระหว่าง 5-10 จึงต้องใช้ 5,11 ขนาด 4*5"
      ],
      "execution_count": 13,
      "outputs": [
        {
          "output_type": "execute_result",
          "data": {
            "text/plain": [
              "array([[ 9,  6,  7,  7, 10],\n",
              "       [ 6,  8,  9,  7,  8],\n",
              "       [ 5,  7,  8,  6, 10],\n",
              "       [ 6,  7,  6,  6,  7]])"
            ]
          },
          "metadata": {},
          "execution_count": 13
        }
      ]
    },
    {
      "cell_type": "markdown",
      "metadata": {
        "id": "cG14WZ4J0klv"
      },
      "source": [
        "### matrix transpose"
      ]
    },
    {
      "cell_type": "code",
      "metadata": {
        "colab": {
          "base_uri": "https://localhost:8080/"
        },
        "id": "GCGjeI_T0iwH",
        "outputId": "4684a980-0a4b-4064-879d-20bf0b19e733"
      },
      "source": [
        "np_a"
      ],
      "execution_count": 14,
      "outputs": [
        {
          "output_type": "execute_result",
          "data": {
            "text/plain": [
              "array([[1, 2, 3],\n",
              "       [4, 5, 6]])"
            ]
          },
          "metadata": {},
          "execution_count": 14
        }
      ]
    },
    {
      "cell_type": "code",
      "metadata": {
        "colab": {
          "base_uri": "https://localhost:8080/"
        },
        "id": "c8haz09f0l-f",
        "outputId": "51f31fdf-211c-4894-8d5b-91d24d942083"
      },
      "source": [
        "np_a.T #transpose"
      ],
      "execution_count": 15,
      "outputs": [
        {
          "output_type": "execute_result",
          "data": {
            "text/plain": [
              "array([[1, 4],\n",
              "       [2, 5],\n",
              "       [3, 6]])"
            ]
          },
          "metadata": {},
          "execution_count": 15
        }
      ]
    },
    {
      "cell_type": "code",
      "metadata": {
        "colab": {
          "base_uri": "https://localhost:8080/"
        },
        "id": "4c25_oQU0m8h",
        "outputId": "7ec77e56-3d73-4a5d-e35f-33f325c5f74f"
      },
      "source": [
        "1+ np_a # บวก matrix ด้วย scalar  มีขนาด ไม่มีทิศทาง"
      ],
      "execution_count": 16,
      "outputs": [
        {
          "output_type": "execute_result",
          "data": {
            "text/plain": [
              "array([[2, 3, 4],\n",
              "       [5, 6, 7]])"
            ]
          },
          "metadata": {},
          "execution_count": 16
        }
      ]
    },
    {
      "cell_type": "code",
      "metadata": {
        "colab": {
          "base_uri": "https://localhost:8080/"
        },
        "id": "FOV_AyOq0oIX",
        "outputId": "3bee5a48-a52c-42cd-f2ac-c80e7ece977b"
      },
      "source": [
        "2*np_a #multipling scalar to matrix"
      ],
      "execution_count": 17,
      "outputs": [
        {
          "output_type": "execute_result",
          "data": {
            "text/plain": [
              "array([[ 2,  4,  6],\n",
              "       [ 8, 10, 12]])"
            ]
          },
          "metadata": {},
          "execution_count": 17
        }
      ]
    },
    {
      "cell_type": "code",
      "metadata": {
        "colab": {
          "base_uri": "https://localhost:8080/"
        },
        "id": "SJRJyrAt0pRH",
        "outputId": "e2e5bb39-54b1-440a-f7ef-794c208956aa"
      },
      "source": [
        "np_c = np.array([[6,5,4],[3,2,1]])\n",
        "np_c"
      ],
      "execution_count": 18,
      "outputs": [
        {
          "output_type": "execute_result",
          "data": {
            "text/plain": [
              "array([[6, 5, 4],\n",
              "       [3, 2, 1]])"
            ]
          },
          "metadata": {},
          "execution_count": 18
        }
      ]
    },
    {
      "cell_type": "code",
      "metadata": {
        "colab": {
          "base_uri": "https://localhost:8080/"
        },
        "id": "j8nwK1b50qZt",
        "outputId": "7f5d5c60-df17-48c8-a901-ebe88304c11f"
      },
      "source": [
        "np_a+np_c #adding matrix to matrix"
      ],
      "execution_count": 19,
      "outputs": [
        {
          "output_type": "execute_result",
          "data": {
            "text/plain": [
              "array([[7, 7, 7],\n",
              "       [7, 7, 7]])"
            ]
          },
          "metadata": {},
          "execution_count": 19
        }
      ]
    },
    {
      "cell_type": "code",
      "metadata": {
        "colab": {
          "base_uri": "https://localhost:8080/"
        },
        "id": "Eag1645U0rqm",
        "outputId": "b6bd9956-b5c0-4db7-b382-fe6fb4cc4985"
      },
      "source": [
        "np_a.shape"
      ],
      "execution_count": 20,
      "outputs": [
        {
          "output_type": "execute_result",
          "data": {
            "text/plain": [
              "(2, 3)"
            ]
          },
          "metadata": {},
          "execution_count": 20
        }
      ]
    },
    {
      "cell_type": "code",
      "metadata": {
        "colab": {
          "base_uri": "https://localhost:8080/"
        },
        "id": "taj4d-Zi0soW",
        "outputId": "208a3735-007d-4c85-a1c2-2cf811616124"
      },
      "source": [
        "np_c.shape"
      ],
      "execution_count": 21,
      "outputs": [
        {
          "output_type": "execute_result",
          "data": {
            "text/plain": [
              "(2, 3)"
            ]
          },
          "metadata": {},
          "execution_count": 21
        }
      ]
    },
    {
      "cell_type": "code",
      "metadata": {
        "colab": {
          "base_uri": "https://localhost:8080/"
        },
        "id": "fO0DFzQI0ty3",
        "outputId": "1fa068be-4f21-44f6-b51d-40540f115be9"
      },
      "source": [
        "np_c.T.shape"
      ],
      "execution_count": 22,
      "outputs": [
        {
          "output_type": "execute_result",
          "data": {
            "text/plain": [
              "(3, 2)"
            ]
          },
          "metadata": {},
          "execution_count": 22
        }
      ]
    },
    {
      "cell_type": "code",
      "metadata": {
        "colab": {
          "base_uri": "https://localhost:8080/"
        },
        "id": "mLGJfdx30uv_",
        "outputId": "f2745242-a939-4953-a133-3245bd1d519e"
      },
      "source": [
        "np.dot(np_a,np_c.T) #multipling matrix to matrix (a,b)*(b,c) = (a,c)"
      ],
      "execution_count": 23,
      "outputs": [
        {
          "output_type": "execute_result",
          "data": {
            "text/plain": [
              "array([[28, 10],\n",
              "       [73, 28]])"
            ]
          },
          "metadata": {},
          "execution_count": 23
        }
      ]
    },
    {
      "cell_type": "markdown",
      "metadata": {
        "id": "vu-SPvqV0xJk"
      },
      "source": [
        "##Indexing &Silcing"
      ]
    },
    {
      "cell_type": "markdown",
      "metadata": {
        "id": "i9enXQQN0zDg"
      },
      "source": [
        "ชี้ตัวที่เป็นค่าใน matrix อย่างไร"
      ]
    },
    {
      "cell_type": "code",
      "metadata": {
        "colab": {
          "base_uri": "https://localhost:8080/"
        },
        "id": "nab7Tp3S0v4W",
        "outputId": "4dd1db8d-b87e-4776-aca9-817706ee0e44"
      },
      "source": [
        "np_a"
      ],
      "execution_count": 24,
      "outputs": [
        {
          "output_type": "execute_result",
          "data": {
            "text/plain": [
              "array([[1, 2, 3],\n",
              "       [4, 5, 6]])"
            ]
          },
          "metadata": {},
          "execution_count": 24
        }
      ]
    },
    {
      "cell_type": "code",
      "metadata": {
        "colab": {
          "base_uri": "https://localhost:8080/"
        },
        "id": "1vKXez0X01BG",
        "outputId": "1b2f6e66-4e49-483f-e414-54d086e79155"
      },
      "source": [
        "np_a[1,1]"
      ],
      "execution_count": 25,
      "outputs": [
        {
          "output_type": "execute_result",
          "data": {
            "text/plain": [
              "5"
            ]
          },
          "metadata": {},
          "execution_count": 25
        }
      ]
    },
    {
      "cell_type": "code",
      "metadata": {
        "colab": {
          "base_uri": "https://localhost:8080/"
        },
        "id": "sEY_NLXV03zW",
        "outputId": "a2be594b-67f7-4f7c-9e6f-4a751c7e538a"
      },
      "source": [
        "np_a[:2,:2]"
      ],
      "execution_count": 26,
      "outputs": [
        {
          "output_type": "execute_result",
          "data": {
            "text/plain": [
              "array([[1, 2],\n",
              "       [4, 5]])"
            ]
          },
          "metadata": {},
          "execution_count": 26
        }
      ]
    },
    {
      "cell_type": "code",
      "metadata": {
        "colab": {
          "base_uri": "https://localhost:8080/"
        },
        "id": "aGiLQe5G03vf",
        "outputId": "7f8e12ea-c525-4d30-9e9b-0dfb153ae3f0"
      },
      "source": [
        "np_a[0,:]"
      ],
      "execution_count": 27,
      "outputs": [
        {
          "output_type": "execute_result",
          "data": {
            "text/plain": [
              "array([1, 2, 3])"
            ]
          },
          "metadata": {},
          "execution_count": 27
        }
      ]
    },
    {
      "cell_type": "markdown",
      "metadata": {
        "id": "9IiJ51nk06_Q"
      },
      "source": [
        "###Useful function\n"
      ]
    },
    {
      "cell_type": "code",
      "metadata": {
        "colab": {
          "base_uri": "https://localhost:8080/"
        },
        "id": "r22kKhos03q0",
        "outputId": "870e5e24-1fa5-4dc9-8e8b-1884060e6a19"
      },
      "source": [
        "np_a"
      ],
      "execution_count": 28,
      "outputs": [
        {
          "output_type": "execute_result",
          "data": {
            "text/plain": [
              "array([[1, 2, 3],\n",
              "       [4, 5, 6]])"
            ]
          },
          "metadata": {},
          "execution_count": 28
        }
      ]
    },
    {
      "cell_type": "code",
      "metadata": {
        "colab": {
          "base_uri": "https://localhost:8080/"
        },
        "id": "o-Gh5upE03lo",
        "outputId": "3a7403f4-4746-4ecd-b2fc-c0519714e09e"
      },
      "source": [
        "np.sum(np_a)"
      ],
      "execution_count": 29,
      "outputs": [
        {
          "output_type": "execute_result",
          "data": {
            "text/plain": [
              "21"
            ]
          },
          "metadata": {},
          "execution_count": 29
        }
      ]
    },
    {
      "cell_type": "code",
      "metadata": {
        "colab": {
          "base_uri": "https://localhost:8080/"
        },
        "id": "6sc23Em303hr",
        "outputId": "fe2f3c59-215e-4e1a-96cf-083ab24042a3"
      },
      "source": [
        "np.sum(np_a,axis=0) # เอาด้านแถวมารวมกัน"
      ],
      "execution_count": 30,
      "outputs": [
        {
          "output_type": "execute_result",
          "data": {
            "text/plain": [
              "array([5, 7, 9])"
            ]
          },
          "metadata": {},
          "execution_count": 30
        }
      ]
    },
    {
      "cell_type": "code",
      "metadata": {
        "colab": {
          "base_uri": "https://localhost:8080/"
        },
        "id": "lVCy_frs03ej",
        "outputId": "fc162504-d19e-4460-9ffc-0b059e7fbca5"
      },
      "source": [
        "np.sum(np_a,axis=1) # เอาด้านหลักมารวมกัน"
      ],
      "execution_count": 31,
      "outputs": [
        {
          "output_type": "execute_result",
          "data": {
            "text/plain": [
              "array([ 6, 15])"
            ]
          },
          "metadata": {},
          "execution_count": 31
        }
      ]
    },
    {
      "cell_type": "code",
      "metadata": {
        "colab": {
          "base_uri": "https://localhost:8080/"
        },
        "id": "knsOaphN03bi",
        "outputId": "f987e8c9-f964-4f93-a37d-0579a3cc1415"
      },
      "source": [
        "np.mean(np_a)"
      ],
      "execution_count": 32,
      "outputs": [
        {
          "output_type": "execute_result",
          "data": {
            "text/plain": [
              "3.5"
            ]
          },
          "metadata": {},
          "execution_count": 32
        }
      ]
    },
    {
      "cell_type": "code",
      "metadata": {
        "colab": {
          "base_uri": "https://localhost:8080/"
        },
        "id": "KdkvJTCc03YV",
        "outputId": "89c850a6-f219-488c-a3f1-cc339761a3d3"
      },
      "source": [
        "np.mean(np_a,axis = 0 )  # หาค่า mean ของ column"
      ],
      "execution_count": 33,
      "outputs": [
        {
          "output_type": "execute_result",
          "data": {
            "text/plain": [
              "array([2.5, 3.5, 4.5])"
            ]
          },
          "metadata": {},
          "execution_count": 33
        }
      ]
    },
    {
      "cell_type": "markdown",
      "metadata": {
        "id": "yEXYpzvU1FMb"
      },
      "source": [
        "### วนลูปเอง"
      ]
    },
    {
      "cell_type": "markdown",
      "metadata": {
        "id": "Fv9drmVz1Gss"
      },
      "source": [
        "####summation"
      ]
    },
    {
      "cell_type": "markdown",
      "metadata": {
        "id": "e3KX88nL1JR9"
      },
      "source": [
        "```np.sum(np_a)```"
      ]
    },
    {
      "cell_type": "code",
      "metadata": {
        "colab": {
          "base_uri": "https://localhost:8080/"
        },
        "id": "fDIqvhit1CWf",
        "outputId": "e5af1e33-f875-4a49-b37d-32e5c120f6b5"
      },
      "source": [
        "sum_all = 0\n",
        "\n",
        "for row in range(np_a.shape[0]):\n",
        "    for col in range(np_a.shape[1]):\n",
        "        sum_all = sum_all + np_a [row,col]\n",
        "        print(f'we are at row = {row},col = {col} np_a[{row},{col}] = {np_a[row,col]} sum_all = {sum_all}')"
      ],
      "execution_count": 34,
      "outputs": [
        {
          "output_type": "stream",
          "name": "stdout",
          "text": [
            "we are at row = 0,col = 0 np_a[0,0] = 1 sum_all = 1\n",
            "we are at row = 0,col = 1 np_a[0,1] = 2 sum_all = 3\n",
            "we are at row = 0,col = 2 np_a[0,2] = 3 sum_all = 6\n",
            "we are at row = 1,col = 0 np_a[1,0] = 4 sum_all = 10\n",
            "we are at row = 1,col = 1 np_a[1,1] = 5 sum_all = 15\n",
            "we are at row = 1,col = 2 np_a[1,2] = 6 sum_all = 21\n"
          ]
        }
      ]
    },
    {
      "cell_type": "markdown",
      "metadata": {
        "id": "TfoIARD41PO_"
      },
      "source": [
        "```np.sum(np_a,axis = 0)```"
      ]
    },
    {
      "cell_type": "code",
      "metadata": {
        "colab": {
          "base_uri": "https://localhost:8080/"
        },
        "id": "ecUy6c0z1Kxt",
        "outputId": "df376996-1704-40ac-a273-f56647cacc8b"
      },
      "source": [
        "sum_all = np.zeros(np_a.shape[1])\n",
        "\n",
        "for row in range(np_a.shape[0]):\n",
        "    for col in range(np_a.shape[1]):\n",
        "        sum_all[col] = sum_all[col] + np_a [row,col]\n",
        "print(sum_all)"
      ],
      "execution_count": 35,
      "outputs": [
        {
          "output_type": "stream",
          "name": "stdout",
          "text": [
            "[5. 7. 9.]\n"
          ]
        }
      ]
    },
    {
      "cell_type": "markdown",
      "metadata": {
        "id": "vgsoDlsJ1SUK"
      },
      "source": [
        "# Quiz กลุ่ม\n",
        "\n",
        "วนลูปหาค่า\n",
        "\n",
        "* np.sum(np_a,axis=1)\n",
        "* np.mean(np_a)\n",
        "* np.mean(np_a,axis=0)\n",
        "* np.mean(np_a,axis=1)\n",
        "* np.max(np_a)\n",
        "* np.max(np_a,axis=0) \n",
        "* np.max(np_a,axis=1) \n",
        "* np.min(np_a) \n",
        "* np.min(np_a,axis=0) \n",
        "* np.min(np_a,axis=1) "
      ]
    },
    {
      "cell_type": "code",
      "metadata": {
        "colab": {
          "base_uri": "https://localhost:8080/"
        },
        "id": "ZdIZYQOB1Q-l",
        "outputId": "a8764d34-149f-4981-e37b-860c5f558562"
      },
      "source": [
        "np_a"
      ],
      "execution_count": 36,
      "outputs": [
        {
          "output_type": "execute_result",
          "data": {
            "text/plain": [
              "array([[1, 2, 3],\n",
              "       [4, 5, 6]])"
            ]
          },
          "metadata": {},
          "execution_count": 36
        }
      ]
    },
    {
      "cell_type": "code",
      "metadata": {
        "colab": {
          "base_uri": "https://localhost:8080/"
        },
        "id": "tvdT82at1Uzj",
        "outputId": "84168c73-8385-4c4b-fb65-cec5c4b4730d"
      },
      "source": [
        "np.min(np_a,axis=1)   ### หา min ของ แถว"
      ],
      "execution_count": 37,
      "outputs": [
        {
          "output_type": "execute_result",
          "data": {
            "text/plain": [
              "array([1, 4])"
            ]
          },
          "metadata": {},
          "execution_count": 37
        }
      ]
    },
    {
      "cell_type": "code",
      "metadata": {
        "colab": {
          "base_uri": "https://localhost:8080/"
        },
        "id": "rd9BQkJW1WV8",
        "outputId": "22685741-ff43-4885-e975-ca3e607b730e"
      },
      "source": [
        "np.sum(np_a,axis=1)"
      ],
      "execution_count": 38,
      "outputs": [
        {
          "output_type": "execute_result",
          "data": {
            "text/plain": [
              "array([ 6, 15])"
            ]
          },
          "metadata": {},
          "execution_count": 38
        }
      ]
    },
    {
      "cell_type": "code",
      "metadata": {
        "colab": {
          "base_uri": "https://localhost:8080/"
        },
        "id": "cmlJB5OK1XlM",
        "outputId": "17b156b8-aee9-457e-8d98-e037887c4d00"
      },
      "source": [
        "# 1. np.sum(np_a,axis=1)     ### เอาค่าทุก column มารวมกัน\n",
        "\n",
        "sum_all = np.zeros(np_a.shape[0])\n",
        "for row in range(np_a.shape[0]):\n",
        "    for col in range(np_a.shape[1]): \n",
        "        sum_all[row] = sum_all[row] + np_a[row,col]\n",
        "print(sum_all)"
      ],
      "execution_count": 39,
      "outputs": [
        {
          "output_type": "stream",
          "name": "stdout",
          "text": [
            "[ 6. 15.]\n"
          ]
        }
      ]
    },
    {
      "cell_type": "code",
      "metadata": {
        "colab": {
          "base_uri": "https://localhost:8080/"
        },
        "id": "zm7GSrej1Yd7",
        "outputId": "fb158b83-bca4-4c39-87a9-8fe2d7f9710a"
      },
      "source": [
        "# 2. np.mean(np_a)            ### หา mean ของทั้งหมด\n",
        "\n",
        "mean_all = 0\n",
        "for row in range(np_a.shape[0]):\n",
        "    for col in range(np_a.shape[1]):\n",
        "        mean_all = mean_all + np_a[row,col]\n",
        "mean_all = mean_all/(np_a.shape[0]*np_a.shape[1])\n",
        "print(mean_all)"
      ],
      "execution_count": 65,
      "outputs": [
        {
          "output_type": "stream",
          "name": "stdout",
          "text": [
            "3.5\n"
          ]
        }
      ]
    },
    {
      "cell_type": "code",
      "metadata": {
        "colab": {
          "base_uri": "https://localhost:8080/"
        },
        "id": "-jucZPYC1Z0k",
        "outputId": "17187018-1720-4667-c953-ae272d4abaf8"
      },
      "source": [
        "# 3. np.mean(np_a,axis=0)        ### หา mean ของแต่ล่ะ column\n",
        "\n",
        "mean_all = np.zeros(np_a.shape[1])\n",
        "for row in range(np_a.shape[0]):\n",
        "     for col in range(np_a.shape[1]):\n",
        "          mean_all[col] = mean_all[col] + np_a[row,col]/np_a.shape[0]\n",
        "print(mean_all)"
      ],
      "execution_count": 66,
      "outputs": [
        {
          "output_type": "stream",
          "name": "stdout",
          "text": [
            "[2.5 3.5 4.5]\n"
          ]
        }
      ]
    },
    {
      "cell_type": "code",
      "metadata": {
        "colab": {
          "base_uri": "https://localhost:8080/"
        },
        "id": "pnVv96Ps1a1V",
        "outputId": "1b10f8b2-e79b-4cf7-c277-9ee3a2b6507e"
      },
      "source": [
        "# 4. np.mean(np_a,axis=1)         ### หา mean ของแต่ละ row\n",
        "\n",
        "sum_all = np.zeros(np_a.shape[0])\n",
        "for row in range(np_a.shape[0]):\n",
        "    for col in range(np_a.shape[1]): \n",
        "        sum_all[row] = sum_all[row] + np_a[row,col]\n",
        "sum_all = sum_all/np_a.shape[1]\n",
        "print(sum_all)"
      ],
      "execution_count": 67,
      "outputs": [
        {
          "output_type": "stream",
          "name": "stdout",
          "text": [
            "[2. 5.]\n"
          ]
        }
      ]
    },
    {
      "cell_type": "code",
      "metadata": {
        "colab": {
          "base_uri": "https://localhost:8080/"
        },
        "id": "rZoZNPXc1b8E",
        "outputId": "8a0a910d-b2a3-48d9-d5ed-b9aa1ffe3606"
      },
      "source": [
        "# np.max(np_a,axis=1) (ของอาจารย์) (7)\n",
        "max_all = np.zeros(np_a.shape[0])\n",
        "for row in range(np_a.shape[0]):\n",
        "    max_all[row] = max(np_a[row,:])\n",
        "print(max_all)"
      ],
      "execution_count": 43,
      "outputs": [
        {
          "output_type": "stream",
          "name": "stdout",
          "text": [
            "[3. 6.]\n"
          ]
        }
      ]
    },
    {
      "cell_type": "code",
      "metadata": {
        "colab": {
          "base_uri": "https://localhost:8080/"
        },
        "id": "ixDsvs-C1c9s",
        "outputId": "285cbcd6-f272-4165-9c3d-c70aa4e8b5c9"
      },
      "source": [
        "# 5. np.max(np_a)              ### หา max จากทั้งหมด\n",
        "\n",
        "max_a = -100000000\n",
        "for row in range(np_a.shape[0]):\n",
        "    for col in range(np_a.shape[1]):\n",
        "        if np_a[row,col] > max_a :\n",
        "            max_a = np_a[row,col]\n",
        "print(max_a)"
      ],
      "execution_count": 68,
      "outputs": [
        {
          "output_type": "stream",
          "name": "stdout",
          "text": [
            "6\n"
          ]
        }
      ]
    },
    {
      "cell_type": "code",
      "metadata": {
        "colab": {
          "base_uri": "https://localhost:8080/"
        },
        "id": "BYCO-yw71eFk",
        "outputId": "d5d68f9a-2eae-4881-9066-49835d88d871"
      },
      "source": [
        "# 6. np.max(np_a,axis=0)           ### หา max ของแต่ล่ะ column\n",
        "\n",
        "max_all = -1000000 * np.ones(np_a.shape[1])\n",
        "\n",
        "for col in range(np_a.shape[1]):\n",
        "    for row in range(np_a.shape[0]):\n",
        "        if np_a[row,col] > max_all[col]:\n",
        "            max_all[col] = np_a[row,col]\n",
        "print(max_all)"
      ],
      "execution_count": 69,
      "outputs": [
        {
          "output_type": "stream",
          "name": "stdout",
          "text": [
            "[4. 5. 6.]\n"
          ]
        }
      ]
    },
    {
      "cell_type": "code",
      "metadata": {
        "colab": {
          "base_uri": "https://localhost:8080/"
        },
        "id": "u42qNK0V1fez",
        "outputId": "b7a9069e-f3e6-4bd3-a857-3fadfff74dfe"
      },
      "source": [
        "# 7. np.max(np_a,axis=1)           ### หา max ของแต่ละ row\n",
        " \n",
        "max_all = np.zeros(np_a.shape[0])\n",
        "for row in range(np_a.shape[0]):\n",
        "    max_all[row] = max(np_a[row,:])\n",
        "print(max_all)"
      ],
      "execution_count": 70,
      "outputs": [
        {
          "output_type": "stream",
          "name": "stdout",
          "text": [
            "[3. 6.]\n"
          ]
        }
      ]
    },
    {
      "cell_type": "code",
      "metadata": {
        "id": "G103az_e1UJz",
        "outputId": "8d03a551-1d21-4595-adf5-21fb41b5fda2",
        "colab": {
          "base_uri": "https://localhost:8080/"
        }
      },
      "source": [
        "# 8. np.min(np_a)              ### หา min ของทั้งหมด\n",
        "\n",
        "minV = 100000\n",
        "for row in range(np_a.shape[0]):\n",
        "    for col in range(np_a.shape[1]):\n",
        "        if np_a[row,col] < minV:\n",
        "            minV = np_a[row,col]\n",
        "print(minV)"
      ],
      "execution_count": 71,
      "outputs": [
        {
          "output_type": "stream",
          "name": "stdout",
          "text": [
            "1\n"
          ]
        }
      ]
    },
    {
      "cell_type": "code",
      "metadata": {
        "id": "D12TVZyr1WA5",
        "outputId": "ee4a2538-605b-47c2-fb62-9c6a4a8a534b",
        "colab": {
          "base_uri": "https://localhost:8080/"
        }
      },
      "source": [
        "# 9. np.max(np_a,axis=0)         ### หา min ของแต่ละ column\n",
        "\n",
        "max_all = -100000 * np.ones(np_a.shape[1])\n",
        "for col in range(np_a.shape[1]):\n",
        "    for row in range(np_a.shape[0]):\n",
        "        if np_a[row,col] > max_all[col]: \n",
        "            max_all[col] = np_a[row,col]\n",
        "print(max_all)"
      ],
      "execution_count": 72,
      "outputs": [
        {
          "output_type": "stream",
          "name": "stdout",
          "text": [
            "[4. 5. 6.]\n"
          ]
        }
      ]
    },
    {
      "cell_type": "code",
      "metadata": {
        "id": "NiD6aohM1Y3e",
        "outputId": "644a2989-5722-477a-b324-6009f1ebd5f2",
        "colab": {
          "base_uri": "https://localhost:8080/"
        }
      },
      "source": [
        "### 10. np.min(np_a,axis=1)         ### หา min ของแต่ละ row\n",
        "\n",
        "min_row = np.zeros(np_a.shape[0])\n",
        "for row in range(np_a.shape[0]):\n",
        "   min_row[row] = min(np_a[row,:])\n",
        "print(min_row)"
      ],
      "execution_count": 73,
      "outputs": [
        {
          "output_type": "stream",
          "name": "stdout",
          "text": [
            "[1. 4.]\n"
          ]
        }
      ]
    },
    {
      "cell_type": "markdown",
      "metadata": {
        "id": "IybPE6_AXw71"
      },
      "source": [
        "#Distance Matrix"
      ]
    },
    {
      "cell_type": "markdown",
      "metadata": {
        "id": "UOdg3o0-2VrM"
      },
      "source": [
        "![distance.png](data:image/png;base64,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)"
      ]
    },
    {
      "cell_type": "code",
      "metadata": {
        "id": "lMhOsIN81guE",
        "colab": {
          "base_uri": "https://localhost:8080/"
        },
        "outputId": "d71813fa-dfea-4ed7-b3f9-884cd9bd89c3"
      },
      "source": [
        "data1 = np.array([[1,2],[3,5],[2,0],[4,5]])\n",
        "data1"
      ],
      "execution_count": 47,
      "outputs": [
        {
          "output_type": "execute_result",
          "data": {
            "text/plain": [
              "array([[1, 2],\n",
              "       [3, 5],\n",
              "       [2, 0],\n",
              "       [4, 5]])"
            ]
          },
          "metadata": {},
          "execution_count": 47
        }
      ]
    },
    {
      "cell_type": "code",
      "metadata": {
        "id": "t-kxDvIiXyw1",
        "colab": {
          "base_uri": "https://localhost:8080/",
          "height": 282
        },
        "outputId": "f4a8e01e-95f5-4955-b114-e676fca382a3"
      },
      "source": [
        "from matplotlib import pyplot as plt \n",
        "plt.scatter(data1[:,0],data1[:,1])"
      ],
      "execution_count": 48,
      "outputs": [
        {
          "output_type": "execute_result",
          "data": {
            "text/plain": [
              "<matplotlib.collections.PathCollection at 0x7effd5240310>"
            ]
          },
          "metadata": {},
          "execution_count": 48
        },
        {
          "output_type": "display_data",
          "data": {
            "image/png": "[encoded data removed]",
            "text/plain": [
              "<Figure size 432x288 with 1 Axes>"
            ]
          },
          "metadata": {
            "needs_background": "light"
          }
        }
      ]
    },
    {
      "cell_type": "markdown",
      "metadata": {
        "id": "Jj99BUvQcNUX"
      },
      "source": [
        "##Euclidean Distance (L2-norm)\n",
        "$\\sqrt{(x_1-x_2)^2+(y_1-y_2)^2}$"
      ]
    },
    {
      "cell_type": "markdown",
      "metadata": {
        "id": "gcEwsQsccPMT"
      },
      "source": [
        "**dist(P1,P2)**"
      ]
    },
    {
      "cell_type": "code",
      "metadata": {
        "id": "tnDHkZ1mXz6s",
        "colab": {
          "base_uri": "https://localhost:8080/"
        },
        "outputId": "e3308c2c-feba-4d10-e742-96a1548f8bb0"
      },
      "source": [
        "### ใช้ np.sqrt\n",
        "dist_p1_p2 = np.sqrt(np.power(data1[0,0]-data1[1,0],2) + np.power(data1[0,1]-data1[1,1],2))\n",
        "dist_p1_p2"
      ],
      "execution_count": 74,
      "outputs": [
        {
          "output_type": "execute_result",
          "data": {
            "text/plain": [
              "3.605551275463989"
            ]
          },
          "metadata": {},
          "execution_count": 74
        }
      ]
    },
    {
      "cell_type": "code",
      "metadata": {
        "id": "naKOrekfcRDH",
        "colab": {
          "base_uri": "https://localhost:8080/"
        },
        "outputId": "7ace839c-7391-477c-e40e-499290a95be4"
      },
      "source": [
        "### ใช้ np.power (ยกกำลัง)\n",
        "dist_p1_p2 = np.power(np.power(data1[0,0]-data1[1,0],2) + np.power(data1[0,1]-data1[1,1],2),0.5)\n",
        "dist_p1_p2"
      ],
      "execution_count": 75,
      "outputs": [
        {
          "output_type": "execute_result",
          "data": {
            "text/plain": [
              "3.605551275463989"
            ]
          },
          "metadata": {},
          "execution_count": 75
        }
      ]
    },
    {
      "cell_type": "markdown",
      "metadata": {
        "id": "UsZoQZWkcTq3"
      },
      "source": [
        "**dist(P2,P4)**"
      ]
    },
    {
      "cell_type": "code",
      "metadata": {
        "id": "HTDK0CmncSnI",
        "colab": {
          "base_uri": "https://localhost:8080/"
        },
        "outputId": "4c61bdb0-d85a-4a1c-f522-f04036c65d5d"
      },
      "source": [
        "dist_p2_p4 = np.sqrt(np.power(data1[1,0]-data1[3,0],2)+np.power(data1[1,1]-data1[3,1],2))\n",
        "dist_p2_p4"
      ],
      "execution_count": 51,
      "outputs": [
        {
          "output_type": "execute_result",
          "data": {
            "text/plain": [
              "1.0"
            ]
          },
          "metadata": {},
          "execution_count": 51
        }
      ]
    },
    {
      "cell_type": "markdown",
      "metadata": {
        "id": "EvRH2QkWcXAA"
      },
      "source": [
        "##Distance Function"
      ]
    },
    {
      "cell_type": "markdown",
      "metadata": {
        "id": "Doe__QrAcYvl"
      },
      "source": [
        "p1=[x,y]\n",
        "\n",
        "dim = 2   (2 มิติ)"
      ]
    },
    {
      "cell_type": "code",
      "metadata": {
        "id": "GCpuVGJ_cVb2"
      },
      "source": [
        "def dist_l2_2(p1,p2):\n",
        "    return np.sqrt(np.power(p1[0]-p2[0],2)+np.power(p1[1]-p2[1],2))"
      ],
      "execution_count": 52,
      "outputs": []
    },
    {
      "cell_type": "code",
      "metadata": {
        "id": "EGKKCtOuccJ-",
        "colab": {
          "base_uri": "https://localhost:8080/"
        },
        "outputId": "186a4eab-22c7-407a-f303-9e091a2e2de7"
      },
      "source": [
        "### จุดที่ 1 กับ จดที่ 2      ### ตัดจุดที่ 1 กับ จุดที่ 2 มาจาก matrix\n",
        "dist_l2(data1[0,:],data1[1,:])"
      ],
      "execution_count": 76,
      "outputs": [
        {
          "output_type": "execute_result",
          "data": {
            "text/plain": [
              "3.605551275463989"
            ]
          },
          "metadata": {},
          "execution_count": 76
        }
      ]
    },
    {
      "cell_type": "code",
      "metadata": {
        "id": "SDa1pQpLfxIx",
        "colab": {
          "base_uri": "https://localhost:8080/"
        },
        "outputId": "7f81d075-a64e-45a0-bffb-9fa890d4c60b"
      },
      "source": [
        "### จุดที่ 2 กับ จดที่ 4\n",
        "dist_l2(data1[1,:],data1[3,:])"
      ],
      "execution_count": 77,
      "outputs": [
        {
          "output_type": "execute_result",
          "data": {
            "text/plain": [
              "1.0"
            ]
          },
          "metadata": {},
          "execution_count": 77
        }
      ]
    },
    {
      "cell_type": "markdown",
      "metadata": {
        "id": "b9u0243wfzsf"
      },
      "source": [
        "dim = n"
      ]
    },
    {
      "cell_type": "code",
      "metadata": {
        "id": "kt5Le1VsfyMt"
      },
      "source": [
        "def dist_l2_n(p1,p2):\n",
        "    sum = 0\n",
        "    for i in range(len(p1)) :\n",
        "        sum = sum + np.power(p1[i]-p2[i],2)\n",
        "    return np.sqrt(sum)"
      ],
      "execution_count": 55,
      "outputs": []
    },
    {
      "cell_type": "code",
      "metadata": {
        "id": "VzwW4v6Nf1Bd",
        "colab": {
          "base_uri": "https://localhost:8080/"
        },
        "outputId": "85139805-b168-4465-f946-0ea56a2b8987"
      },
      "source": [
        "dist_l2_n(data1[0,:],data1[1,:])"
      ],
      "execution_count": 56,
      "outputs": [
        {
          "output_type": "execute_result",
          "data": {
            "text/plain": [
              "3.605551275463989"
            ]
          },
          "metadata": {},
          "execution_count": 56
        }
      ]
    },
    {
      "cell_type": "markdown",
      "metadata": {
        "id": "Yb-MXtB_f33L"
      },
      "source": [
        "##Manhattan Distance(L1-norm)"
      ]
    },
    {
      "cell_type": "markdown",
      "metadata": {
        "id": "57C7mNbFPyOK"
      },
      "source": [
        "$|x_1-x_2|+|y_1-y_2|$"
      ]
    },
    {
      "cell_type": "code",
      "metadata": {
        "id": "Qxz0Gsq52pz5",
        "outputId": "6b0c53b9-7bc1-45d2-9954-ecd2db0d8685",
        "colab": {
          "base_uri": "https://localhost:8080/"
        }
      },
      "source": [
        "data1"
      ],
      "execution_count": 78,
      "outputs": [
        {
          "output_type": "execute_result",
          "data": {
            "text/plain": [
              "array([[1, 2],\n",
              "       [3, 5],\n",
              "       [2, 0],\n",
              "       [4, 5]])"
            ]
          },
          "metadata": {},
          "execution_count": 78
        }
      ]
    },
    {
      "cell_type": "code",
      "metadata": {
        "id": "oXhut4yD2r7B",
        "outputId": "825d8897-2be8-4570-d7be-9fba63ee96fb",
        "colab": {
          "base_uri": "https://localhost:8080/",
          "height": 282
        }
      },
      "source": [
        "from matplotlib import pyplot as plt\n",
        "plt.scatter(data1[:,0],data1[:,1])"
      ],
      "execution_count": 79,
      "outputs": [
        {
          "output_type": "execute_result",
          "data": {
            "text/plain": [
              "<matplotlib.collections.PathCollection at 0x7effd5240250>"
            ]
          },
          "metadata": {},
          "execution_count": 79
        },
        {
          "output_type": "display_data",
          "data": {
            "image/png": "[encoded data removed]",
            "text/plain": [
              "<Figure size 432x288 with 1 Axes>"
            ]
          },
          "metadata": {
            "needs_background": "light"
          }
        }
      ]
    },
    {
      "cell_type": "markdown",
      "metadata": {
        "id": "zG1zT_U-P0DC"
      },
      "source": [
        "#quiz6\n",
        "\n",
        "เขียน function คำนวณ manhattan distance ของ ข้อมูล 2 dimensions"
      ]
    },
    {
      "cell_type": "code",
      "metadata": {
        "id": "XbAV-eRof2ku"
      },
      "source": [
        "def dist_l1(p1,p2):\n",
        "    return (np.abs(p1[0]-p2[0])+np.abs(p1[1]-p2[1]))"
      ],
      "execution_count": 57,
      "outputs": []
    },
    {
      "cell_type": "code",
      "metadata": {
        "id": "wUAvnLttf5N2",
        "colab": {
          "base_uri": "https://localhost:8080/"
        },
        "outputId": "3caf553b-cbfe-4fb7-82c7-9953a62af685"
      },
      "source": [
        "dist_l1(data1[0,:],data1[1,:])"
      ],
      "execution_count": 58,
      "outputs": [
        {
          "output_type": "execute_result",
          "data": {
            "text/plain": [
              "5"
            ]
          },
          "metadata": {},
          "execution_count": 58
        }
      ]
    },
    {
      "cell_type": "markdown",
      "metadata": {
        "id": "BelDw--BP5J-"
      },
      "source": [
        "**HW11**\n",
        "- Function คำนวณ manhattan distance ของ ข้อมูล N dimensions\n",
        "- Function คำนวณ L-$\\infty$ ของ ข้อมูล N dimensions\n",
        "- Function คำนวณ Distance Matrix ด้วย Euclidean Distance"
      ]
    },
    {
      "cell_type": "markdown",
      "metadata": {
        "id": "iz_XCL5EQEWS"
      },
      "source": [
        "![ll.PNG](data:image/png;base64,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)"
      ]
    },
    {
      "cell_type": "markdown",
      "metadata": {
        "id": "dOC7qOX0QJkr"
      },
      "source": [
        "***Function คำนวณ manhattan distance ของ ข้อมูล N dimensions***"
      ]
    },
    {
      "cell_type": "markdown",
      "metadata": {
        "id": "96qdb9xXXeTZ"
      },
      "source": [
        "$|x1−x2|+|y1−y2|$"
      ]
    },
    {
      "cell_type": "code",
      "metadata": {
        "id": "0FPfJTZpQD8h"
      },
      "source": [
        "def dist_l1_n(p1,p2):\n",
        "    sum = 0\n",
        "    for i in range(len(p1)) :\n",
        "        sum = sum + np.abs(p1[i]-p2[i])\n",
        "    return sum"
      ],
      "execution_count": 59,
      "outputs": []
    },
    {
      "cell_type": "code",
      "metadata": {
        "id": "Dbi-_2BRP1Pi",
        "colab": {
          "base_uri": "https://localhost:8080/"
        },
        "outputId": "79e5c757-f386-4178-c9d4-f2e2b54e3865"
      },
      "source": [
        "dist_l1_n(data1[0,:],data1[1,:])"
      ],
      "execution_count": 60,
      "outputs": [
        {
          "output_type": "execute_result",
          "data": {
            "text/plain": [
              "5"
            ]
          },
          "metadata": {},
          "execution_count": 60
        }
      ]
    },
    {
      "cell_type": "code",
      "metadata": {
        "id": "D35f24m728t7",
        "outputId": "c8165c8c-ae79-4d7f-9815-cd4bb8cbf42e",
        "colab": {
          "base_uri": "https://localhost:8080/"
        }
      },
      "source": [
        "dist_l1_n(data1[2,:],data1[3,:])"
      ],
      "execution_count": 80,
      "outputs": [
        {
          "output_type": "execute_result",
          "data": {
            "text/plain": [
              "7"
            ]
          },
          "metadata": {},
          "execution_count": 80
        }
      ]
    },
    {
      "cell_type": "markdown",
      "metadata": {
        "id": "elzy2mQuXlyf"
      },
      "source": [
        "***Function คำนวณ L- ∞  ของ ข้อมูล N dimensions***"
      ]
    },
    {
      "cell_type": "markdown",
      "metadata": {
        "id": "6uRvWagcXo0T"
      },
      "source": [
        "$lim\\sqrt{|x_1-x_2|^n+|y_1-y_2|^n} = max|x_1 - x_2|$"
      ]
    },
    {
      "cell_type": "code",
      "metadata": {
        "id": "yq5q0IsZXkI6"
      },
      "source": [
        "### Function คำนวณ L- ∞ ของ ข้อมูล N dimensions\n",
        "### หาแกนที่มีค่ามากสุด\n",
        "\n",
        "def dist_linfinity_n(p1,p2):\n",
        "    for i in range(len(p1)):\n",
        "        max = np.abs(p1[i] - p2[i])\n",
        "    return max"
      ],
      "execution_count": 82,
      "outputs": []
    },
    {
      "cell_type": "code",
      "metadata": {
        "id": "k-3Fo9XFXrUh",
        "colab": {
          "base_uri": "https://localhost:8080/"
        },
        "outputId": "3116edc7-f54d-4fd3-ab40-89fb72e17719"
      },
      "source": [
        "### x1, x2\n",
        "dist_linfinity_n(data1[0,:],data1[1,:])"
      ],
      "execution_count": 83,
      "outputs": [
        {
          "output_type": "execute_result",
          "data": {
            "text/plain": [
              "3"
            ]
          },
          "metadata": {},
          "execution_count": 83
        }
      ]
    },
    {
      "cell_type": "code",
      "metadata": {
        "id": "OiIs3Euw3ZEO",
        "outputId": "c8a61b73-f97c-4379-9763-b161434d64b6",
        "colab": {
          "base_uri": "https://localhost:8080/"
        }
      },
      "source": [
        "### x2, x3\n",
        "dist_linfinity_n(data1[1,:],data1[2,:])"
      ],
      "execution_count": 84,
      "outputs": [
        {
          "output_type": "execute_result",
          "data": {
            "text/plain": [
              "5"
            ]
          },
          "metadata": {},
          "execution_count": 84
        }
      ]
    },
    {
      "cell_type": "code",
      "metadata": {
        "id": "axT6LqPC3bPW"
      },
      "source": [
        "## อาจารย์เฉลย\n",
        "\n",
        "def dist_lint_n(p1,p2):\n",
        "    maxv = -10000\n",
        "    for i in range(len(p1)):\n",
        "        this_dist = np.abs(p1[i]-p2[i])\n",
        "        if this_dist > maxv:\n",
        "            maxv = this_dist\n",
        "    return maxv"
      ],
      "execution_count": 85,
      "outputs": []
    },
    {
      "cell_type": "code",
      "metadata": {
        "id": "ZbJmro5H3c-w",
        "outputId": "420c7720-179f-48af-a043-edc682727a5a",
        "colab": {
          "base_uri": "https://localhost:8080/"
        }
      },
      "source": [
        "dist_lint_n(data1[0,:],data1[2,:])"
      ],
      "execution_count": 86,
      "outputs": [
        {
          "output_type": "execute_result",
          "data": {
            "text/plain": [
              "2"
            ]
          },
          "metadata": {},
          "execution_count": 86
        }
      ]
    },
    {
      "cell_type": "code",
      "metadata": {
        "id": "JRYedCl83ejN",
        "outputId": "2a7a2a09-c366-4636-e870-98931499105b",
        "colab": {
          "base_uri": "https://localhost:8080/"
        }
      },
      "source": [
        "dist_lint_n([-20,2,7],[0,5,9])"
      ],
      "execution_count": 87,
      "outputs": [
        {
          "output_type": "execute_result",
          "data": {
            "text/plain": [
              "20"
            ]
          },
          "metadata": {},
          "execution_count": 87
        }
      ]
    },
    {
      "cell_type": "markdown",
      "metadata": {
        "id": "zM8cRcPjZh4w"
      },
      "source": [
        "***Function คำนวณ Distance Matrix ด้วย Euclidean Distance***"
      ]
    },
    {
      "cell_type": "markdown",
      "metadata": {
        "id": "WqWmPoxOZj4Y"
      },
      "source": [
        "$\\sqrt{(x_1-x_2)^2+(y_1-y_2)^2}$"
      ]
    },
    {
      "cell_type": "code",
      "metadata": {
        "id": "tiBzwJgOXsdy"
      },
      "source": [
        "### อาจารย์เฉลย\n",
        "\n",
        "\n",
        "def dist_mat_eud(data):\n",
        "    d_mat = np.zeros((data.shape[0],data.shape[0]))\n",
        "    for i in range(data.shape[0]):\n",
        "        for j in range(data.shape[0]):\n",
        "            d_mat[i,j] = dist_l2_n(data[i,:],data[j,:])\n",
        "    return d_mat"
      ],
      "execution_count": 88,
      "outputs": []
    },
    {
      "cell_type": "code",
      "metadata": {
        "id": "8tBOrJJNZmiB",
        "colab": {
          "base_uri": "https://localhost:8080/"
        },
        "outputId": "2f7eaa39-59e7-4d5a-b2d2-2802adb356c7"
      },
      "source": [
        "dist_mat_eud(data1)"
      ],
      "execution_count": 89,
      "outputs": [
        {
          "output_type": "execute_result",
          "data": {
            "text/plain": [
              "array([[0.        , 3.60555128, 2.23606798, 4.24264069],\n",
              "       [3.60555128, 0.        , 5.09901951, 1.        ],\n",
              "       [2.23606798, 5.09901951, 0.        , 5.38516481],\n",
              "       [4.24264069, 1.        , 5.38516481, 0.        ]])"
            ]
          },
          "metadata": {},
          "execution_count": 89
        }
      ]
    },
    {
      "cell_type": "markdown",
      "metadata": {
        "id": "3tkJXIxk3lXN"
      },
      "source": [
        "## Distance of Binary Value"
      ]
    },
    {
      "cell_type": "markdown",
      "metadata": {
        "id": "DuUAeaip3nii"
      },
      "source": [
        "![binary-example.png](data:image/png;base64,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)"
      ]
    },
    {
      "cell_type": "code",
      "metadata": {
        "id": "S-XzEDbCZoNg"
      },
      "source": [
        "import pandas as pd"
      ],
      "execution_count": 90,
      "outputs": []
    },
    {
      "cell_type": "code",
      "metadata": {
        "id": "Pqq0d2ig3q6A",
        "outputId": "0b6f3823-21f2-43d0-a499-92d2c11ff323",
        "colab": {
          "base_uri": "https://localhost:8080/",
          "height": 142
        }
      },
      "source": [
        "records = [('Jack',1,1,0,1,0,0,0),\n",
        "        ('Mary',0,1,0,1,0,1,0),\n",
        "        ('Jim',1,1,1,0,0,0,0)]\n",
        "labels = ['Name','Gender','Fever','Cough','Test-1','Test-2','Test-3','Test-4']\n",
        "binary_table = pd.DataFrame.from_records(records, columns=labels)\n",
        "binary_table"
      ],
      "execution_count": 91,
      "outputs": [
        {
          "output_type": "execute_result",
          "data": {
            "text/html": [
              "<div>\n",
              "<style scoped>\n",
              "    .dataframe tbody tr th:only-of-type {\n",
              "        vertical-align: middle;\n",
              "    }\n",
              "\n",
              "    .dataframe tbody tr th {\n",
              "        vertical-align: top;\n",
              "    }\n",
              "\n",
              "    .dataframe thead th {\n",
              "        text-align: right;\n",
              "    }\n",
              "</style>\n",
              "<table border=\"1\" class=\"dataframe\">\n",
              "  <thead>\n",
              "    <tr style=\"text-align: right;\">\n",
              "      <th></th>\n",
              "      <th>Name</th>\n",
              "      <th>Gender</th>\n",
              "      <th>Fever</th>\n",
              "      <th>Cough</th>\n",
              "      <th>Test-1</th>\n",
              "      <th>Test-2</th>\n",
              "      <th>Test-3</th>\n",
              "      <th>Test-4</th>\n",
              "    </tr>\n",
              "  </thead>\n",
              "  <tbody>\n",
              "    <tr>\n",
              "      <th>0</th>\n",
              "      <td>Jack</td>\n",
              "      <td>1</td>\n",
              "      <td>1</td>\n",
              "      <td>0</td>\n",
              "      <td>1</td>\n",
              "      <td>0</td>\n",
              "      <td>0</td>\n",
              "      <td>0</td>\n",
              "    </tr>\n",
              "    <tr>\n",
              "      <th>1</th>\n",
              "      <td>Mary</td>\n",
              "      <td>0</td>\n",
              "      <td>1</td>\n",
              "      <td>0</td>\n",
              "      <td>1</td>\n",
              "      <td>0</td>\n",
              "      <td>1</td>\n",
              "      <td>0</td>\n",
              "    </tr>\n",
              "    <tr>\n",
              "      <th>2</th>\n",
              "      <td>Jim</td>\n",
              "      <td>1</td>\n",
              "      <td>1</td>\n",
              "      <td>1</td>\n",
              "      <td>0</td>\n",
              "      <td>0</td>\n",
              "      <td>0</td>\n",
              "      <td>0</td>\n",
              "    </tr>\n",
              "  </tbody>\n",
              "</table>\n",
              "</div>"
            ],
            "text/plain": [
              "   Name  Gender  Fever  Cough  Test-1  Test-2  Test-3  Test-4\n",
              "0  Jack       1      1      0       1       0       0       0\n",
              "1  Mary       0      1      0       1       0       1       0\n",
              "2   Jim       1      1      1       0       0       0       0"
            ]
          },
          "metadata": {},
          "execution_count": 91
        }
      ]
    },
    {
      "cell_type": "code",
      "metadata": {
        "id": "FUYPKdNa3ruY"
      },
      "source": [
        "def dist_binary_symmetric(p1,p2):\n",
        "    q = 0\n",
        "    r = 0\n",
        "    s = 0\n",
        "    t = 0\n",
        "\n",
        "    for i in range(len(p1)):\n",
        "        if (p1[i] == 1) and (p2[i] == 1):\n",
        "            q = q + 1\n",
        "        if (p1[i] == 0) and (p2[i] == 1):\n",
        "            r = r + 1\n",
        "        if (p1[i] == 1) and (p2[i] == 0):\n",
        "            s = s + 1\n",
        "        if (p1[i] == 0) and (p2[i] == 0):\n",
        "            t = t + 1\n",
        "    return (r+s)/(q+r+s+t)\n"
      ],
      "execution_count": 92,
      "outputs": []
    },
    {
      "cell_type": "code",
      "metadata": {
        "id": "eKR6ckE53tH3",
        "outputId": "ab4849a8-3f55-40cf-c562-4870d33e0d5e",
        "colab": {
          "base_uri": "https://localhost:8080/"
        }
      },
      "source": [
        "dist_binary_symmetric(binary_table.iloc[0,1:],binary_table.iloc[1,1:])"
      ],
      "execution_count": 93,
      "outputs": [
        {
          "output_type": "execute_result",
          "data": {
            "text/plain": [
              "0.2857142857142857"
            ]
          },
          "metadata": {},
          "execution_count": 93
        }
      ]
    },
    {
      "cell_type": "code",
      "metadata": {
        "id": "QAG9_ah73ucH"
      },
      "source": [
        ""
      ],
      "execution_count": null,
      "outputs": []
    }
  ]
}