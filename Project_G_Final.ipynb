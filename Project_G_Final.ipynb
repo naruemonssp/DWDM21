{
  "nbformat": 4,
  "nbformat_minor": 0,
  "metadata": {
    "colab": {
      "name": "Project_G_Final.ipynb",
      "provenance": [],
      "authorship_tag": "ABX9TyNI7mg1o202rryJCnfcJLl5",
      "include_colab_link": true
    },
    "kernelspec": {
      "name": "python3",
      "display_name": "Python 3"
    },
    "language_info": {
      "name": "python"
    }
  },
  "cells": [
    {
      "cell_type": "markdown",
      "metadata": {
        "id": "view-in-github",
        "colab_type": "text"
      },
      "source": [
        "<a href=\"https://colab.research.google.com/github/naruemonssp/DWDM21/blob/main/Project_G_Final.ipynb\" target=\"_parent\"><img src=\"https://colab.research.google.com/assets/colab-badge.svg\" alt=\"Open In Colab\"/></a>"
      ]
    },
    {
      "cell_type": "markdown",
      "metadata": {
        "id": "2tP5Ad0M-pg-"
      },
      "source": [
        "## **สมาชิก**\n",
        "\n",
        "\n",
        "\n",
        "1.   623020516-1 นางสาวชนัญชิดา เมธีกุลมานิต\n",
        "2.   623020521-8 นางสาวณิชากร ไชยสุวรรณ\n",
        "3.   623021040-9 นางสาวกิตติมา อุปสุข\n",
        "4.   623021050-6 นางสาวนฤมล ไสยโสภณ\n",
        "5.   623021052-2 นางสาวภิญญาดา เพ็ญสุข\n",
        "\n",
        "\n"
      ]
    },
    {
      "cell_type": "markdown",
      "metadata": {
        "id": "Ft97cUUB-4TJ"
      },
      "source": [
        "**แหล่งที่มาของข้อมูล**\n",
        "\n",
        "* ย่านชุมชนเก่า แหล่งที่มาของข้อมูล\n",
        "\n",
        "https://data.go.th/dataset/old-community?fbclid=IwAR0TJxEAwTtBKYS853iy-LVEDE09z9WawwXii0BufdHWwojpU0_Lvw3ciYM\n",
        "\n",
        "* ผู้เยี่ยมเยือน จำแนกตามรายจังหวัด แหล่งที่มาของข้อมูล\n",
        "\n",
        "https://data.go.th/dataset/visitors?fbclid=IwAR0mLjK4IUjLWa99UBhG5sM6FGGnicg_iVRzQHTp8btujsUbFEOzmGFaRYA\n",
        "\n",
        "* รายได้จากการท่องเที่ยว จำแนกตามรายจังหวัด แหล่งที่มา\n",
        "\n",
        "https://data.go.th/dataset/1559?fbclid=IwAR3-ZnxUzDyap-vs3T3vdkkwXgIu5ye3pwha8okKoZk6MQMhYl6KNmYeu9M"
      ]
    },
    {
      "cell_type": "code",
      "metadata": {
        "id": "rTbX-BVa-OxO"
      },
      "source": [
        "import pandas as pd # ทำงานกับข้อมูลลักษณะตาราง"
      ],
      "execution_count": 16,
      "outputs": []
    },
    {
      "cell_type": "code",
      "metadata": {
        "colab": {
          "base_uri": "https://localhost:8080/"
        },
        "id": "880XCrFa_HdA",
        "outputId": "141828ef-1c05-47ff-f177-a405186a263a"
      },
      "source": [
        "from google.colab import drive # package เชื่อม google  drive\n",
        "drive.mount('/content/drive')"
      ],
      "execution_count": 17,
      "outputs": [
        {
          "output_type": "stream",
          "name": "stdout",
          "text": [
            "Drive already mounted at /content/drive; to attempt to forcibly remount, call drive.mount(\"/content/drive\", force_remount=True).\n"
          ]
        }
      ]
    },
    {
      "cell_type": "code",
      "metadata": {
        "colab": {
          "base_uri": "https://localhost:8080/"
        },
        "id": "CedyXswP_JQ4",
        "outputId": "e8e64c13-2f30-43be-cb6c-4328436ad1fe"
      },
      "source": [
        "ls # ตรวจสอบว่า colab เชื่อมต่อ google drive"
      ],
      "execution_count": 18,
      "outputs": [
        {
          "output_type": "stream",
          "name": "stdout",
          "text": [
            "\u001b[0m\u001b[01;34mdrive\u001b[0m/  \u001b[01;34msample_data\u001b[0m/\n"
          ]
        }
      ]
    },
    {
      "cell_type": "code",
      "metadata": {
        "id": "7boKmIgI_SQt"
      },
      "source": [
        "import os # จัดการไฟล์และ path (ที่อยู่ของไฟล์)"
      ],
      "execution_count": 19,
      "outputs": []
    },
    {
      "cell_type": "code",
      "metadata": {
        "id": "v63YHZJL_TaR"
      },
      "source": [
        "path = '/content/drive/My Drive/DWDM2021_DATA'"
      ],
      "execution_count": 20,
      "outputs": []
    },
    {
      "cell_type": "markdown",
      "metadata": {
        "id": "1huYQ3vh_X7h"
      },
      "source": [
        "### **Preprocessing**"
      ]
    },
    {
      "cell_type": "markdown",
      "metadata": {
        "id": "U5npV4Be_hGp"
      },
      "source": [
        "**นำเข้าข้อมูล**\n",
        "\n",
        "\n",
        "**ข้อมูลที่ 1 ย่านชุมชนเก่า**"
      ]
    },
    {
      "cell_type": "code",
      "metadata": {
        "id": "o0o4oAOE_TXt",
        "outputId": "f7a6d77a-c4d1-4dfe-df3d-5916218e34d6",
        "colab": {
          "base_uri": "https://localhost:8080/",
          "height": 606
        }
      },
      "source": [
        "data_1 = pd.read_csv(os.path.join(path,'old-community-area-updated-may-ใหม่ล่าสุด.csv')) # ย่านชุมชนเก่า\n",
        "data_1"
      ],
      "execution_count": 21,
      "outputs": [
        {
          "output_type": "execute_result",
          "data": {
            "text/html": [
              "<div>\n",
              "<style scoped>\n",
              "    .dataframe tbody tr th:only-of-type {\n",
              "        vertical-align: middle;\n",
              "    }\n",
              "\n",
              "    .dataframe tbody tr th {\n",
              "        vertical-align: top;\n",
              "    }\n",
              "\n",
              "    .dataframe thead th {\n",
              "        text-align: right;\n",
              "    }\n",
              "</style>\n",
              "<table border=\"1\" class=\"dataframe\">\n",
              "  <thead>\n",
              "    <tr style=\"text-align: right;\">\n",
              "      <th></th>\n",
              "      <th>ลำดับที่</th>\n",
              "      <th>ชื่อย่านชุมชนเก่า</th>\n",
              "      <th>ตำบล</th>\n",
              "      <th>อำเภอ</th>\n",
              "      <th>จังหวัด</th>\n",
              "      <th>ภาค</th>\n",
              "      <th>East</th>\n",
              "      <th>North</th>\n",
              "      <th>ลักษณะชุมชน</th>\n",
              "      <th>ลักษณะสำคัญ</th>\n",
              "    </tr>\n",
              "  </thead>\n",
              "  <tbody>\n",
              "    <tr>\n",
              "      <th>0</th>\n",
              "      <td>1</td>\n",
              "      <td>นครชุม</td>\n",
              "      <td>นครชุม</td>\n",
              "      <td>เมืองกำแพงเพชร</td>\n",
              "      <td>กำแพงเพชร</td>\n",
              "      <td>กลาง</td>\n",
              "      <td>552752.0317</td>\n",
              "      <td>1822472.131</td>\n",
              "      <td>เป็นชุมชนตลาด</td>\n",
              "      <td>นครชุม เป็นชุมชนตลาดการค้า ที่มีประวัติความเป็...</td>\n",
              "    </tr>\n",
              "    <tr>\n",
              "      <th>1</th>\n",
              "      <td>2</td>\n",
              "      <td>บ้านพรานกระต่าย</td>\n",
              "      <td>ถ้ำกระต่ายทอง</td>\n",
              "      <td>พรานกระต่าย</td>\n",
              "      <td>กำแพงเพชร</td>\n",
              "      <td>กลาง</td>\n",
              "      <td>562744.2062</td>\n",
              "      <td>1842633.828</td>\n",
              "      <td>เป็นชุมชนเกษตรกรรม</td>\n",
              "      <td>บ้านพรานกระต่าย เป็นชุมชนเกษตรกรรมชนบท ที่มีเร...</td>\n",
              "    </tr>\n",
              "    <tr>\n",
              "      <th>2</th>\n",
              "      <td>3</td>\n",
              "      <td>บ้านห้วยแม่ซ้าย (บ้านยะฟู)</td>\n",
              "      <td>แม่ยาว</td>\n",
              "      <td>เมืองเชียงราย</td>\n",
              "      <td>เชียงราย</td>\n",
              "      <td>เหนือ</td>\n",
              "      <td>576712.0936</td>\n",
              "      <td>2209887.554</td>\n",
              "      <td>เป็นชุมชนเกษตรกรรม</td>\n",
              "      <td>บ้านห้วยแม่ซ้าย เป็นชุมชนเกษตรกรรม และชุมชนชาต...</td>\n",
              "    </tr>\n",
              "    <tr>\n",
              "      <th>3</th>\n",
              "      <td>4</td>\n",
              "      <td>บ้านถ้ำผาตอง</td>\n",
              "      <td>ท่าสุด</td>\n",
              "      <td>เมืองเชียงราย</td>\n",
              "      <td>เชียงราย</td>\n",
              "      <td>เหนือ</td>\n",
              "      <td>594024.4964</td>\n",
              "      <td>2220483.832</td>\n",
              "      <td>เป็นชุมชนเกษตรกรรม</td>\n",
              "      <td>บ้านถ้ำผาตอง เป็นชุมชนเกษตรกรรม และชุมชนกลุ่มอ...</td>\n",
              "    </tr>\n",
              "    <tr>\n",
              "      <th>4</th>\n",
              "      <td>5</td>\n",
              "      <td>บ้านกะเหรี่ยงรวมมิตร</td>\n",
              "      <td>แม่ยาว</td>\n",
              "      <td>เมืองเชียงราย</td>\n",
              "      <td>เชียงราย</td>\n",
              "      <td>เหนือ</td>\n",
              "      <td>574379.3488</td>\n",
              "      <td>2207223.193</td>\n",
              "      <td>เป็นชุมชนเกษตรกรรม</td>\n",
              "      <td>บ้านกะเหรี่ยงรวมมิตร เป็นชุมชนเกษตรกรรม ชุมชนต...</td>\n",
              "    </tr>\n",
              "    <tr>\n",
              "      <th>...</th>\n",
              "      <td>...</td>\n",
              "      <td>...</td>\n",
              "      <td>...</td>\n",
              "      <td>...</td>\n",
              "      <td>...</td>\n",
              "      <td>...</td>\n",
              "      <td>...</td>\n",
              "      <td>...</td>\n",
              "      <td>...</td>\n",
              "      <td>...</td>\n",
              "    </tr>\n",
              "    <tr>\n",
              "      <th>608</th>\n",
              "      <td>609</td>\n",
              "      <td>ชุมชนบ้านปะอาว</td>\n",
              "      <td>ปะอาว</td>\n",
              "      <td>เมืองอุบลราชธานี</td>\n",
              "      <td>อุบลราชธานี</td>\n",
              "      <td>ตะวันออกเฉียงเหนือ</td>\n",
              "      <td>470529.6991</td>\n",
              "      <td>1697790.579</td>\n",
              "      <td>เป็นชุมชนชนบท</td>\n",
              "      <td>ชุมชนบ้านปะอาว เป็นชุมชนชนบทตั้งอยู่บนที่ดอน พ...</td>\n",
              "    </tr>\n",
              "    <tr>\n",
              "      <th>609</th>\n",
              "      <td>610</td>\n",
              "      <td>ชุมชนพาณิชยกรรมเก่า</td>\n",
              "      <td>วารินชำราบ</td>\n",
              "      <td>วารินชำราบ</td>\n",
              "      <td>อุบลราชธานี</td>\n",
              "      <td>ตะวันออกเฉียงเหนือ</td>\n",
              "      <td>485281.0265</td>\n",
              "      <td>1680326.802</td>\n",
              "      <td>เป็นชุมชนย่านพาณิชยกรรมเก่า</td>\n",
              "      <td>ชุมชนพาณิชยกรรมเก่า เป็นย่านพาณิชยกรรมเก่าแห่ง...</td>\n",
              "    </tr>\n",
              "    <tr>\n",
              "      <th>610</th>\n",
              "      <td>611</td>\n",
              "      <td>ชุมชนแก่งสะพือ</td>\n",
              "      <td>พิบูลมังสาหาร</td>\n",
              "      <td>พิบูลมังสาหาร</td>\n",
              "      <td>อุบลราชธานี</td>\n",
              "      <td>ตะวันออกเฉียงเหนือ</td>\n",
              "      <td>525387.1286</td>\n",
              "      <td>1685535.918</td>\n",
              "      <td>เป็นชุมชนเมืองเก่า</td>\n",
              "      <td>ชุมชนแก่งสะพือ เป็นย่านชุมชนเก่าริมน้ำแม่น้ำมู...</td>\n",
              "    </tr>\n",
              "    <tr>\n",
              "      <th>611</th>\n",
              "      <td>612</td>\n",
              "      <td>ชุมชนบ้านแคน</td>\n",
              "      <td>ดอนมดแดง</td>\n",
              "      <td>ดอนมดแดง</td>\n",
              "      <td>อุบลราชธานี</td>\n",
              "      <td>ตะวันออกเฉียงเหนือ</td>\n",
              "      <td>503277.5178</td>\n",
              "      <td>1692398.86</td>\n",
              "      <td>เป็นชุมชนชนบท</td>\n",
              "      <td>ชุมชนบ้านแคน เป็นชุมชนชนบทตั้งอยู่บนที่ดอน พื้...</td>\n",
              "    </tr>\n",
              "    <tr>\n",
              "      <th>612</th>\n",
              "      <td>613</td>\n",
              "      <td>ชุมชนบ้านชาด</td>\n",
              "      <td>เค็งใหญ่</td>\n",
              "      <td>หัวตะพาน</td>\n",
              "      <td>อำนาจเจริญ</td>\n",
              "      <td>ตะวันออกเฉียงเหนือ</td>\n",
              "      <td>420835.9213</td>\n",
              "      <td>1758462.158</td>\n",
              "      <td>เป็นชุมชนเมืองเก่า</td>\n",
              "      <td>ชุมชนบ้านชาด เป็นชุมชนเก่าตั้งอยู่ใกล้กับแหล่ง...</td>\n",
              "    </tr>\n",
              "  </tbody>\n",
              "</table>\n",
              "<p>613 rows × 10 columns</p>\n",
              "</div>"
            ],
            "text/plain": [
              "     ลำดับที่  ...                                        ลักษณะสำคัญ\n",
              "0           1  ...  นครชุม เป็นชุมชนตลาดการค้า ที่มีประวัติความเป็...\n",
              "1           2  ...  บ้านพรานกระต่าย เป็นชุมชนเกษตรกรรมชนบท ที่มีเร...\n",
              "2           3  ...  บ้านห้วยแม่ซ้าย เป็นชุมชนเกษตรกรรม และชุมชนชาต...\n",
              "3           4  ...  บ้านถ้ำผาตอง เป็นชุมชนเกษตรกรรม และชุมชนกลุ่มอ...\n",
              "4           5  ...  บ้านกะเหรี่ยงรวมมิตร เป็นชุมชนเกษตรกรรม ชุมชนต...\n",
              "..        ...  ...                                                ...\n",
              "608       609  ...  ชุมชนบ้านปะอาว เป็นชุมชนชนบทตั้งอยู่บนที่ดอน พ...\n",
              "609       610  ...  ชุมชนพาณิชยกรรมเก่า เป็นย่านพาณิชยกรรมเก่าแห่ง...\n",
              "610       611  ...  ชุมชนแก่งสะพือ เป็นย่านชุมชนเก่าริมน้ำแม่น้ำมู...\n",
              "611       612  ...  ชุมชนบ้านแคน เป็นชุมชนชนบทตั้งอยู่บนที่ดอน พื้...\n",
              "612       613  ...  ชุมชนบ้านชาด เป็นชุมชนเก่าตั้งอยู่ใกล้กับแหล่ง...\n",
              "\n",
              "[613 rows x 10 columns]"
            ]
          },
          "metadata": {},
          "execution_count": 21
        }
      ]
    },
    {
      "cell_type": "markdown",
      "metadata": {
        "id": "aDOtiNhOwBKK"
      },
      "source": [
        "**ตาราง data_city คือ ข้อมูลย่านชุมชนเก่า**\n",
        "\n",
        "**คำอธิบายตาราง**\n",
        "\n",
        "*   ชื่อย่านชุมชนเก่า คือ ชื่อของชุมชนเก่า\n",
        "*   ตำบล คือ ที่ตั้งของชุมชนเก่า\n",
        "* อำเภอ คือ ที่ตั้งของชุมชนเก่า\n",
        "* จังหวัด คือ เขตที่ตั้งของชุมชนเก่า\n",
        "* ภาค คือ ภูมิประเทศที่ตั้งของชุมชนเก่า\n",
        "* East คือ ลองจิจูดองศาตะวันออกที่ตั้งของชุมชนเก่า\n",
        "* North คือ ละติจูดองศาเหนือที่ตั้งของชุมชนเก่า\n",
        "*ลักษณะชุมชน คือ เป็นการบอกถึงลักษณะของชุมชนเก่า\n",
        "* ลักษณะสำคัญ คือ รายละเอียดของชุมชนเก่า"
      ]
    },
    {
      "cell_type": "code",
      "metadata": {
        "id": "Q07cS8ia_TVc",
        "outputId": "3d400c13-edc9-4d32-a19f-a9c2dc6c1532",
        "colab": {
          "base_uri": "https://localhost:8080/",
          "height": 589
        }
      },
      "source": [
        "data_city = data_1[['ชื่อย่านชุมชนเก่า','ตำบล','อำเภอ','จังหวัด','ภาค','East','North','ลักษณะชุมชน','ลักษณะสำคัญ']] # ย่านชุมชนเก่า\n",
        "data_city"
      ],
      "execution_count": 22,
      "outputs": [
        {
          "output_type": "execute_result",
          "data": {
            "text/html": [
              "<div>\n",
              "<style scoped>\n",
              "    .dataframe tbody tr th:only-of-type {\n",
              "        vertical-align: middle;\n",
              "    }\n",
              "\n",
              "    .dataframe tbody tr th {\n",
              "        vertical-align: top;\n",
              "    }\n",
              "\n",
              "    .dataframe thead th {\n",
              "        text-align: right;\n",
              "    }\n",
              "</style>\n",
              "<table border=\"1\" class=\"dataframe\">\n",
              "  <thead>\n",
              "    <tr style=\"text-align: right;\">\n",
              "      <th></th>\n",
              "      <th>ชื่อย่านชุมชนเก่า</th>\n",
              "      <th>ตำบล</th>\n",
              "      <th>อำเภอ</th>\n",
              "      <th>จังหวัด</th>\n",
              "      <th>ภาค</th>\n",
              "      <th>East</th>\n",
              "      <th>North</th>\n",
              "      <th>ลักษณะชุมชน</th>\n",
              "      <th>ลักษณะสำคัญ</th>\n",
              "    </tr>\n",
              "  </thead>\n",
              "  <tbody>\n",
              "    <tr>\n",
              "      <th>0</th>\n",
              "      <td>นครชุม</td>\n",
              "      <td>นครชุม</td>\n",
              "      <td>เมืองกำแพงเพชร</td>\n",
              "      <td>กำแพงเพชร</td>\n",
              "      <td>กลาง</td>\n",
              "      <td>552752.0317</td>\n",
              "      <td>1822472.131</td>\n",
              "      <td>เป็นชุมชนตลาด</td>\n",
              "      <td>นครชุม เป็นชุมชนตลาดการค้า ที่มีประวัติความเป็...</td>\n",
              "    </tr>\n",
              "    <tr>\n",
              "      <th>1</th>\n",
              "      <td>บ้านพรานกระต่าย</td>\n",
              "      <td>ถ้ำกระต่ายทอง</td>\n",
              "      <td>พรานกระต่าย</td>\n",
              "      <td>กำแพงเพชร</td>\n",
              "      <td>กลาง</td>\n",
              "      <td>562744.2062</td>\n",
              "      <td>1842633.828</td>\n",
              "      <td>เป็นชุมชนเกษตรกรรม</td>\n",
              "      <td>บ้านพรานกระต่าย เป็นชุมชนเกษตรกรรมชนบท ที่มีเร...</td>\n",
              "    </tr>\n",
              "    <tr>\n",
              "      <th>2</th>\n",
              "      <td>บ้านห้วยแม่ซ้าย (บ้านยะฟู)</td>\n",
              "      <td>แม่ยาว</td>\n",
              "      <td>เมืองเชียงราย</td>\n",
              "      <td>เชียงราย</td>\n",
              "      <td>เหนือ</td>\n",
              "      <td>576712.0936</td>\n",
              "      <td>2209887.554</td>\n",
              "      <td>เป็นชุมชนเกษตรกรรม</td>\n",
              "      <td>บ้านห้วยแม่ซ้าย เป็นชุมชนเกษตรกรรม และชุมชนชาต...</td>\n",
              "    </tr>\n",
              "    <tr>\n",
              "      <th>3</th>\n",
              "      <td>บ้านถ้ำผาตอง</td>\n",
              "      <td>ท่าสุด</td>\n",
              "      <td>เมืองเชียงราย</td>\n",
              "      <td>เชียงราย</td>\n",
              "      <td>เหนือ</td>\n",
              "      <td>594024.4964</td>\n",
              "      <td>2220483.832</td>\n",
              "      <td>เป็นชุมชนเกษตรกรรม</td>\n",
              "      <td>บ้านถ้ำผาตอง เป็นชุมชนเกษตรกรรม และชุมชนกลุ่มอ...</td>\n",
              "    </tr>\n",
              "    <tr>\n",
              "      <th>4</th>\n",
              "      <td>บ้านกะเหรี่ยงรวมมิตร</td>\n",
              "      <td>แม่ยาว</td>\n",
              "      <td>เมืองเชียงราย</td>\n",
              "      <td>เชียงราย</td>\n",
              "      <td>เหนือ</td>\n",
              "      <td>574379.3488</td>\n",
              "      <td>2207223.193</td>\n",
              "      <td>เป็นชุมชนเกษตรกรรม</td>\n",
              "      <td>บ้านกะเหรี่ยงรวมมิตร เป็นชุมชนเกษตรกรรม ชุมชนต...</td>\n",
              "    </tr>\n",
              "    <tr>\n",
              "      <th>...</th>\n",
              "      <td>...</td>\n",
              "      <td>...</td>\n",
              "      <td>...</td>\n",
              "      <td>...</td>\n",
              "      <td>...</td>\n",
              "      <td>...</td>\n",
              "      <td>...</td>\n",
              "      <td>...</td>\n",
              "      <td>...</td>\n",
              "    </tr>\n",
              "    <tr>\n",
              "      <th>608</th>\n",
              "      <td>ชุมชนบ้านปะอาว</td>\n",
              "      <td>ปะอาว</td>\n",
              "      <td>เมืองอุบลราชธานี</td>\n",
              "      <td>อุบลราชธานี</td>\n",
              "      <td>ตะวันออกเฉียงเหนือ</td>\n",
              "      <td>470529.6991</td>\n",
              "      <td>1697790.579</td>\n",
              "      <td>เป็นชุมชนชนบท</td>\n",
              "      <td>ชุมชนบ้านปะอาว เป็นชุมชนชนบทตั้งอยู่บนที่ดอน พ...</td>\n",
              "    </tr>\n",
              "    <tr>\n",
              "      <th>609</th>\n",
              "      <td>ชุมชนพาณิชยกรรมเก่า</td>\n",
              "      <td>วารินชำราบ</td>\n",
              "      <td>วารินชำราบ</td>\n",
              "      <td>อุบลราชธานี</td>\n",
              "      <td>ตะวันออกเฉียงเหนือ</td>\n",
              "      <td>485281.0265</td>\n",
              "      <td>1680326.802</td>\n",
              "      <td>เป็นชุมชนย่านพาณิชยกรรมเก่า</td>\n",
              "      <td>ชุมชนพาณิชยกรรมเก่า เป็นย่านพาณิชยกรรมเก่าแห่ง...</td>\n",
              "    </tr>\n",
              "    <tr>\n",
              "      <th>610</th>\n",
              "      <td>ชุมชนแก่งสะพือ</td>\n",
              "      <td>พิบูลมังสาหาร</td>\n",
              "      <td>พิบูลมังสาหาร</td>\n",
              "      <td>อุบลราชธานี</td>\n",
              "      <td>ตะวันออกเฉียงเหนือ</td>\n",
              "      <td>525387.1286</td>\n",
              "      <td>1685535.918</td>\n",
              "      <td>เป็นชุมชนเมืองเก่า</td>\n",
              "      <td>ชุมชนแก่งสะพือ เป็นย่านชุมชนเก่าริมน้ำแม่น้ำมู...</td>\n",
              "    </tr>\n",
              "    <tr>\n",
              "      <th>611</th>\n",
              "      <td>ชุมชนบ้านแคน</td>\n",
              "      <td>ดอนมดแดง</td>\n",
              "      <td>ดอนมดแดง</td>\n",
              "      <td>อุบลราชธานี</td>\n",
              "      <td>ตะวันออกเฉียงเหนือ</td>\n",
              "      <td>503277.5178</td>\n",
              "      <td>1692398.86</td>\n",
              "      <td>เป็นชุมชนชนบท</td>\n",
              "      <td>ชุมชนบ้านแคน เป็นชุมชนชนบทตั้งอยู่บนที่ดอน พื้...</td>\n",
              "    </tr>\n",
              "    <tr>\n",
              "      <th>612</th>\n",
              "      <td>ชุมชนบ้านชาด</td>\n",
              "      <td>เค็งใหญ่</td>\n",
              "      <td>หัวตะพาน</td>\n",
              "      <td>อำนาจเจริญ</td>\n",
              "      <td>ตะวันออกเฉียงเหนือ</td>\n",
              "      <td>420835.9213</td>\n",
              "      <td>1758462.158</td>\n",
              "      <td>เป็นชุมชนเมืองเก่า</td>\n",
              "      <td>ชุมชนบ้านชาด เป็นชุมชนเก่าตั้งอยู่ใกล้กับแหล่ง...</td>\n",
              "    </tr>\n",
              "  </tbody>\n",
              "</table>\n",
              "<p>613 rows × 9 columns</p>\n",
              "</div>"
            ],
            "text/plain": [
              "              ชื่อย่านชุมชนเก่า  ...                                        ลักษณะสำคัญ\n",
              "0                        นครชุม  ...  นครชุม เป็นชุมชนตลาดการค้า ที่มีประวัติความเป็...\n",
              "1               บ้านพรานกระต่าย  ...  บ้านพรานกระต่าย เป็นชุมชนเกษตรกรรมชนบท ที่มีเร...\n",
              "2    บ้านห้วยแม่ซ้าย (บ้านยะฟู)  ...  บ้านห้วยแม่ซ้าย เป็นชุมชนเกษตรกรรม และชุมชนชาต...\n",
              "3                  บ้านถ้ำผาตอง  ...  บ้านถ้ำผาตอง เป็นชุมชนเกษตรกรรม และชุมชนกลุ่มอ...\n",
              "4          บ้านกะเหรี่ยงรวมมิตร  ...  บ้านกะเหรี่ยงรวมมิตร เป็นชุมชนเกษตรกรรม ชุมชนต...\n",
              "..                          ...  ...                                                ...\n",
              "608              ชุมชนบ้านปะอาว  ...  ชุมชนบ้านปะอาว เป็นชุมชนชนบทตั้งอยู่บนที่ดอน พ...\n",
              "609         ชุมชนพาณิชยกรรมเก่า  ...  ชุมชนพาณิชยกรรมเก่า เป็นย่านพาณิชยกรรมเก่าแห่ง...\n",
              "610              ชุมชนแก่งสะพือ  ...  ชุมชนแก่งสะพือ เป็นย่านชุมชนเก่าริมน้ำแม่น้ำมู...\n",
              "611                ชุมชนบ้านแคน  ...  ชุมชนบ้านแคน เป็นชุมชนชนบทตั้งอยู่บนที่ดอน พื้...\n",
              "612                ชุมชนบ้านชาด  ...  ชุมชนบ้านชาด เป็นชุมชนเก่าตั้งอยู่ใกล้กับแหล่ง...\n",
              "\n",
              "[613 rows x 9 columns]"
            ]
          },
          "metadata": {},
          "execution_count": 22
        }
      ]
    },
    {
      "cell_type": "markdown",
      "metadata": {
        "id": "R2X2Qf8WwGLk"
      },
      "source": [
        "ตรวจสอบค่า missing ของข้อมูลตาราง data_city"
      ]
    },
    {
      "cell_type": "code",
      "metadata": {
        "id": "yYwVLBR6_TTA",
        "outputId": "4db472f2-20b0-4703-ea81-0755e6b893a7",
        "colab": {
          "base_uri": "https://localhost:8080/"
        }
      },
      "source": [
        "data_city.isnull().any() "
      ],
      "execution_count": 23,
      "outputs": [
        {
          "output_type": "execute_result",
          "data": {
            "text/plain": [
              "ชื่อย่านชุมชนเก่า    False\n",
              "ตำบล                 False\n",
              "อำเภอ                False\n",
              "จังหวัด              False\n",
              "ภาค                  False\n",
              "East                 False\n",
              "North                False\n",
              "ลักษณะชุมชน          False\n",
              "ลักษณะสำคัญ          False\n",
              "dtype: bool"
            ]
          },
          "metadata": {},
          "execution_count": 23
        }
      ]
    },
    {
      "cell_type": "markdown",
      "metadata": {
        "id": "RLcBZVGuwKzY"
      },
      "source": [
        "แสดงผลเป็น False ทั้งหมด แปลว่า ไม่มีค่า missing ในข้อมูล ย่านชุมชนเก่า"
      ]
    },
    {
      "cell_type": "markdown",
      "metadata": {
        "id": "JLsyCJWuwOaM"
      },
      "source": [
        "#### ข้อมูลที่ 2 ผู้เยี่ยมเยือน จำแนกตามจังหวัด"
      ]
    },
    {
      "cell_type": "code",
      "metadata": {
        "id": "dWW-N-EY_TQS",
        "outputId": "6b51fcc7-553b-498d-b590-5fb16c638692",
        "colab": {
          "base_uri": "https://localhost:8080/",
          "height": 456
        }
      },
      "source": [
        "data_2= pd.read_csv(os.path.join(path,'visitors.csv'))  # ผู้เยี่ยมเยือน จำแนกตามจังหวัด\n",
        "data_2"
      ],
      "execution_count": 24,
      "outputs": [
        {
          "output_type": "execute_result",
          "data": {
            "text/html": [
              "<div>\n",
              "<style scoped>\n",
              "    .dataframe tbody tr th:only-of-type {\n",
              "        vertical-align: middle;\n",
              "    }\n",
              "\n",
              "    .dataframe tbody tr th {\n",
              "        vertical-align: top;\n",
              "    }\n",
              "\n",
              "    .dataframe thead th {\n",
              "        text-align: right;\n",
              "    }\n",
              "</style>\n",
              "<table border=\"1\" class=\"dataframe\">\n",
              "  <thead>\n",
              "    <tr style=\"text-align: right;\">\n",
              "      <th></th>\n",
              "      <th>จังหวัด</th>\n",
              "      <th>รหัสจังหวัด</th>\n",
              "      <th>2549</th>\n",
              "      <th>2550</th>\n",
              "      <th>2551</th>\n",
              "      <th>2552</th>\n",
              "      <th>2553</th>\n",
              "      <th>2554</th>\n",
              "      <th>2555</th>\n",
              "      <th>2556</th>\n",
              "      <th>2557</th>\n",
              "      <th>2558</th>\n",
              "      <th>2559</th>\n",
              "      <th>2560</th>\n",
              "      <th>2561</th>\n",
              "      <th>Unnamed: 15</th>\n",
              "    </tr>\n",
              "  </thead>\n",
              "  <tbody>\n",
              "    <tr>\n",
              "      <th>0</th>\n",
              "      <td>กรุงเทพมหานคร</td>\n",
              "      <td>th-bm</td>\n",
              "      <td>36172138.0</td>\n",
              "      <td>35953546.0</td>\n",
              "      <td>35110693.0</td>\n",
              "      <td>30037911.0</td>\n",
              "      <td>38222903.0</td>\n",
              "      <td>43763002</td>\n",
              "      <td>47185031</td>\n",
              "      <td>50568902</td>\n",
              "      <td>50972772</td>\n",
              "      <td>56515597</td>\n",
              "      <td>59196331</td>\n",
              "      <td>63575737</td>\n",
              "      <td>65534281</td>\n",
              "      <td>NaN</td>\n",
              "    </tr>\n",
              "    <tr>\n",
              "      <th>1</th>\n",
              "      <td>สมุทรปราการ</td>\n",
              "      <td>th-sp</td>\n",
              "      <td>958352.0</td>\n",
              "      <td>1262082.0</td>\n",
              "      <td>1875232.0</td>\n",
              "      <td>1292295.0</td>\n",
              "      <td>1291883.0</td>\n",
              "      <td>1489104</td>\n",
              "      <td>2107433</td>\n",
              "      <td>2204073</td>\n",
              "      <td>2350340</td>\n",
              "      <td>2780429</td>\n",
              "      <td>2900180</td>\n",
              "      <td>3218934</td>\n",
              "      <td>3373639</td>\n",
              "      <td>NaN</td>\n",
              "    </tr>\n",
              "    <tr>\n",
              "      <th>2</th>\n",
              "      <td>นนทบุรี</td>\n",
              "      <td>th-no</td>\n",
              "      <td>830593.0</td>\n",
              "      <td>1079877.0</td>\n",
              "      <td>973721.0</td>\n",
              "      <td>1373459.0</td>\n",
              "      <td>1792164.0</td>\n",
              "      <td>2004376</td>\n",
              "      <td>1663990</td>\n",
              "      <td>1700408</td>\n",
              "      <td>1730885</td>\n",
              "      <td>2045867</td>\n",
              "      <td>2090095</td>\n",
              "      <td>2514677</td>\n",
              "      <td>2664025</td>\n",
              "      <td>NaN</td>\n",
              "    </tr>\n",
              "    <tr>\n",
              "      <th>3</th>\n",
              "      <td>ปทุมธานี</td>\n",
              "      <td>th-pt</td>\n",
              "      <td>868449.0</td>\n",
              "      <td>1050674.0</td>\n",
              "      <td>798231.0</td>\n",
              "      <td>965318.0</td>\n",
              "      <td>1068529.0</td>\n",
              "      <td>1086433</td>\n",
              "      <td>1474292</td>\n",
              "      <td>1553170</td>\n",
              "      <td>1613073</td>\n",
              "      <td>1815389</td>\n",
              "      <td>1896549</td>\n",
              "      <td>2014281</td>\n",
              "      <td>2098344</td>\n",
              "      <td>NaN</td>\n",
              "    </tr>\n",
              "    <tr>\n",
              "      <th>4</th>\n",
              "      <td>พระนครศรีอยุธยา</td>\n",
              "      <td>th-pa</td>\n",
              "      <td>3373929.0</td>\n",
              "      <td>3784617.0</td>\n",
              "      <td>3659402.0</td>\n",
              "      <td>3583231.0</td>\n",
              "      <td>6534638.0</td>\n",
              "      <td>4890949</td>\n",
              "      <td>6066545</td>\n",
              "      <td>6226424</td>\n",
              "      <td>6698561</td>\n",
              "      <td>6994538</td>\n",
              "      <td>7216514</td>\n",
              "      <td>7631557</td>\n",
              "      <td>8349613</td>\n",
              "      <td>NaN</td>\n",
              "    </tr>\n",
              "    <tr>\n",
              "      <th>...</th>\n",
              "      <td>...</td>\n",
              "      <td>...</td>\n",
              "      <td>...</td>\n",
              "      <td>...</td>\n",
              "      <td>...</td>\n",
              "      <td>...</td>\n",
              "      <td>...</td>\n",
              "      <td>...</td>\n",
              "      <td>...</td>\n",
              "      <td>...</td>\n",
              "      <td>...</td>\n",
              "      <td>...</td>\n",
              "      <td>...</td>\n",
              "      <td>...</td>\n",
              "      <td>...</td>\n",
              "      <td>...</td>\n",
              "    </tr>\n",
              "    <tr>\n",
              "      <th>72</th>\n",
              "      <td>ตรัง</td>\n",
              "      <td>th-tg</td>\n",
              "      <td>726373.0</td>\n",
              "      <td>858638.0</td>\n",
              "      <td>993615.0</td>\n",
              "      <td>843606.0</td>\n",
              "      <td>1110021.0</td>\n",
              "      <td>1007717</td>\n",
              "      <td>1137961</td>\n",
              "      <td>1281663</td>\n",
              "      <td>1308968</td>\n",
              "      <td>1414663</td>\n",
              "      <td>1465811</td>\n",
              "      <td>1514092</td>\n",
              "      <td>1578906</td>\n",
              "      <td>NaN</td>\n",
              "    </tr>\n",
              "    <tr>\n",
              "      <th>73</th>\n",
              "      <td>พัทลุง</td>\n",
              "      <td>th-pl</td>\n",
              "      <td>448000.0</td>\n",
              "      <td>501320.0</td>\n",
              "      <td>853674.0</td>\n",
              "      <td>483058.0</td>\n",
              "      <td>939379.0</td>\n",
              "      <td>1119171</td>\n",
              "      <td>1089992</td>\n",
              "      <td>1178007</td>\n",
              "      <td>1236012</td>\n",
              "      <td>1326468</td>\n",
              "      <td>1487188</td>\n",
              "      <td>1569333</td>\n",
              "      <td>1641841</td>\n",
              "      <td>NaN</td>\n",
              "    </tr>\n",
              "    <tr>\n",
              "      <th>74</th>\n",
              "      <td>ปัตตานี</td>\n",
              "      <td>th-pi</td>\n",
              "      <td>160320.0</td>\n",
              "      <td>131998.0</td>\n",
              "      <td>152748.0</td>\n",
              "      <td>201401.0</td>\n",
              "      <td>184153.0</td>\n",
              "      <td>179687</td>\n",
              "      <td>214285</td>\n",
              "      <td>235606</td>\n",
              "      <td>237925</td>\n",
              "      <td>251081</td>\n",
              "      <td>257143</td>\n",
              "      <td>272739</td>\n",
              "      <td>281988</td>\n",
              "      <td>NaN</td>\n",
              "    </tr>\n",
              "    <tr>\n",
              "      <th>75</th>\n",
              "      <td>ยะลา</td>\n",
              "      <td>th-yl</td>\n",
              "      <td>282463.0</td>\n",
              "      <td>269368.0</td>\n",
              "      <td>311712.0</td>\n",
              "      <td>300570.0</td>\n",
              "      <td>373269.0</td>\n",
              "      <td>335968</td>\n",
              "      <td>429044</td>\n",
              "      <td>563771</td>\n",
              "      <td>589653</td>\n",
              "      <td>622376</td>\n",
              "      <td>624879</td>\n",
              "      <td>657317</td>\n",
              "      <td>680018</td>\n",
              "      <td>NaN</td>\n",
              "    </tr>\n",
              "    <tr>\n",
              "      <th>76</th>\n",
              "      <td>นราธิวาส</td>\n",
              "      <td>th-nw</td>\n",
              "      <td>336473.0</td>\n",
              "      <td>284073.0</td>\n",
              "      <td>328729.0</td>\n",
              "      <td>430301.0</td>\n",
              "      <td>547235.0</td>\n",
              "      <td>479524</td>\n",
              "      <td>489944</td>\n",
              "      <td>570973</td>\n",
              "      <td>589690</td>\n",
              "      <td>635910</td>\n",
              "      <td>646020</td>\n",
              "      <td>665710</td>\n",
              "      <td>692057</td>\n",
              "      <td>NaN</td>\n",
              "    </tr>\n",
              "  </tbody>\n",
              "</table>\n",
              "<p>77 rows × 16 columns</p>\n",
              "</div>"
            ],
            "text/plain": [
              "            จังหวัด รหัสจังหวัด        2549  ...      2560      2561  Unnamed: 15\n",
              "0     กรุงเทพมหานคร       th-bm  36172138.0  ...  63575737  65534281          NaN\n",
              "1       สมุทรปราการ       th-sp    958352.0  ...   3218934   3373639          NaN\n",
              "2           นนทบุรี       th-no    830593.0  ...   2514677   2664025          NaN\n",
              "3          ปทุมธานี       th-pt    868449.0  ...   2014281   2098344          NaN\n",
              "4   พระนครศรีอยุธยา       th-pa   3373929.0  ...   7631557   8349613          NaN\n",
              "..              ...         ...         ...  ...       ...       ...          ...\n",
              "72             ตรัง       th-tg    726373.0  ...   1514092   1578906          NaN\n",
              "73           พัทลุง       th-pl    448000.0  ...   1569333   1641841          NaN\n",
              "74          ปัตตานี       th-pi    160320.0  ...    272739    281988          NaN\n",
              "75             ยะลา       th-yl    282463.0  ...    657317    680018          NaN\n",
              "76         นราธิวาส       th-nw    336473.0  ...    665710    692057          NaN\n",
              "\n",
              "[77 rows x 16 columns]"
            ]
          },
          "metadata": {},
          "execution_count": 24
        }
      ]
    },
    {
      "cell_type": "markdown",
      "metadata": {
        "id": "OYGNDWYfwT8h"
      },
      "source": [
        "ตัดตารางข้อมูลของ data_2 เลือกเฉพาะข้อมูลปี 2555-2561"
      ]
    },
    {
      "cell_type": "code",
      "metadata": {
        "id": "mTSa8mF1_TNO",
        "outputId": "bdbc3306-0227-4e6a-ae04-6966bd8d62f4",
        "colab": {
          "base_uri": "https://localhost:8080/",
          "height": 419
        }
      },
      "source": [
        "data_visitor = data_2[['จังหวัด','รหัสจังหวัด','2555','2556','2557','2558','2559','2560','2561']] # ผู้เยี่ยมเยือน จำแนกตามจังหวัด\n",
        "data_visitor"
      ],
      "execution_count": 25,
      "outputs": [
        {
          "output_type": "execute_result",
          "data": {
            "text/html": [
              "<div>\n",
              "<style scoped>\n",
              "    .dataframe tbody tr th:only-of-type {\n",
              "        vertical-align: middle;\n",
              "    }\n",
              "\n",
              "    .dataframe tbody tr th {\n",
              "        vertical-align: top;\n",
              "    }\n",
              "\n",
              "    .dataframe thead th {\n",
              "        text-align: right;\n",
              "    }\n",
              "</style>\n",
              "<table border=\"1\" class=\"dataframe\">\n",
              "  <thead>\n",
              "    <tr style=\"text-align: right;\">\n",
              "      <th></th>\n",
              "      <th>จังหวัด</th>\n",
              "      <th>รหัสจังหวัด</th>\n",
              "      <th>2555</th>\n",
              "      <th>2556</th>\n",
              "      <th>2557</th>\n",
              "      <th>2558</th>\n",
              "      <th>2559</th>\n",
              "      <th>2560</th>\n",
              "      <th>2561</th>\n",
              "    </tr>\n",
              "  </thead>\n",
              "  <tbody>\n",
              "    <tr>\n",
              "      <th>0</th>\n",
              "      <td>กรุงเทพมหานคร</td>\n",
              "      <td>th-bm</td>\n",
              "      <td>47185031</td>\n",
              "      <td>50568902</td>\n",
              "      <td>50972772</td>\n",
              "      <td>56515597</td>\n",
              "      <td>59196331</td>\n",
              "      <td>63575737</td>\n",
              "      <td>65534281</td>\n",
              "    </tr>\n",
              "    <tr>\n",
              "      <th>1</th>\n",
              "      <td>สมุทรปราการ</td>\n",
              "      <td>th-sp</td>\n",
              "      <td>2107433</td>\n",
              "      <td>2204073</td>\n",
              "      <td>2350340</td>\n",
              "      <td>2780429</td>\n",
              "      <td>2900180</td>\n",
              "      <td>3218934</td>\n",
              "      <td>3373639</td>\n",
              "    </tr>\n",
              "    <tr>\n",
              "      <th>2</th>\n",
              "      <td>นนทบุรี</td>\n",
              "      <td>th-no</td>\n",
              "      <td>1663990</td>\n",
              "      <td>1700408</td>\n",
              "      <td>1730885</td>\n",
              "      <td>2045867</td>\n",
              "      <td>2090095</td>\n",
              "      <td>2514677</td>\n",
              "      <td>2664025</td>\n",
              "    </tr>\n",
              "    <tr>\n",
              "      <th>3</th>\n",
              "      <td>ปทุมธานี</td>\n",
              "      <td>th-pt</td>\n",
              "      <td>1474292</td>\n",
              "      <td>1553170</td>\n",
              "      <td>1613073</td>\n",
              "      <td>1815389</td>\n",
              "      <td>1896549</td>\n",
              "      <td>2014281</td>\n",
              "      <td>2098344</td>\n",
              "    </tr>\n",
              "    <tr>\n",
              "      <th>4</th>\n",
              "      <td>พระนครศรีอยุธยา</td>\n",
              "      <td>th-pa</td>\n",
              "      <td>6066545</td>\n",
              "      <td>6226424</td>\n",
              "      <td>6698561</td>\n",
              "      <td>6994538</td>\n",
              "      <td>7216514</td>\n",
              "      <td>7631557</td>\n",
              "      <td>8349613</td>\n",
              "    </tr>\n",
              "    <tr>\n",
              "      <th>...</th>\n",
              "      <td>...</td>\n",
              "      <td>...</td>\n",
              "      <td>...</td>\n",
              "      <td>...</td>\n",
              "      <td>...</td>\n",
              "      <td>...</td>\n",
              "      <td>...</td>\n",
              "      <td>...</td>\n",
              "      <td>...</td>\n",
              "    </tr>\n",
              "    <tr>\n",
              "      <th>72</th>\n",
              "      <td>ตรัง</td>\n",
              "      <td>th-tg</td>\n",
              "      <td>1137961</td>\n",
              "      <td>1281663</td>\n",
              "      <td>1308968</td>\n",
              "      <td>1414663</td>\n",
              "      <td>1465811</td>\n",
              "      <td>1514092</td>\n",
              "      <td>1578906</td>\n",
              "    </tr>\n",
              "    <tr>\n",
              "      <th>73</th>\n",
              "      <td>พัทลุง</td>\n",
              "      <td>th-pl</td>\n",
              "      <td>1089992</td>\n",
              "      <td>1178007</td>\n",
              "      <td>1236012</td>\n",
              "      <td>1326468</td>\n",
              "      <td>1487188</td>\n",
              "      <td>1569333</td>\n",
              "      <td>1641841</td>\n",
              "    </tr>\n",
              "    <tr>\n",
              "      <th>74</th>\n",
              "      <td>ปัตตานี</td>\n",
              "      <td>th-pi</td>\n",
              "      <td>214285</td>\n",
              "      <td>235606</td>\n",
              "      <td>237925</td>\n",
              "      <td>251081</td>\n",
              "      <td>257143</td>\n",
              "      <td>272739</td>\n",
              "      <td>281988</td>\n",
              "    </tr>\n",
              "    <tr>\n",
              "      <th>75</th>\n",
              "      <td>ยะลา</td>\n",
              "      <td>th-yl</td>\n",
              "      <td>429044</td>\n",
              "      <td>563771</td>\n",
              "      <td>589653</td>\n",
              "      <td>622376</td>\n",
              "      <td>624879</td>\n",
              "      <td>657317</td>\n",
              "      <td>680018</td>\n",
              "    </tr>\n",
              "    <tr>\n",
              "      <th>76</th>\n",
              "      <td>นราธิวาส</td>\n",
              "      <td>th-nw</td>\n",
              "      <td>489944</td>\n",
              "      <td>570973</td>\n",
              "      <td>589690</td>\n",
              "      <td>635910</td>\n",
              "      <td>646020</td>\n",
              "      <td>665710</td>\n",
              "      <td>692057</td>\n",
              "    </tr>\n",
              "  </tbody>\n",
              "</table>\n",
              "<p>77 rows × 9 columns</p>\n",
              "</div>"
            ],
            "text/plain": [
              "            จังหวัด รหัสจังหวัด      2555  ...      2559      2560      2561\n",
              "0     กรุงเทพมหานคร       th-bm  47185031  ...  59196331  63575737  65534281\n",
              "1       สมุทรปราการ       th-sp   2107433  ...   2900180   3218934   3373639\n",
              "2           นนทบุรี       th-no   1663990  ...   2090095   2514677   2664025\n",
              "3          ปทุมธานี       th-pt   1474292  ...   1896549   2014281   2098344\n",
              "4   พระนครศรีอยุธยา       th-pa   6066545  ...   7216514   7631557   8349613\n",
              "..              ...         ...       ...  ...       ...       ...       ...\n",
              "72             ตรัง       th-tg   1137961  ...   1465811   1514092   1578906\n",
              "73           พัทลุง       th-pl   1089992  ...   1487188   1569333   1641841\n",
              "74          ปัตตานี       th-pi    214285  ...    257143    272739    281988\n",
              "75             ยะลา       th-yl    429044  ...    624879    657317    680018\n",
              "76         นราธิวาส       th-nw    489944  ...    646020    665710    692057\n",
              "\n",
              "[77 rows x 9 columns]"
            ]
          },
          "metadata": {},
          "execution_count": 25
        }
      ]
    },
    {
      "cell_type": "markdown",
      "metadata": {
        "id": "UV6QMlkbwYjt"
      },
      "source": [
        "เปลี่ยนชื่อ column (data_visitor)"
      ]
    },
    {
      "cell_type": "code",
      "metadata": {
        "id": "KUikqy13_TIO",
        "outputId": "41b58859-46f2-4d52-8d79-c36d6a182c37",
        "colab": {
          "base_uri": "https://localhost:8080/"
        }
      },
      "source": [
        "data_visitor.rename(columns={'2555':'visitor2555'},inplace=True)\n",
        "data_visitor.rename(columns={'2556':'visitor2556'},inplace=True)\n",
        "data_visitor.rename(columns={'2557':'visitor2557'},inplace=True)\n",
        "data_visitor.rename(columns={'2558':'visitor2558'},inplace=True)\n",
        "data_visitor.rename(columns={'2559':'visitor2559'},inplace=True)\n",
        "data_visitor.rename(columns={'2560':'visitor2560'},inplace=True)\n",
        "data_visitor.rename(columns={'2561':'visitor2561'},inplace=True)"
      ],
      "execution_count": 26,
      "outputs": [
        {
          "output_type": "stream",
          "name": "stderr",
          "text": [
            "/usr/local/lib/python3.7/dist-packages/pandas/core/frame.py:4308: SettingWithCopyWarning: \n",
            "A value is trying to be set on a copy of a slice from a DataFrame\n",
            "\n",
            "See the caveats in the documentation: https://pandas.pydata.org/pandas-docs/stable/user_guide/indexing.html#returning-a-view-versus-a-copy\n",
            "  errors=errors,\n"
          ]
        }
      ]
    },
    {
      "cell_type": "markdown",
      "metadata": {
        "id": "BVKIkPZ9wdNk"
      },
      "source": [
        "**ตาราง data_visitor คือ ข้อมูลผู้เยี่ยมเยือน จำแนกตามจังหวัด**\n",
        "\n",
        "**คำอธิบายตาราง**\n",
        "\n",
        "* จังหวัด คือ ที่ตั้งของแหล่งท่องเที่ยว\n",
        "* รหัสจังหวัด คือ รหัสประจำของจังหวัดนั้นๆ \n",
        "* 2555visitor คือ จำนวนผู้ที่มาเยี่ยมชมแหล่งท่องเที่ยวในจังหวัดนั้นๆ \n",
        "* 2556visitor คือ จำนวนผู้ที่มาเยี่ยมชมแหล่งท่องเที่ยวในจังหวัดนั้นๆ \n",
        "* 2557visitor คือ จำนวนผู้ที่มาเยี่ยมชมแหล่งท่องเที่ยวในจังหวัดนั้นๆ \n",
        "* 2558visitor คือ จำนวนผู้ที่มาเยี่ยมชมแหล่งท่องเที่ยวในจังหวัดนั้นๆ \n",
        "* 2559visitor คือ จำนวนผู้ที่มาเยี่ยมชมแหล่งท่องเที่ยวในจังหวัดนั้นๆ \n",
        "* 2560visitor คือ จำนวนผู้ที่มาเยี่ยมชมแหล่งท่องเที่ยวในจังหวัดนั้นๆ \n",
        "* 2561visitor คือ จำนวนผู้ที่มาเยี่ยมชมแหล่งท่องเที่ยวในจังหวัดนั้นๆ "
      ]
    },
    {
      "cell_type": "code",
      "metadata": {
        "id": "YpocPsKl_TB_",
        "outputId": "87fa8e93-bdd8-4008-f70c-9b231193fdbc",
        "colab": {
          "base_uri": "https://localhost:8080/",
          "height": 419
        }
      },
      "source": [
        "data_visitor"
      ],
      "execution_count": 27,
      "outputs": [
        {
          "output_type": "execute_result",
          "data": {
            "text/html": [
              "<div>\n",
              "<style scoped>\n",
              "    .dataframe tbody tr th:only-of-type {\n",
              "        vertical-align: middle;\n",
              "    }\n",
              "\n",
              "    .dataframe tbody tr th {\n",
              "        vertical-align: top;\n",
              "    }\n",
              "\n",
              "    .dataframe thead th {\n",
              "        text-align: right;\n",
              "    }\n",
              "</style>\n",
              "<table border=\"1\" class=\"dataframe\">\n",
              "  <thead>\n",
              "    <tr style=\"text-align: right;\">\n",
              "      <th></th>\n",
              "      <th>จังหวัด</th>\n",
              "      <th>รหัสจังหวัด</th>\n",
              "      <th>visitor2555</th>\n",
              "      <th>visitor2556</th>\n",
              "      <th>visitor2557</th>\n",
              "      <th>visitor2558</th>\n",
              "      <th>visitor2559</th>\n",
              "      <th>visitor2560</th>\n",
              "      <th>visitor2561</th>\n",
              "    </tr>\n",
              "  </thead>\n",
              "  <tbody>\n",
              "    <tr>\n",
              "      <th>0</th>\n",
              "      <td>กรุงเทพมหานคร</td>\n",
              "      <td>th-bm</td>\n",
              "      <td>47185031</td>\n",
              "      <td>50568902</td>\n",
              "      <td>50972772</td>\n",
              "      <td>56515597</td>\n",
              "      <td>59196331</td>\n",
              "      <td>63575737</td>\n",
              "      <td>65534281</td>\n",
              "    </tr>\n",
              "    <tr>\n",
              "      <th>1</th>\n",
              "      <td>สมุทรปราการ</td>\n",
              "      <td>th-sp</td>\n",
              "      <td>2107433</td>\n",
              "      <td>2204073</td>\n",
              "      <td>2350340</td>\n",
              "      <td>2780429</td>\n",
              "      <td>2900180</td>\n",
              "      <td>3218934</td>\n",
              "      <td>3373639</td>\n",
              "    </tr>\n",
              "    <tr>\n",
              "      <th>2</th>\n",
              "      <td>นนทบุรี</td>\n",
              "      <td>th-no</td>\n",
              "      <td>1663990</td>\n",
              "      <td>1700408</td>\n",
              "      <td>1730885</td>\n",
              "      <td>2045867</td>\n",
              "      <td>2090095</td>\n",
              "      <td>2514677</td>\n",
              "      <td>2664025</td>\n",
              "    </tr>\n",
              "    <tr>\n",
              "      <th>3</th>\n",
              "      <td>ปทุมธานี</td>\n",
              "      <td>th-pt</td>\n",
              "      <td>1474292</td>\n",
              "      <td>1553170</td>\n",
              "      <td>1613073</td>\n",
              "      <td>1815389</td>\n",
              "      <td>1896549</td>\n",
              "      <td>2014281</td>\n",
              "      <td>2098344</td>\n",
              "    </tr>\n",
              "    <tr>\n",
              "      <th>4</th>\n",
              "      <td>พระนครศรีอยุธยา</td>\n",
              "      <td>th-pa</td>\n",
              "      <td>6066545</td>\n",
              "      <td>6226424</td>\n",
              "      <td>6698561</td>\n",
              "      <td>6994538</td>\n",
              "      <td>7216514</td>\n",
              "      <td>7631557</td>\n",
              "      <td>8349613</td>\n",
              "    </tr>\n",
              "    <tr>\n",
              "      <th>...</th>\n",
              "      <td>...</td>\n",
              "      <td>...</td>\n",
              "      <td>...</td>\n",
              "      <td>...</td>\n",
              "      <td>...</td>\n",
              "      <td>...</td>\n",
              "      <td>...</td>\n",
              "      <td>...</td>\n",
              "      <td>...</td>\n",
              "    </tr>\n",
              "    <tr>\n",
              "      <th>72</th>\n",
              "      <td>ตรัง</td>\n",
              "      <td>th-tg</td>\n",
              "      <td>1137961</td>\n",
              "      <td>1281663</td>\n",
              "      <td>1308968</td>\n",
              "      <td>1414663</td>\n",
              "      <td>1465811</td>\n",
              "      <td>1514092</td>\n",
              "      <td>1578906</td>\n",
              "    </tr>\n",
              "    <tr>\n",
              "      <th>73</th>\n",
              "      <td>พัทลุง</td>\n",
              "      <td>th-pl</td>\n",
              "      <td>1089992</td>\n",
              "      <td>1178007</td>\n",
              "      <td>1236012</td>\n",
              "      <td>1326468</td>\n",
              "      <td>1487188</td>\n",
              "      <td>1569333</td>\n",
              "      <td>1641841</td>\n",
              "    </tr>\n",
              "    <tr>\n",
              "      <th>74</th>\n",
              "      <td>ปัตตานี</td>\n",
              "      <td>th-pi</td>\n",
              "      <td>214285</td>\n",
              "      <td>235606</td>\n",
              "      <td>237925</td>\n",
              "      <td>251081</td>\n",
              "      <td>257143</td>\n",
              "      <td>272739</td>\n",
              "      <td>281988</td>\n",
              "    </tr>\n",
              "    <tr>\n",
              "      <th>75</th>\n",
              "      <td>ยะลา</td>\n",
              "      <td>th-yl</td>\n",
              "      <td>429044</td>\n",
              "      <td>563771</td>\n",
              "      <td>589653</td>\n",
              "      <td>622376</td>\n",
              "      <td>624879</td>\n",
              "      <td>657317</td>\n",
              "      <td>680018</td>\n",
              "    </tr>\n",
              "    <tr>\n",
              "      <th>76</th>\n",
              "      <td>นราธิวาส</td>\n",
              "      <td>th-nw</td>\n",
              "      <td>489944</td>\n",
              "      <td>570973</td>\n",
              "      <td>589690</td>\n",
              "      <td>635910</td>\n",
              "      <td>646020</td>\n",
              "      <td>665710</td>\n",
              "      <td>692057</td>\n",
              "    </tr>\n",
              "  </tbody>\n",
              "</table>\n",
              "<p>77 rows × 9 columns</p>\n",
              "</div>"
            ],
            "text/plain": [
              "            จังหวัด รหัสจังหวัด  ...  visitor2560  visitor2561\n",
              "0     กรุงเทพมหานคร       th-bm  ...     63575737     65534281\n",
              "1       สมุทรปราการ       th-sp  ...      3218934      3373639\n",
              "2           นนทบุรี       th-no  ...      2514677      2664025\n",
              "3          ปทุมธานี       th-pt  ...      2014281      2098344\n",
              "4   พระนครศรีอยุธยา       th-pa  ...      7631557      8349613\n",
              "..              ...         ...  ...          ...          ...\n",
              "72             ตรัง       th-tg  ...      1514092      1578906\n",
              "73           พัทลุง       th-pl  ...      1569333      1641841\n",
              "74          ปัตตานี       th-pi  ...       272739       281988\n",
              "75             ยะลา       th-yl  ...       657317       680018\n",
              "76         นราธิวาส       th-nw  ...       665710       692057\n",
              "\n",
              "[77 rows x 9 columns]"
            ]
          },
          "metadata": {},
          "execution_count": 27
        }
      ]
    },
    {
      "cell_type": "markdown",
      "metadata": {
        "id": "KOG5BKEqwiWG"
      },
      "source": [
        "ตรวจสอบค่า missing ของข้อมูลตาราง data_visitor"
      ]
    },
    {
      "cell_type": "code",
      "metadata": {
        "id": "Y-HJXAZhwS6d",
        "outputId": "8275dcb2-280f-4732-a1e1-fa10ba52177c",
        "colab": {
          "base_uri": "https://localhost:8080/"
        }
      },
      "source": [
        "data_visitor.isnull().any()"
      ],
      "execution_count": 28,
      "outputs": [
        {
          "output_type": "execute_result",
          "data": {
            "text/plain": [
              "จังหวัด        False\n",
              "รหัสจังหวัด    False\n",
              "visitor2555    False\n",
              "visitor2556    False\n",
              "visitor2557    False\n",
              "visitor2558    False\n",
              "visitor2559    False\n",
              "visitor2560    False\n",
              "visitor2561    False\n",
              "dtype: bool"
            ]
          },
          "metadata": {},
          "execution_count": 28
        }
      ]
    },
    {
      "cell_type": "markdown",
      "metadata": {
        "id": "GHZBI7PFwl4B"
      },
      "source": [
        "แสดงผลเป็น false ทั้งหมด หมายความว่า ไม่มีค่า Missing ในข้อมูล ผู้เยี่ยมเยือน จำแนกตามจังหวัด"
      ]
    },
    {
      "cell_type": "markdown",
      "metadata": {
        "id": "CEjCWQk8wq11"
      },
      "source": [
        "#### ข้อมููลที่ 3 รายได้จากการท่องเที่ยว จำแนกตามจังหวัด"
      ]
    },
    {
      "cell_type": "code",
      "metadata": {
        "id": "aQ5k3WWtwS4n",
        "outputId": "18ae9149-b7c6-442f-c7b6-2a1c143fa6c0",
        "colab": {
          "base_uri": "https://localhost:8080/",
          "height": 419
        }
      },
      "source": [
        "data_3= pd.read_csv(os.path.join(path,'revenue.csv')) # รายได้จากการท่องเที่ยว จำแนกตามจังหวัด\n",
        "data_3"
      ],
      "execution_count": 29,
      "outputs": [
        {
          "output_type": "execute_result",
          "data": {
            "text/html": [
              "<div>\n",
              "<style scoped>\n",
              "    .dataframe tbody tr th:only-of-type {\n",
              "        vertical-align: middle;\n",
              "    }\n",
              "\n",
              "    .dataframe tbody tr th {\n",
              "        vertical-align: top;\n",
              "    }\n",
              "\n",
              "    .dataframe thead th {\n",
              "        text-align: right;\n",
              "    }\n",
              "</style>\n",
              "<table border=\"1\" class=\"dataframe\">\n",
              "  <thead>\n",
              "    <tr style=\"text-align: right;\">\n",
              "      <th></th>\n",
              "      <th>จังหวัด</th>\n",
              "      <th>รหัสจังหวัด</th>\n",
              "      <th>2555</th>\n",
              "      <th>2556</th>\n",
              "      <th>2557</th>\n",
              "      <th>2558</th>\n",
              "      <th>2559</th>\n",
              "      <th>2560</th>\n",
              "      <th>2561</th>\n",
              "    </tr>\n",
              "  </thead>\n",
              "  <tbody>\n",
              "    <tr>\n",
              "      <th>0</th>\n",
              "      <td>กรุงเทพมหานคร</td>\n",
              "      <td>th-bm</td>\n",
              "      <td>570327.58</td>\n",
              "      <td>626535.05</td>\n",
              "      <td>634803.16</td>\n",
              "      <td>730318.31</td>\n",
              "      <td>822454.21</td>\n",
              "      <td>947946.30000</td>\n",
              "      <td>1051118.51</td>\n",
              "    </tr>\n",
              "    <tr>\n",
              "      <th>1</th>\n",
              "      <td>กาญจนบุรี</td>\n",
              "      <td>th-kn</td>\n",
              "      <td>11910.00</td>\n",
              "      <td>13417.00</td>\n",
              "      <td>14576.27</td>\n",
              "      <td>17659.54</td>\n",
              "      <td>20404.73</td>\n",
              "      <td>24440.77288</td>\n",
              "      <td>27138.35</td>\n",
              "    </tr>\n",
              "    <tr>\n",
              "      <th>2</th>\n",
              "      <td>จันทบุรี</td>\n",
              "      <td>th-ct</td>\n",
              "      <td>4214.00</td>\n",
              "      <td>4569.00</td>\n",
              "      <td>4673.31</td>\n",
              "      <td>5239.98</td>\n",
              "      <td>5630.03</td>\n",
              "      <td>7628.47000</td>\n",
              "      <td>8469.45</td>\n",
              "    </tr>\n",
              "    <tr>\n",
              "      <th>3</th>\n",
              "      <td>ฉะเชิงเทรา</td>\n",
              "      <td>th-cc</td>\n",
              "      <td>3571.69</td>\n",
              "      <td>3735.06</td>\n",
              "      <td>3781.62</td>\n",
              "      <td>3984.33</td>\n",
              "      <td>4240.41</td>\n",
              "      <td>4655.55000</td>\n",
              "      <td>5007.28</td>\n",
              "    </tr>\n",
              "    <tr>\n",
              "      <th>4</th>\n",
              "      <td>ชลบุรี</td>\n",
              "      <td>th-cb</td>\n",
              "      <td>100537.00</td>\n",
              "      <td>111109.00</td>\n",
              "      <td>105920.27</td>\n",
              "      <td>126030.24</td>\n",
              "      <td>187788.42</td>\n",
              "      <td>240610.45000</td>\n",
              "      <td>272435.77</td>\n",
              "    </tr>\n",
              "    <tr>\n",
              "      <th>...</th>\n",
              "      <td>...</td>\n",
              "      <td>...</td>\n",
              "      <td>...</td>\n",
              "      <td>...</td>\n",
              "      <td>...</td>\n",
              "      <td>...</td>\n",
              "      <td>...</td>\n",
              "      <td>...</td>\n",
              "      <td>...</td>\n",
              "    </tr>\n",
              "    <tr>\n",
              "      <th>72</th>\n",
              "      <td>ระนอง</td>\n",
              "      <td>th-rn</td>\n",
              "      <td>2780.00</td>\n",
              "      <td>3250.00</td>\n",
              "      <td>3272.34</td>\n",
              "      <td>3623.68</td>\n",
              "      <td>3954.75</td>\n",
              "      <td>4311.07000</td>\n",
              "      <td>4706.13</td>\n",
              "    </tr>\n",
              "    <tr>\n",
              "      <th>73</th>\n",
              "      <td>สงขลา</td>\n",
              "      <td>th-sg</td>\n",
              "      <td>26702.00</td>\n",
              "      <td>37276.00</td>\n",
              "      <td>41304.80</td>\n",
              "      <td>47260.67</td>\n",
              "      <td>53493.02</td>\n",
              "      <td>59831.77000</td>\n",
              "      <td>68097.42</td>\n",
              "    </tr>\n",
              "    <tr>\n",
              "      <th>74</th>\n",
              "      <td>สตูล</td>\n",
              "      <td>th-sa</td>\n",
              "      <td>5332.00</td>\n",
              "      <td>5905.00</td>\n",
              "      <td>6162.46</td>\n",
              "      <td>6846.72</td>\n",
              "      <td>7438.85</td>\n",
              "      <td>8168.70000</td>\n",
              "      <td>9101.47</td>\n",
              "    </tr>\n",
              "    <tr>\n",
              "      <th>75</th>\n",
              "      <td>สุราษฎร์ธานี</td>\n",
              "      <td>th-st</td>\n",
              "      <td>35312.00</td>\n",
              "      <td>51550.00</td>\n",
              "      <td>56952.27</td>\n",
              "      <td>65420.63</td>\n",
              "      <td>76546.39</td>\n",
              "      <td>92228.01000</td>\n",
              "      <td>104503.71</td>\n",
              "    </tr>\n",
              "    <tr>\n",
              "      <th>76</th>\n",
              "      <td>บึงกาฬ</td>\n",
              "      <td>th-bk</td>\n",
              "      <td>0.00</td>\n",
              "      <td>0.00</td>\n",
              "      <td>685.02</td>\n",
              "      <td>806.10</td>\n",
              "      <td>900.50</td>\n",
              "      <td>976.61000</td>\n",
              "      <td>1047.13</td>\n",
              "    </tr>\n",
              "  </tbody>\n",
              "</table>\n",
              "<p>77 rows × 9 columns</p>\n",
              "</div>"
            ],
            "text/plain": [
              "          จังหวัด รหัสจังหวัด       2555  ...       2559          2560        2561\n",
              "0   กรุงเทพมหานคร       th-bm  570327.58  ...  822454.21  947946.30000  1051118.51\n",
              "1       กาญจนบุรี       th-kn   11910.00  ...   20404.73   24440.77288    27138.35\n",
              "2        จันทบุรี       th-ct    4214.00  ...    5630.03    7628.47000     8469.45\n",
              "3      ฉะเชิงเทรา       th-cc    3571.69  ...    4240.41    4655.55000     5007.28\n",
              "4          ชลบุรี       th-cb  100537.00  ...  187788.42  240610.45000   272435.77\n",
              "..            ...         ...        ...  ...        ...           ...         ...\n",
              "72          ระนอง       th-rn    2780.00  ...    3954.75    4311.07000     4706.13\n",
              "73          สงขลา       th-sg   26702.00  ...   53493.02   59831.77000    68097.42\n",
              "74           สตูล       th-sa    5332.00  ...    7438.85    8168.70000     9101.47\n",
              "75   สุราษฎร์ธานี       th-st   35312.00  ...   76546.39   92228.01000   104503.71\n",
              "76         บึงกาฬ       th-bk       0.00  ...     900.50     976.61000     1047.13\n",
              "\n",
              "[77 rows x 9 columns]"
            ]
          },
          "metadata": {},
          "execution_count": 29
        }
      ]
    },
    {
      "cell_type": "markdown",
      "metadata": {
        "id": "QgtAcI8ewwyi"
      },
      "source": [
        "ตัดตารางข้อมูลของ data_3 เลือกเฉพาะข้อมูลปี 2555-2561"
      ]
    },
    {
      "cell_type": "code",
      "metadata": {
        "id": "A2nIeDH1wS2C",
        "outputId": "c382af82-bc3b-4164-abaf-3334a5a624b2",
        "colab": {
          "base_uri": "https://localhost:8080/",
          "height": 419
        }
      },
      "source": [
        "data_income = data_3[['รหัสจังหวัด','2555','2556','2557','2558','2559','2560','2561']] #รายได้จากการท่องเที่ยว จำแนกตามจังหวัด\n",
        "data_income"
      ],
      "execution_count": 30,
      "outputs": [
        {
          "output_type": "execute_result",
          "data": {
            "text/html": [
              "<div>\n",
              "<style scoped>\n",
              "    .dataframe tbody tr th:only-of-type {\n",
              "        vertical-align: middle;\n",
              "    }\n",
              "\n",
              "    .dataframe tbody tr th {\n",
              "        vertical-align: top;\n",
              "    }\n",
              "\n",
              "    .dataframe thead th {\n",
              "        text-align: right;\n",
              "    }\n",
              "</style>\n",
              "<table border=\"1\" class=\"dataframe\">\n",
              "  <thead>\n",
              "    <tr style=\"text-align: right;\">\n",
              "      <th></th>\n",
              "      <th>รหัสจังหวัด</th>\n",
              "      <th>2555</th>\n",
              "      <th>2556</th>\n",
              "      <th>2557</th>\n",
              "      <th>2558</th>\n",
              "      <th>2559</th>\n",
              "      <th>2560</th>\n",
              "      <th>2561</th>\n",
              "    </tr>\n",
              "  </thead>\n",
              "  <tbody>\n",
              "    <tr>\n",
              "      <th>0</th>\n",
              "      <td>th-bm</td>\n",
              "      <td>570327.58</td>\n",
              "      <td>626535.05</td>\n",
              "      <td>634803.16</td>\n",
              "      <td>730318.31</td>\n",
              "      <td>822454.21</td>\n",
              "      <td>947946.30000</td>\n",
              "      <td>1051118.51</td>\n",
              "    </tr>\n",
              "    <tr>\n",
              "      <th>1</th>\n",
              "      <td>th-kn</td>\n",
              "      <td>11910.00</td>\n",
              "      <td>13417.00</td>\n",
              "      <td>14576.27</td>\n",
              "      <td>17659.54</td>\n",
              "      <td>20404.73</td>\n",
              "      <td>24440.77288</td>\n",
              "      <td>27138.35</td>\n",
              "    </tr>\n",
              "    <tr>\n",
              "      <th>2</th>\n",
              "      <td>th-ct</td>\n",
              "      <td>4214.00</td>\n",
              "      <td>4569.00</td>\n",
              "      <td>4673.31</td>\n",
              "      <td>5239.98</td>\n",
              "      <td>5630.03</td>\n",
              "      <td>7628.47000</td>\n",
              "      <td>8469.45</td>\n",
              "    </tr>\n",
              "    <tr>\n",
              "      <th>3</th>\n",
              "      <td>th-cc</td>\n",
              "      <td>3571.69</td>\n",
              "      <td>3735.06</td>\n",
              "      <td>3781.62</td>\n",
              "      <td>3984.33</td>\n",
              "      <td>4240.41</td>\n",
              "      <td>4655.55000</td>\n",
              "      <td>5007.28</td>\n",
              "    </tr>\n",
              "    <tr>\n",
              "      <th>4</th>\n",
              "      <td>th-cb</td>\n",
              "      <td>100537.00</td>\n",
              "      <td>111109.00</td>\n",
              "      <td>105920.27</td>\n",
              "      <td>126030.24</td>\n",
              "      <td>187788.42</td>\n",
              "      <td>240610.45000</td>\n",
              "      <td>272435.77</td>\n",
              "    </tr>\n",
              "    <tr>\n",
              "      <th>...</th>\n",
              "      <td>...</td>\n",
              "      <td>...</td>\n",
              "      <td>...</td>\n",
              "      <td>...</td>\n",
              "      <td>...</td>\n",
              "      <td>...</td>\n",
              "      <td>...</td>\n",
              "      <td>...</td>\n",
              "    </tr>\n",
              "    <tr>\n",
              "      <th>72</th>\n",
              "      <td>th-rn</td>\n",
              "      <td>2780.00</td>\n",
              "      <td>3250.00</td>\n",
              "      <td>3272.34</td>\n",
              "      <td>3623.68</td>\n",
              "      <td>3954.75</td>\n",
              "      <td>4311.07000</td>\n",
              "      <td>4706.13</td>\n",
              "    </tr>\n",
              "    <tr>\n",
              "      <th>73</th>\n",
              "      <td>th-sg</td>\n",
              "      <td>26702.00</td>\n",
              "      <td>37276.00</td>\n",
              "      <td>41304.80</td>\n",
              "      <td>47260.67</td>\n",
              "      <td>53493.02</td>\n",
              "      <td>59831.77000</td>\n",
              "      <td>68097.42</td>\n",
              "    </tr>\n",
              "    <tr>\n",
              "      <th>74</th>\n",
              "      <td>th-sa</td>\n",
              "      <td>5332.00</td>\n",
              "      <td>5905.00</td>\n",
              "      <td>6162.46</td>\n",
              "      <td>6846.72</td>\n",
              "      <td>7438.85</td>\n",
              "      <td>8168.70000</td>\n",
              "      <td>9101.47</td>\n",
              "    </tr>\n",
              "    <tr>\n",
              "      <th>75</th>\n",
              "      <td>th-st</td>\n",
              "      <td>35312.00</td>\n",
              "      <td>51550.00</td>\n",
              "      <td>56952.27</td>\n",
              "      <td>65420.63</td>\n",
              "      <td>76546.39</td>\n",
              "      <td>92228.01000</td>\n",
              "      <td>104503.71</td>\n",
              "    </tr>\n",
              "    <tr>\n",
              "      <th>76</th>\n",
              "      <td>th-bk</td>\n",
              "      <td>0.00</td>\n",
              "      <td>0.00</td>\n",
              "      <td>685.02</td>\n",
              "      <td>806.10</td>\n",
              "      <td>900.50</td>\n",
              "      <td>976.61000</td>\n",
              "      <td>1047.13</td>\n",
              "    </tr>\n",
              "  </tbody>\n",
              "</table>\n",
              "<p>77 rows × 8 columns</p>\n",
              "</div>"
            ],
            "text/plain": [
              "   รหัสจังหวัด       2555       2556  ...       2559          2560        2561\n",
              "0        th-bm  570327.58  626535.05  ...  822454.21  947946.30000  1051118.51\n",
              "1        th-kn   11910.00   13417.00  ...   20404.73   24440.77288    27138.35\n",
              "2        th-ct    4214.00    4569.00  ...    5630.03    7628.47000     8469.45\n",
              "3        th-cc    3571.69    3735.06  ...    4240.41    4655.55000     5007.28\n",
              "4        th-cb  100537.00  111109.00  ...  187788.42  240610.45000   272435.77\n",
              "..         ...        ...        ...  ...        ...           ...         ...\n",
              "72       th-rn    2780.00    3250.00  ...    3954.75    4311.07000     4706.13\n",
              "73       th-sg   26702.00   37276.00  ...   53493.02   59831.77000    68097.42\n",
              "74       th-sa    5332.00    5905.00  ...    7438.85    8168.70000     9101.47\n",
              "75       th-st   35312.00   51550.00  ...   76546.39   92228.01000   104503.71\n",
              "76       th-bk       0.00       0.00  ...     900.50     976.61000     1047.13\n",
              "\n",
              "[77 rows x 8 columns]"
            ]
          },
          "metadata": {},
          "execution_count": 30
        }
      ]
    },
    {
      "cell_type": "markdown",
      "metadata": {
        "id": "KIrodwwYgfkH"
      },
      "source": [
        "เปลี่ยนชื่อ column (data_income)"
      ]
    },
    {
      "cell_type": "code",
      "metadata": {
        "colab": {
          "base_uri": "https://localhost:8080/"
        },
        "id": "ej5irgEvgd4u",
        "outputId": "9942fd53-8594-4903-d574-b968c9dadc49"
      },
      "source": [
        "data_income.rename(columns={'2555':'income2555'},inplace=True)\n",
        "data_income.rename(columns={'2556':'income2556'},inplace=True)\n",
        "data_income.rename(columns={'2557':'income2557'},inplace=True)\n",
        "data_income.rename(columns={'2558':'income2558'},inplace=True)\n",
        "data_income.rename(columns={'2559':'income2559'},inplace=True)\n",
        "data_income.rename(columns={'2560':'income2560'},inplace=True)\n",
        "data_income.rename(columns={'2561':'income2561'},inplace=True)"
      ],
      "execution_count": 31,
      "outputs": [
        {
          "output_type": "stream",
          "name": "stderr",
          "text": [
            "/usr/local/lib/python3.7/dist-packages/pandas/core/frame.py:4308: SettingWithCopyWarning: \n",
            "A value is trying to be set on a copy of a slice from a DataFrame\n",
            "\n",
            "See the caveats in the documentation: https://pandas.pydata.org/pandas-docs/stable/user_guide/indexing.html#returning-a-view-versus-a-copy\n",
            "  errors=errors,\n"
          ]
        }
      ]
    },
    {
      "cell_type": "markdown",
      "metadata": {
        "id": "InfQubPMonls"
      },
      "source": [
        "**ตาราง data_income คือ รายได้จากการท่องเที่ยว จำแนกตามจังหวัด**\n",
        "\n",
        "**คำอธิบายตาราง**\n",
        "\n",
        "* รหัสจังหวัด คือ รหัสประจำของจังหวัดนั้นๆ \n",
        "* 2555income คือ รายได้จากผูู้ที่มาเยี่ยมชมแหล่งท่องเที่ยวในจังหวัดนั้นๆ \n",
        "* 2556income คือ รายได้จากผูู้ที่มาเยี่ยมชมแหล่งท่องเที่ยวในจังหวัดนั้นๆ  \n",
        "* 2557income คือ รายได้จากผูู้ที่มาเยี่ยมชมแหล่งท่องเที่ยวในจังหวัดนั้นๆ \n",
        "* 2558income คือ รายได้จากผูู้ที่มาเยี่ยมชมแหล่งท่องเที่ยวในจังหวัดนั้นๆ \n",
        "* 2559income คือ รายได้จากผูู้ที่มาเยี่ยมชมแหล่งท่องเที่ยวในจังหวัดนั้นๆ \n",
        "* 2560income คือ รายได้จากผูู้ที่มาเยี่ยมชมแหล่งท่องเที่ยวในจังหวัดนั้นๆ \n",
        "* 2561income คือ รายได้จากผูู้ที่มาเยี่ยมชมแหล่งท่องเที่ยวในจังหวัดนั้นๆ "
      ]
    },
    {
      "cell_type": "code",
      "metadata": {
        "colab": {
          "base_uri": "https://localhost:8080/",
          "height": 419
        },
        "id": "8xT4MVw_giUI",
        "outputId": "7a958840-af69-40cc-e529-da4254516727"
      },
      "source": [
        "data_income"
      ],
      "execution_count": 32,
      "outputs": [
        {
          "output_type": "execute_result",
          "data": {
            "text/html": [
              "<div>\n",
              "<style scoped>\n",
              "    .dataframe tbody tr th:only-of-type {\n",
              "        vertical-align: middle;\n",
              "    }\n",
              "\n",
              "    .dataframe tbody tr th {\n",
              "        vertical-align: top;\n",
              "    }\n",
              "\n",
              "    .dataframe thead th {\n",
              "        text-align: right;\n",
              "    }\n",
              "</style>\n",
              "<table border=\"1\" class=\"dataframe\">\n",
              "  <thead>\n",
              "    <tr style=\"text-align: right;\">\n",
              "      <th></th>\n",
              "      <th>รหัสจังหวัด</th>\n",
              "      <th>income2555</th>\n",
              "      <th>income2556</th>\n",
              "      <th>income2557</th>\n",
              "      <th>income2558</th>\n",
              "      <th>income2559</th>\n",
              "      <th>income2560</th>\n",
              "      <th>income2561</th>\n",
              "    </tr>\n",
              "  </thead>\n",
              "  <tbody>\n",
              "    <tr>\n",
              "      <th>0</th>\n",
              "      <td>th-bm</td>\n",
              "      <td>570327.58</td>\n",
              "      <td>626535.05</td>\n",
              "      <td>634803.16</td>\n",
              "      <td>730318.31</td>\n",
              "      <td>822454.21</td>\n",
              "      <td>947946.30000</td>\n",
              "      <td>1051118.51</td>\n",
              "    </tr>\n",
              "    <tr>\n",
              "      <th>1</th>\n",
              "      <td>th-kn</td>\n",
              "      <td>11910.00</td>\n",
              "      <td>13417.00</td>\n",
              "      <td>14576.27</td>\n",
              "      <td>17659.54</td>\n",
              "      <td>20404.73</td>\n",
              "      <td>24440.77288</td>\n",
              "      <td>27138.35</td>\n",
              "    </tr>\n",
              "    <tr>\n",
              "      <th>2</th>\n",
              "      <td>th-ct</td>\n",
              "      <td>4214.00</td>\n",
              "      <td>4569.00</td>\n",
              "      <td>4673.31</td>\n",
              "      <td>5239.98</td>\n",
              "      <td>5630.03</td>\n",
              "      <td>7628.47000</td>\n",
              "      <td>8469.45</td>\n",
              "    </tr>\n",
              "    <tr>\n",
              "      <th>3</th>\n",
              "      <td>th-cc</td>\n",
              "      <td>3571.69</td>\n",
              "      <td>3735.06</td>\n",
              "      <td>3781.62</td>\n",
              "      <td>3984.33</td>\n",
              "      <td>4240.41</td>\n",
              "      <td>4655.55000</td>\n",
              "      <td>5007.28</td>\n",
              "    </tr>\n",
              "    <tr>\n",
              "      <th>4</th>\n",
              "      <td>th-cb</td>\n",
              "      <td>100537.00</td>\n",
              "      <td>111109.00</td>\n",
              "      <td>105920.27</td>\n",
              "      <td>126030.24</td>\n",
              "      <td>187788.42</td>\n",
              "      <td>240610.45000</td>\n",
              "      <td>272435.77</td>\n",
              "    </tr>\n",
              "    <tr>\n",
              "      <th>...</th>\n",
              "      <td>...</td>\n",
              "      <td>...</td>\n",
              "      <td>...</td>\n",
              "      <td>...</td>\n",
              "      <td>...</td>\n",
              "      <td>...</td>\n",
              "      <td>...</td>\n",
              "      <td>...</td>\n",
              "    </tr>\n",
              "    <tr>\n",
              "      <th>72</th>\n",
              "      <td>th-rn</td>\n",
              "      <td>2780.00</td>\n",
              "      <td>3250.00</td>\n",
              "      <td>3272.34</td>\n",
              "      <td>3623.68</td>\n",
              "      <td>3954.75</td>\n",
              "      <td>4311.07000</td>\n",
              "      <td>4706.13</td>\n",
              "    </tr>\n",
              "    <tr>\n",
              "      <th>73</th>\n",
              "      <td>th-sg</td>\n",
              "      <td>26702.00</td>\n",
              "      <td>37276.00</td>\n",
              "      <td>41304.80</td>\n",
              "      <td>47260.67</td>\n",
              "      <td>53493.02</td>\n",
              "      <td>59831.77000</td>\n",
              "      <td>68097.42</td>\n",
              "    </tr>\n",
              "    <tr>\n",
              "      <th>74</th>\n",
              "      <td>th-sa</td>\n",
              "      <td>5332.00</td>\n",
              "      <td>5905.00</td>\n",
              "      <td>6162.46</td>\n",
              "      <td>6846.72</td>\n",
              "      <td>7438.85</td>\n",
              "      <td>8168.70000</td>\n",
              "      <td>9101.47</td>\n",
              "    </tr>\n",
              "    <tr>\n",
              "      <th>75</th>\n",
              "      <td>th-st</td>\n",
              "      <td>35312.00</td>\n",
              "      <td>51550.00</td>\n",
              "      <td>56952.27</td>\n",
              "      <td>65420.63</td>\n",
              "      <td>76546.39</td>\n",
              "      <td>92228.01000</td>\n",
              "      <td>104503.71</td>\n",
              "    </tr>\n",
              "    <tr>\n",
              "      <th>76</th>\n",
              "      <td>th-bk</td>\n",
              "      <td>0.00</td>\n",
              "      <td>0.00</td>\n",
              "      <td>685.02</td>\n",
              "      <td>806.10</td>\n",
              "      <td>900.50</td>\n",
              "      <td>976.61000</td>\n",
              "      <td>1047.13</td>\n",
              "    </tr>\n",
              "  </tbody>\n",
              "</table>\n",
              "<p>77 rows × 8 columns</p>\n",
              "</div>"
            ],
            "text/plain": [
              "   รหัสจังหวัด  income2555  income2556  ...  income2559    income2560  income2561\n",
              "0        th-bm   570327.58   626535.05  ...   822454.21  947946.30000  1051118.51\n",
              "1        th-kn    11910.00    13417.00  ...    20404.73   24440.77288    27138.35\n",
              "2        th-ct     4214.00     4569.00  ...     5630.03    7628.47000     8469.45\n",
              "3        th-cc     3571.69     3735.06  ...     4240.41    4655.55000     5007.28\n",
              "4        th-cb   100537.00   111109.00  ...   187788.42  240610.45000   272435.77\n",
              "..         ...         ...         ...  ...         ...           ...         ...\n",
              "72       th-rn     2780.00     3250.00  ...     3954.75    4311.07000     4706.13\n",
              "73       th-sg    26702.00    37276.00  ...    53493.02   59831.77000    68097.42\n",
              "74       th-sa     5332.00     5905.00  ...     7438.85    8168.70000     9101.47\n",
              "75       th-st    35312.00    51550.00  ...    76546.39   92228.01000   104503.71\n",
              "76       th-bk        0.00        0.00  ...      900.50     976.61000     1047.13\n",
              "\n",
              "[77 rows x 8 columns]"
            ]
          },
          "metadata": {},
          "execution_count": 32
        }
      ]
    },
    {
      "cell_type": "markdown",
      "metadata": {
        "id": "KNvRAjyNgmpc"
      },
      "source": [
        "ตรวจสอบค่า missing ของข้อมูลตาราง data_income"
      ]
    },
    {
      "cell_type": "code",
      "metadata": {
        "colab": {
          "base_uri": "https://localhost:8080/"
        },
        "id": "X7ILEMKbgm8_",
        "outputId": "ed3204a9-3dab-4266-f1f8-7c4eda296021"
      },
      "source": [
        "data_income.isnull().any()"
      ],
      "execution_count": 33,
      "outputs": [
        {
          "output_type": "execute_result",
          "data": {
            "text/plain": [
              "รหัสจังหวัด    False\n",
              "income2555     False\n",
              "income2556     False\n",
              "income2557     False\n",
              "income2558     False\n",
              "income2559     False\n",
              "income2560     False\n",
              "income2561     False\n",
              "dtype: bool"
            ]
          },
          "metadata": {},
          "execution_count": 33
        }
      ]
    },
    {
      "cell_type": "markdown",
      "metadata": {
        "id": "DMBmP0phgtZQ"
      },
      "source": [
        "แสดงผลเป็น false ทั้งหมด หมายความว่า ไม่มีค่า missing ในข้อมูล รายได้จากการท่องเที่ยว จำแนกตามจังหวัด"
      ]
    },
    {
      "cell_type": "markdown",
      "metadata": {
        "id": "Hi0sY9UGgwR6"
      },
      "source": [
        "### รวม 2 ตารางเข้าด้วยกัน .merge()"
      ]
    },
    {
      "cell_type": "markdown",
      "metadata": {
        "id": "-gNPlRn2qWef"
      },
      "source": [
        "เชื่อมตาราง data_visitor กับตาราง data_income เข้าด้วยกันด้วย 'รหัสจังหวัด'"
      ]
    },
    {
      "cell_type": "code",
      "metadata": {
        "colab": {
          "base_uri": "https://localhost:8080/",
          "height": 456
        },
        "id": "RESfAqoAgt7u",
        "outputId": "cee14fb5-3cdc-4f66-92c3-7ebd333ce5c4"
      },
      "source": [
        "merged_data_visitor_data_income = data_visitor.merge(data_income,how='left',left_on='รหัสจังหวัด',right_on='รหัสจังหวัด') \n",
        "merged_data_visitor_data_income"
      ],
      "execution_count": 34,
      "outputs": [
        {
          "output_type": "execute_result",
          "data": {
            "text/html": [
              "<div>\n",
              "<style scoped>\n",
              "    .dataframe tbody tr th:only-of-type {\n",
              "        vertical-align: middle;\n",
              "    }\n",
              "\n",
              "    .dataframe tbody tr th {\n",
              "        vertical-align: top;\n",
              "    }\n",
              "\n",
              "    .dataframe thead th {\n",
              "        text-align: right;\n",
              "    }\n",
              "</style>\n",
              "<table border=\"1\" class=\"dataframe\">\n",
              "  <thead>\n",
              "    <tr style=\"text-align: right;\">\n",
              "      <th></th>\n",
              "      <th>จังหวัด</th>\n",
              "      <th>รหัสจังหวัด</th>\n",
              "      <th>visitor2555</th>\n",
              "      <th>visitor2556</th>\n",
              "      <th>visitor2557</th>\n",
              "      <th>visitor2558</th>\n",
              "      <th>visitor2559</th>\n",
              "      <th>visitor2560</th>\n",
              "      <th>visitor2561</th>\n",
              "      <th>income2555</th>\n",
              "      <th>income2556</th>\n",
              "      <th>income2557</th>\n",
              "      <th>income2558</th>\n",
              "      <th>income2559</th>\n",
              "      <th>income2560</th>\n",
              "      <th>income2561</th>\n",
              "    </tr>\n",
              "  </thead>\n",
              "  <tbody>\n",
              "    <tr>\n",
              "      <th>0</th>\n",
              "      <td>กรุงเทพมหานคร</td>\n",
              "      <td>th-bm</td>\n",
              "      <td>47185031</td>\n",
              "      <td>50568902</td>\n",
              "      <td>50972772</td>\n",
              "      <td>56515597</td>\n",
              "      <td>59196331</td>\n",
              "      <td>63575737</td>\n",
              "      <td>65534281</td>\n",
              "      <td>570327.58</td>\n",
              "      <td>626535.05</td>\n",
              "      <td>634803.16</td>\n",
              "      <td>730318.31</td>\n",
              "      <td>822454.21</td>\n",
              "      <td>947946.30</td>\n",
              "      <td>1051118.51</td>\n",
              "    </tr>\n",
              "    <tr>\n",
              "      <th>1</th>\n",
              "      <td>สมุทรปราการ</td>\n",
              "      <td>th-sp</td>\n",
              "      <td>2107433</td>\n",
              "      <td>2204073</td>\n",
              "      <td>2350340</td>\n",
              "      <td>2780429</td>\n",
              "      <td>2900180</td>\n",
              "      <td>3218934</td>\n",
              "      <td>3373639</td>\n",
              "      <td>3451.66</td>\n",
              "      <td>3768.56</td>\n",
              "      <td>4044.50</td>\n",
              "      <td>4901.16</td>\n",
              "      <td>5265.36</td>\n",
              "      <td>6144.65</td>\n",
              "      <td>6656.34</td>\n",
              "    </tr>\n",
              "    <tr>\n",
              "      <th>2</th>\n",
              "      <td>นนทบุรี</td>\n",
              "      <td>th-no</td>\n",
              "      <td>1663990</td>\n",
              "      <td>1700408</td>\n",
              "      <td>1730885</td>\n",
              "      <td>2045867</td>\n",
              "      <td>2090095</td>\n",
              "      <td>2514677</td>\n",
              "      <td>2664025</td>\n",
              "      <td>2425.62</td>\n",
              "      <td>2503.18</td>\n",
              "      <td>2560.31</td>\n",
              "      <td>3037.15</td>\n",
              "      <td>3177.98</td>\n",
              "      <td>3963.09</td>\n",
              "      <td>4368.99</td>\n",
              "    </tr>\n",
              "    <tr>\n",
              "      <th>3</th>\n",
              "      <td>ปทุมธานี</td>\n",
              "      <td>th-pt</td>\n",
              "      <td>1474292</td>\n",
              "      <td>1553170</td>\n",
              "      <td>1613073</td>\n",
              "      <td>1815389</td>\n",
              "      <td>1896549</td>\n",
              "      <td>2014281</td>\n",
              "      <td>2098344</td>\n",
              "      <td>1979.86</td>\n",
              "      <td>2199.57</td>\n",
              "      <td>2323.12</td>\n",
              "      <td>2711.66</td>\n",
              "      <td>2876.04</td>\n",
              "      <td>3172.61</td>\n",
              "      <td>3443.06</td>\n",
              "    </tr>\n",
              "    <tr>\n",
              "      <th>4</th>\n",
              "      <td>พระนครศรีอยุธยา</td>\n",
              "      <td>th-pa</td>\n",
              "      <td>6066545</td>\n",
              "      <td>6226424</td>\n",
              "      <td>6698561</td>\n",
              "      <td>6994538</td>\n",
              "      <td>7216514</td>\n",
              "      <td>7631557</td>\n",
              "      <td>8349613</td>\n",
              "      <td>11569.24</td>\n",
              "      <td>12235.03</td>\n",
              "      <td>13446.66</td>\n",
              "      <td>14485.17</td>\n",
              "      <td>15309.69</td>\n",
              "      <td>16901.48</td>\n",
              "      <td>18718.90</td>\n",
              "    </tr>\n",
              "    <tr>\n",
              "      <th>...</th>\n",
              "      <td>...</td>\n",
              "      <td>...</td>\n",
              "      <td>...</td>\n",
              "      <td>...</td>\n",
              "      <td>...</td>\n",
              "      <td>...</td>\n",
              "      <td>...</td>\n",
              "      <td>...</td>\n",
              "      <td>...</td>\n",
              "      <td>...</td>\n",
              "      <td>...</td>\n",
              "      <td>...</td>\n",
              "      <td>...</td>\n",
              "      <td>...</td>\n",
              "      <td>...</td>\n",
              "      <td>...</td>\n",
              "    </tr>\n",
              "    <tr>\n",
              "      <th>72</th>\n",
              "      <td>ตรัง</td>\n",
              "      <td>th-tg</td>\n",
              "      <td>1137961</td>\n",
              "      <td>1281663</td>\n",
              "      <td>1308968</td>\n",
              "      <td>1414663</td>\n",
              "      <td>1465811</td>\n",
              "      <td>1514092</td>\n",
              "      <td>1578906</td>\n",
              "      <td>6231.00</td>\n",
              "      <td>6679.00</td>\n",
              "      <td>6806.73</td>\n",
              "      <td>7500.31</td>\n",
              "      <td>8214.94</td>\n",
              "      <td>9028.01</td>\n",
              "      <td>9916.29</td>\n",
              "    </tr>\n",
              "    <tr>\n",
              "      <th>73</th>\n",
              "      <td>พัทลุง</td>\n",
              "      <td>th-pl</td>\n",
              "      <td>1089992</td>\n",
              "      <td>1178007</td>\n",
              "      <td>1236012</td>\n",
              "      <td>1326468</td>\n",
              "      <td>1487188</td>\n",
              "      <td>1569333</td>\n",
              "      <td>1641841</td>\n",
              "      <td>1780.00</td>\n",
              "      <td>2146.00</td>\n",
              "      <td>2206.35</td>\n",
              "      <td>2436.70</td>\n",
              "      <td>2842.97</td>\n",
              "      <td>3155.92</td>\n",
              "      <td>3489.08</td>\n",
              "    </tr>\n",
              "    <tr>\n",
              "      <th>74</th>\n",
              "      <td>ปัตตานี</td>\n",
              "      <td>th-pi</td>\n",
              "      <td>214285</td>\n",
              "      <td>235606</td>\n",
              "      <td>237925</td>\n",
              "      <td>251081</td>\n",
              "      <td>257143</td>\n",
              "      <td>272739</td>\n",
              "      <td>281988</td>\n",
              "      <td>743.00</td>\n",
              "      <td>778.00</td>\n",
              "      <td>774.61</td>\n",
              "      <td>831.10</td>\n",
              "      <td>894.84</td>\n",
              "      <td>996.16</td>\n",
              "      <td>1100.97</td>\n",
              "    </tr>\n",
              "    <tr>\n",
              "      <th>75</th>\n",
              "      <td>ยะลา</td>\n",
              "      <td>th-yl</td>\n",
              "      <td>429044</td>\n",
              "      <td>563771</td>\n",
              "      <td>589653</td>\n",
              "      <td>622376</td>\n",
              "      <td>624879</td>\n",
              "      <td>657317</td>\n",
              "      <td>680018</td>\n",
              "      <td>1759.00</td>\n",
              "      <td>2420.00</td>\n",
              "      <td>2494.90</td>\n",
              "      <td>2649.11</td>\n",
              "      <td>2875.32</td>\n",
              "      <td>3145.57</td>\n",
              "      <td>3443.17</td>\n",
              "    </tr>\n",
              "    <tr>\n",
              "      <th>76</th>\n",
              "      <td>นราธิวาส</td>\n",
              "      <td>th-nw</td>\n",
              "      <td>489944</td>\n",
              "      <td>570973</td>\n",
              "      <td>589690</td>\n",
              "      <td>635910</td>\n",
              "      <td>646020</td>\n",
              "      <td>665710</td>\n",
              "      <td>692057</td>\n",
              "      <td>2139.00</td>\n",
              "      <td>2208.00</td>\n",
              "      <td>2323.54</td>\n",
              "      <td>2524.44</td>\n",
              "      <td>2654.01</td>\n",
              "      <td>2888.53</td>\n",
              "      <td>3137.67</td>\n",
              "    </tr>\n",
              "  </tbody>\n",
              "</table>\n",
              "<p>77 rows × 16 columns</p>\n",
              "</div>"
            ],
            "text/plain": [
              "            จังหวัด รหัสจังหวัด  ...  income2560  income2561\n",
              "0     กรุงเทพมหานคร       th-bm  ...   947946.30  1051118.51\n",
              "1       สมุทรปราการ       th-sp  ...     6144.65     6656.34\n",
              "2           นนทบุรี       th-no  ...     3963.09     4368.99\n",
              "3          ปทุมธานี       th-pt  ...     3172.61     3443.06\n",
              "4   พระนครศรีอยุธยา       th-pa  ...    16901.48    18718.90\n",
              "..              ...         ...  ...         ...         ...\n",
              "72             ตรัง       th-tg  ...     9028.01     9916.29\n",
              "73           พัทลุง       th-pl  ...     3155.92     3489.08\n",
              "74          ปัตตานี       th-pi  ...      996.16     1100.97\n",
              "75             ยะลา       th-yl  ...     3145.57     3443.17\n",
              "76         นราธิวาส       th-nw  ...     2888.53     3137.67\n",
              "\n",
              "[77 rows x 16 columns]"
            ]
          },
          "metadata": {},
          "execution_count": 34
        }
      ]
    },
    {
      "cell_type": "code",
      "metadata": {
        "colab": {
          "base_uri": "https://localhost:8080/"
        },
        "id": "coJyXkkyg0fa",
        "outputId": "a65aea50-fb2f-455d-e6b9-b26ead39cfe0"
      },
      "source": [
        "merged_data_visitor_data_income.isnull().any() # ตรวจสอบค่า missing"
      ],
      "execution_count": 35,
      "outputs": [
        {
          "output_type": "execute_result",
          "data": {
            "text/plain": [
              "จังหวัด        False\n",
              "รหัสจังหวัด    False\n",
              "visitor2555    False\n",
              "visitor2556    False\n",
              "visitor2557    False\n",
              "visitor2558    False\n",
              "visitor2559    False\n",
              "visitor2560    False\n",
              "visitor2561    False\n",
              "income2555     False\n",
              "income2556     False\n",
              "income2557     False\n",
              "income2558     False\n",
              "income2559     False\n",
              "income2560     False\n",
              "income2561     False\n",
              "dtype: bool"
            ]
          },
          "metadata": {},
          "execution_count": 35
        }
      ]
    },
    {
      "cell_type": "markdown",
      "metadata": {
        "id": "aJphn8uWg15h"
      },
      "source": [
        "แสดงผลเป็น false ทั้งหมด หมายความว่า ไม่มีค่า missing ในข้อมูล จากการรวมตารางของ รายได้ และ ผู้เยี่ยมเยือนเข้าด้วยกัน"
      ]
    },
    {
      "cell_type": "markdown",
      "metadata": {
        "id": "f7Ou7IIRqrkJ"
      },
      "source": [
        "#### หลังจากผ่านการตรวจสอบ missing แล้ว นำข้อมูลที่ได้จากการรวมตารางครั้งแรกมาเชื่อมกับตาราง data_city "
      ]
    },
    {
      "cell_type": "code",
      "metadata": {
        "colab": {
          "base_uri": "https://localhost:8080/",
          "height": 1000
        },
        "id": "XaQlk20zg2am",
        "outputId": "4c646827-e46e-4ea9-ea38-e15efadf0856"
      },
      "source": [
        "data_mix = merged_data_visitor_data_income.merge(data_city,how='left',left_on='จังหวัด',right_on='จังหวัด')\n",
        "data_mix"
      ],
      "execution_count": 36,
      "outputs": [
        {
          "output_type": "execute_result",
          "data": {
            "text/html": [
              "<div>\n",
              "<style scoped>\n",
              "    .dataframe tbody tr th:only-of-type {\n",
              "        vertical-align: middle;\n",
              "    }\n",
              "\n",
              "    .dataframe tbody tr th {\n",
              "        vertical-align: top;\n",
              "    }\n",
              "\n",
              "    .dataframe thead th {\n",
              "        text-align: right;\n",
              "    }\n",
              "</style>\n",
              "<table border=\"1\" class=\"dataframe\">\n",
              "  <thead>\n",
              "    <tr style=\"text-align: right;\">\n",
              "      <th></th>\n",
              "      <th>จังหวัด</th>\n",
              "      <th>รหัสจังหวัด</th>\n",
              "      <th>visitor2555</th>\n",
              "      <th>visitor2556</th>\n",
              "      <th>visitor2557</th>\n",
              "      <th>visitor2558</th>\n",
              "      <th>visitor2559</th>\n",
              "      <th>visitor2560</th>\n",
              "      <th>visitor2561</th>\n",
              "      <th>income2555</th>\n",
              "      <th>income2556</th>\n",
              "      <th>income2557</th>\n",
              "      <th>income2558</th>\n",
              "      <th>income2559</th>\n",
              "      <th>income2560</th>\n",
              "      <th>income2561</th>\n",
              "      <th>ชื่อย่านชุมชนเก่า</th>\n",
              "      <th>ตำบล</th>\n",
              "      <th>อำเภอ</th>\n",
              "      <th>ภาค</th>\n",
              "      <th>East</th>\n",
              "      <th>North</th>\n",
              "      <th>ลักษณะชุมชน</th>\n",
              "      <th>ลักษณะสำคัญ</th>\n",
              "    </tr>\n",
              "  </thead>\n",
              "  <tbody>\n",
              "    <tr>\n",
              "      <th>0</th>\n",
              "      <td>กรุงเทพมหานคร</td>\n",
              "      <td>th-bm</td>\n",
              "      <td>47185031</td>\n",
              "      <td>50568902</td>\n",
              "      <td>50972772</td>\n",
              "      <td>56515597</td>\n",
              "      <td>59196331</td>\n",
              "      <td>63575737</td>\n",
              "      <td>65534281</td>\n",
              "      <td>570327.58</td>\n",
              "      <td>626535.05</td>\n",
              "      <td>634803.16</td>\n",
              "      <td>730318.31</td>\n",
              "      <td>822454.21</td>\n",
              "      <td>947946.30</td>\n",
              "      <td>1051118.51</td>\n",
              "      <td>NaN</td>\n",
              "      <td>NaN</td>\n",
              "      <td>NaN</td>\n",
              "      <td>NaN</td>\n",
              "      <td>NaN</td>\n",
              "      <td>NaN</td>\n",
              "      <td>NaN</td>\n",
              "      <td>NaN</td>\n",
              "    </tr>\n",
              "    <tr>\n",
              "      <th>1</th>\n",
              "      <td>สมุทรปราการ</td>\n",
              "      <td>th-sp</td>\n",
              "      <td>2107433</td>\n",
              "      <td>2204073</td>\n",
              "      <td>2350340</td>\n",
              "      <td>2780429</td>\n",
              "      <td>2900180</td>\n",
              "      <td>3218934</td>\n",
              "      <td>3373639</td>\n",
              "      <td>3451.66</td>\n",
              "      <td>3768.56</td>\n",
              "      <td>4044.50</td>\n",
              "      <td>4901.16</td>\n",
              "      <td>5265.36</td>\n",
              "      <td>6144.65</td>\n",
              "      <td>6656.34</td>\n",
              "      <td>ชุมชนเมืองนครเขื่อนขันธ์</td>\n",
              "      <td>ตลาด</td>\n",
              "      <td>พระประแดง</td>\n",
              "      <td>กลาง</td>\n",
              "      <td>665816.5497</td>\n",
              "      <td>1510691.186</td>\n",
              "      <td>เป็นชุมชนตลาด</td>\n",
              "      <td>ชุมชนเมืองนครเขื่อนขันธ์ เป็นชุมชนย่านการค้าเก...</td>\n",
              "    </tr>\n",
              "    <tr>\n",
              "      <th>2</th>\n",
              "      <td>สมุทรปราการ</td>\n",
              "      <td>th-sp</td>\n",
              "      <td>2107433</td>\n",
              "      <td>2204073</td>\n",
              "      <td>2350340</td>\n",
              "      <td>2780429</td>\n",
              "      <td>2900180</td>\n",
              "      <td>3218934</td>\n",
              "      <td>3373639</td>\n",
              "      <td>3451.66</td>\n",
              "      <td>3768.56</td>\n",
              "      <td>4044.50</td>\n",
              "      <td>4901.16</td>\n",
              "      <td>5265.36</td>\n",
              "      <td>6144.65</td>\n",
              "      <td>6656.34</td>\n",
              "      <td>ชุมชนตลาดบางพลี</td>\n",
              "      <td>บางพลีใหญ่</td>\n",
              "      <td>บางพลี</td>\n",
              "      <td>กลาง</td>\n",
              "      <td>684972.5986</td>\n",
              "      <td>1504734.254</td>\n",
              "      <td>เป็นชุมชนตลาด</td>\n",
              "      <td>ชุมชนตลาดบางพลี เป็นชุมชนย่านตลาดการค้าเก่าแก่...</td>\n",
              "    </tr>\n",
              "    <tr>\n",
              "      <th>3</th>\n",
              "      <td>สมุทรปราการ</td>\n",
              "      <td>th-sp</td>\n",
              "      <td>2107433</td>\n",
              "      <td>2204073</td>\n",
              "      <td>2350340</td>\n",
              "      <td>2780429</td>\n",
              "      <td>2900180</td>\n",
              "      <td>3218934</td>\n",
              "      <td>3373639</td>\n",
              "      <td>3451.66</td>\n",
              "      <td>3768.56</td>\n",
              "      <td>4044.50</td>\n",
              "      <td>4901.16</td>\n",
              "      <td>5265.36</td>\n",
              "      <td>6144.65</td>\n",
              "      <td>6656.34</td>\n",
              "      <td>ชุมชนตลาดคลองสวน</td>\n",
              "      <td>คลองสวน</td>\n",
              "      <td>บางบ่อ</td>\n",
              "      <td>กลาง</td>\n",
              "      <td>711460.1263</td>\n",
              "      <td>1511257.498</td>\n",
              "      <td>เป็นชุมชนตลาด</td>\n",
              "      <td>ชุมชนตลาดคลองสวน เป็นชุมชนย่านตลาดการค้า บริเว...</td>\n",
              "    </tr>\n",
              "    <tr>\n",
              "      <th>4</th>\n",
              "      <td>สมุทรปราการ</td>\n",
              "      <td>th-sp</td>\n",
              "      <td>2107433</td>\n",
              "      <td>2204073</td>\n",
              "      <td>2350340</td>\n",
              "      <td>2780429</td>\n",
              "      <td>2900180</td>\n",
              "      <td>3218934</td>\n",
              "      <td>3373639</td>\n",
              "      <td>3451.66</td>\n",
              "      <td>3768.56</td>\n",
              "      <td>4044.50</td>\n",
              "      <td>4901.16</td>\n",
              "      <td>5265.36</td>\n",
              "      <td>6144.65</td>\n",
              "      <td>6656.34</td>\n",
              "      <td>ชุมชนบ้านสาขลา</td>\n",
              "      <td>นาเกลือ</td>\n",
              "      <td>พระสมุทรเจดีย์</td>\n",
              "      <td>กลาง</td>\n",
              "      <td>662776.0498</td>\n",
              "      <td>1497564.267</td>\n",
              "      <td>เป็นชุมชนประมง</td>\n",
              "      <td>ชุมชนบ้านสาขลา เป็นชุมชนประมงของชาวนาเกลือ ที่...</td>\n",
              "    </tr>\n",
              "    <tr>\n",
              "      <th>...</th>\n",
              "      <td>...</td>\n",
              "      <td>...</td>\n",
              "      <td>...</td>\n",
              "      <td>...</td>\n",
              "      <td>...</td>\n",
              "      <td>...</td>\n",
              "      <td>...</td>\n",
              "      <td>...</td>\n",
              "      <td>...</td>\n",
              "      <td>...</td>\n",
              "      <td>...</td>\n",
              "      <td>...</td>\n",
              "      <td>...</td>\n",
              "      <td>...</td>\n",
              "      <td>...</td>\n",
              "      <td>...</td>\n",
              "      <td>...</td>\n",
              "      <td>...</td>\n",
              "      <td>...</td>\n",
              "      <td>...</td>\n",
              "      <td>...</td>\n",
              "      <td>...</td>\n",
              "      <td>...</td>\n",
              "      <td>...</td>\n",
              "    </tr>\n",
              "    <tr>\n",
              "      <th>609</th>\n",
              "      <td>นราธิวาส</td>\n",
              "      <td>th-nw</td>\n",
              "      <td>489944</td>\n",
              "      <td>570973</td>\n",
              "      <td>589690</td>\n",
              "      <td>635910</td>\n",
              "      <td>646020</td>\n",
              "      <td>665710</td>\n",
              "      <td>692057</td>\n",
              "      <td>2139.00</td>\n",
              "      <td>2208.00</td>\n",
              "      <td>2323.54</td>\n",
              "      <td>2524.44</td>\n",
              "      <td>2654.01</td>\n",
              "      <td>2888.53</td>\n",
              "      <td>3137.67</td>\n",
              "      <td>ดุซงญอ</td>\n",
              "      <td>ดุซงญอ</td>\n",
              "      <td>จะแนะ</td>\n",
              "      <td>ใต้</td>\n",
              "      <td>799197.4461</td>\n",
              "      <td>682963.5703</td>\n",
              "      <td>เป็นชุมชนตลาด</td>\n",
              "      <td>ดุซงญอ เป็นชุมชนตลาด และชุมชนความทรงจำ \"ดุซงญอ...</td>\n",
              "    </tr>\n",
              "    <tr>\n",
              "      <th>610</th>\n",
              "      <td>นราธิวาส</td>\n",
              "      <td>th-nw</td>\n",
              "      <td>489944</td>\n",
              "      <td>570973</td>\n",
              "      <td>589690</td>\n",
              "      <td>635910</td>\n",
              "      <td>646020</td>\n",
              "      <td>665710</td>\n",
              "      <td>692057</td>\n",
              "      <td>2139.00</td>\n",
              "      <td>2208.00</td>\n",
              "      <td>2323.54</td>\n",
              "      <td>2524.44</td>\n",
              "      <td>2654.01</td>\n",
              "      <td>2888.53</td>\n",
              "      <td>3137.67</td>\n",
              "      <td>ตะโละมาเนาะ</td>\n",
              "      <td>ลุโบะสาวอ</td>\n",
              "      <td>บาเจาะ</td>\n",
              "      <td>ใต้</td>\n",
              "      <td>793838.0669</td>\n",
              "      <td>717521.8107</td>\n",
              "      <td>เป็นชุมชนเกษตรกรรม</td>\n",
              "      <td>ตะโละมาเนาะ เป็นชุมชนเกษตรกรรม และชุมชนโดยรอบโ...</td>\n",
              "    </tr>\n",
              "    <tr>\n",
              "      <th>611</th>\n",
              "      <td>นราธิวาส</td>\n",
              "      <td>th-nw</td>\n",
              "      <td>489944</td>\n",
              "      <td>570973</td>\n",
              "      <td>589690</td>\n",
              "      <td>635910</td>\n",
              "      <td>646020</td>\n",
              "      <td>665710</td>\n",
              "      <td>692057</td>\n",
              "      <td>2139.00</td>\n",
              "      <td>2208.00</td>\n",
              "      <td>2323.54</td>\n",
              "      <td>2524.44</td>\n",
              "      <td>2654.01</td>\n",
              "      <td>2888.53</td>\n",
              "      <td>3137.67</td>\n",
              "      <td>ละหาร</td>\n",
              "      <td>ละหาร</td>\n",
              "      <td>ยี่งอ</td>\n",
              "      <td>ใต้</td>\n",
              "      <td>803363.9264</td>\n",
              "      <td>707860.4349</td>\n",
              "      <td>เป็นชุมชนเกษตรกรรม</td>\n",
              "      <td>ละหาร เป็นชุมชนเกษตรกรรม บ้านละหารตั้งอยู่ในอำ...</td>\n",
              "    </tr>\n",
              "    <tr>\n",
              "      <th>612</th>\n",
              "      <td>นราธิวาส</td>\n",
              "      <td>th-nw</td>\n",
              "      <td>489944</td>\n",
              "      <td>570973</td>\n",
              "      <td>589690</td>\n",
              "      <td>635910</td>\n",
              "      <td>646020</td>\n",
              "      <td>665710</td>\n",
              "      <td>692057</td>\n",
              "      <td>2139.00</td>\n",
              "      <td>2208.00</td>\n",
              "      <td>2323.54</td>\n",
              "      <td>2524.44</td>\n",
              "      <td>2654.01</td>\n",
              "      <td>2888.53</td>\n",
              "      <td>3137.67</td>\n",
              "      <td>ตลาดยี่งอ</td>\n",
              "      <td>ยี่งอ</td>\n",
              "      <td>ยี่งอ</td>\n",
              "      <td>ใต้</td>\n",
              "      <td>799685.276</td>\n",
              "      <td>708719.1293</td>\n",
              "      <td>เป็นชุมชนตลาด</td>\n",
              "      <td>ตลาดยี่งอ เป็นชุมชนตลาด \"เมืองยี่งอ\" อาจจะเรีย...</td>\n",
              "    </tr>\n",
              "    <tr>\n",
              "      <th>613</th>\n",
              "      <td>นราธิวาส</td>\n",
              "      <td>th-nw</td>\n",
              "      <td>489944</td>\n",
              "      <td>570973</td>\n",
              "      <td>589690</td>\n",
              "      <td>635910</td>\n",
              "      <td>646020</td>\n",
              "      <td>665710</td>\n",
              "      <td>692057</td>\n",
              "      <td>2139.00</td>\n",
              "      <td>2208.00</td>\n",
              "      <td>2323.54</td>\n",
              "      <td>2524.44</td>\n",
              "      <td>2654.01</td>\n",
              "      <td>2888.53</td>\n",
              "      <td>3137.67</td>\n",
              "      <td>ตลาดสุไหงปาดี</td>\n",
              "      <td>ปะลุรู</td>\n",
              "      <td>สุไหงปาดี</td>\n",
              "      <td>ใต้</td>\n",
              "      <td>818865.3765</td>\n",
              "      <td>673637.8713</td>\n",
              "      <td>เป็นชุมชนตลาด</td>\n",
              "      <td>ตลาดสุไหงปาดี เป็นชุมชนตลาด และชุมชนโดยรอบทางร...</td>\n",
              "    </tr>\n",
              "  </tbody>\n",
              "</table>\n",
              "<p>614 rows × 24 columns</p>\n",
              "</div>"
            ],
            "text/plain": [
              "           จังหวัด  ...                                        ลักษณะสำคัญ\n",
              "0    กรุงเทพมหานคร  ...                                                NaN\n",
              "1      สมุทรปราการ  ...  ชุมชนเมืองนครเขื่อนขันธ์ เป็นชุมชนย่านการค้าเก...\n",
              "2      สมุทรปราการ  ...  ชุมชนตลาดบางพลี เป็นชุมชนย่านตลาดการค้าเก่าแก่...\n",
              "3      สมุทรปราการ  ...  ชุมชนตลาดคลองสวน เป็นชุมชนย่านตลาดการค้า บริเว...\n",
              "4      สมุทรปราการ  ...  ชุมชนบ้านสาขลา เป็นชุมชนประมงของชาวนาเกลือ ที่...\n",
              "..             ...  ...                                                ...\n",
              "609       นราธิวาส  ...  ดุซงญอ เป็นชุมชนตลาด และชุมชนความทรงจำ \"ดุซงญอ...\n",
              "610       นราธิวาส  ...  ตะโละมาเนาะ เป็นชุมชนเกษตรกรรม และชุมชนโดยรอบโ...\n",
              "611       นราธิวาส  ...  ละหาร เป็นชุมชนเกษตรกรรม บ้านละหารตั้งอยู่ในอำ...\n",
              "612       นราธิวาส  ...  ตลาดยี่งอ เป็นชุมชนตลาด \"เมืองยี่งอ\" อาจจะเรีย...\n",
              "613       นราธิวาส  ...  ตลาดสุไหงปาดี เป็นชุมชนตลาด และชุมชนโดยรอบทางร...\n",
              "\n",
              "[614 rows x 24 columns]"
            ]
          },
          "metadata": {},
          "execution_count": 36
        }
      ]
    },
    {
      "cell_type": "code",
      "metadata": {
        "colab": {
          "base_uri": "https://localhost:8080/"
        },
        "id": "F28baUjKg3ud",
        "outputId": "6bdf16cc-6eed-4605-b389-857c83e2b322"
      },
      "source": [
        "data_mix.isnull().any() # ตรวจสอบค่า missing"
      ],
      "execution_count": 37,
      "outputs": [
        {
          "output_type": "execute_result",
          "data": {
            "text/plain": [
              "จังหวัด              False\n",
              "รหัสจังหวัด          False\n",
              "visitor2555          False\n",
              "visitor2556          False\n",
              "visitor2557          False\n",
              "visitor2558          False\n",
              "visitor2559          False\n",
              "visitor2560          False\n",
              "visitor2561          False\n",
              "income2555           False\n",
              "income2556           False\n",
              "income2557           False\n",
              "income2558           False\n",
              "income2559           False\n",
              "income2560           False\n",
              "income2561           False\n",
              "ชื่อย่านชุมชนเก่า     True\n",
              "ตำบล                  True\n",
              "อำเภอ                 True\n",
              "ภาค                   True\n",
              "East                  True\n",
              "North                 True\n",
              "ลักษณะชุมชน           True\n",
              "ลักษณะสำคัญ           True\n",
              "dtype: bool"
            ]
          },
          "metadata": {},
          "execution_count": 37
        }
      ]
    },
    {
      "cell_type": "markdown",
      "metadata": {
        "id": "Xvu58hc5g8hL"
      },
      "source": [
        "ในการแสดงผล พบว่ามีข้อมูล ชื่อย่านชุมชนเก่า,ตำบล,อำเภอ,ภาค,East,North ,ลักษณะสำคัญ ที่ยังมีค่า missing อยู่ จึงต้องทำการจัดการค่า Missing ก่อน"
      ]
    },
    {
      "cell_type": "markdown",
      "metadata": {
        "id": "HwoTXQBFg-hb"
      },
      "source": [
        "#### จัดการค่า missing ด้วยวิธี Handling missing (แทนด้วย class ใหม่ (unknow) ) โดยใช้คำสั่ง .fillna()"
      ]
    },
    {
      "cell_type": "code",
      "metadata": {
        "id": "R7CONzxYg5RH"
      },
      "source": [
        "data_mix[['ชื่อย่านชุมชนเก่า']] = data_mix[['ชื่อย่านชุมชนเก่า']].fillna('ไม่มีข้อมูล')\n",
        "data_mix[['ตำบล']] =data_mix[['ตำบล']].fillna('ไม่มีข้อมูล')\n",
        "data_mix[['อำเภอ']] = data_mix[['อำเภอ']].fillna('ไม่มีข้อมูล')\n",
        "data_mix[['ภาค']] = data_mix[['ภาค']].fillna('ไม่มีข้อมูล')\n",
        "data_mix[['East']] =data_mix[['East']].fillna('ไม่มีข้อมูล')\n",
        "data_mix[['North']] =data_mix[['North']].fillna('ไม่มีข้อมูล')\n",
        "data_mix[['ลักษณะชุมชน']] =data_mix[['ลักษณะชุมชน']].fillna('ไม่มีข้อมูล')\n",
        "data_mix[['ลักษณะสำคัญ']] =data_mix[['ลักษณะสำคัญ']].fillna('ไม่มีข้อมูล')"
      ],
      "execution_count": 38,
      "outputs": []
    },
    {
      "cell_type": "code",
      "metadata": {
        "colab": {
          "base_uri": "https://localhost:8080/"
        },
        "id": "5skn7tRDg7Iu",
        "outputId": "eec463bf-4e48-40b9-caed-243ba69be223"
      },
      "source": [
        "data_mix.isnull().any() # ตรวจสอบอีกรอบ"
      ],
      "execution_count": 39,
      "outputs": [
        {
          "output_type": "execute_result",
          "data": {
            "text/plain": [
              "จังหวัด              False\n",
              "รหัสจังหวัด          False\n",
              "visitor2555          False\n",
              "visitor2556          False\n",
              "visitor2557          False\n",
              "visitor2558          False\n",
              "visitor2559          False\n",
              "visitor2560          False\n",
              "visitor2561          False\n",
              "income2555           False\n",
              "income2556           False\n",
              "income2557           False\n",
              "income2558           False\n",
              "income2559           False\n",
              "income2560           False\n",
              "income2561           False\n",
              "ชื่อย่านชุมชนเก่า    False\n",
              "ตำบล                 False\n",
              "อำเภอ                False\n",
              "ภาค                  False\n",
              "East                 False\n",
              "North                False\n",
              "ลักษณะชุมชน          False\n",
              "ลักษณะสำคัญ          False\n",
              "dtype: bool"
            ]
          },
          "metadata": {},
          "execution_count": 39
        }
      ]
    },
    {
      "cell_type": "code",
      "metadata": {
        "colab": {
          "base_uri": "https://localhost:8080/",
          "height": 1000
        },
        "id": "HRBe7gJ_hDgb",
        "outputId": "c1accedb-d6ed-4734-c4fb-182bab4919fd"
      },
      "source": [
        "data_mix"
      ],
      "execution_count": 40,
      "outputs": [
        {
          "output_type": "execute_result",
          "data": {
            "text/html": [
              "<div>\n",
              "<style scoped>\n",
              "    .dataframe tbody tr th:only-of-type {\n",
              "        vertical-align: middle;\n",
              "    }\n",
              "\n",
              "    .dataframe tbody tr th {\n",
              "        vertical-align: top;\n",
              "    }\n",
              "\n",
              "    .dataframe thead th {\n",
              "        text-align: right;\n",
              "    }\n",
              "</style>\n",
              "<table border=\"1\" class=\"dataframe\">\n",
              "  <thead>\n",
              "    <tr style=\"text-align: right;\">\n",
              "      <th></th>\n",
              "      <th>จังหวัด</th>\n",
              "      <th>รหัสจังหวัด</th>\n",
              "      <th>visitor2555</th>\n",
              "      <th>visitor2556</th>\n",
              "      <th>visitor2557</th>\n",
              "      <th>visitor2558</th>\n",
              "      <th>visitor2559</th>\n",
              "      <th>visitor2560</th>\n",
              "      <th>visitor2561</th>\n",
              "      <th>income2555</th>\n",
              "      <th>income2556</th>\n",
              "      <th>income2557</th>\n",
              "      <th>income2558</th>\n",
              "      <th>income2559</th>\n",
              "      <th>income2560</th>\n",
              "      <th>income2561</th>\n",
              "      <th>ชื่อย่านชุมชนเก่า</th>\n",
              "      <th>ตำบล</th>\n",
              "      <th>อำเภอ</th>\n",
              "      <th>ภาค</th>\n",
              "      <th>East</th>\n",
              "      <th>North</th>\n",
              "      <th>ลักษณะชุมชน</th>\n",
              "      <th>ลักษณะสำคัญ</th>\n",
              "    </tr>\n",
              "  </thead>\n",
              "  <tbody>\n",
              "    <tr>\n",
              "      <th>0</th>\n",
              "      <td>กรุงเทพมหานคร</td>\n",
              "      <td>th-bm</td>\n",
              "      <td>47185031</td>\n",
              "      <td>50568902</td>\n",
              "      <td>50972772</td>\n",
              "      <td>56515597</td>\n",
              "      <td>59196331</td>\n",
              "      <td>63575737</td>\n",
              "      <td>65534281</td>\n",
              "      <td>570327.58</td>\n",
              "      <td>626535.05</td>\n",
              "      <td>634803.16</td>\n",
              "      <td>730318.31</td>\n",
              "      <td>822454.21</td>\n",
              "      <td>947946.30</td>\n",
              "      <td>1051118.51</td>\n",
              "      <td>ไม่มีข้อมูล</td>\n",
              "      <td>ไม่มีข้อมูล</td>\n",
              "      <td>ไม่มีข้อมูล</td>\n",
              "      <td>ไม่มีข้อมูล</td>\n",
              "      <td>ไม่มีข้อมูล</td>\n",
              "      <td>ไม่มีข้อมูล</td>\n",
              "      <td>ไม่มีข้อมูล</td>\n",
              "      <td>ไม่มีข้อมูล</td>\n",
              "    </tr>\n",
              "    <tr>\n",
              "      <th>1</th>\n",
              "      <td>สมุทรปราการ</td>\n",
              "      <td>th-sp</td>\n",
              "      <td>2107433</td>\n",
              "      <td>2204073</td>\n",
              "      <td>2350340</td>\n",
              "      <td>2780429</td>\n",
              "      <td>2900180</td>\n",
              "      <td>3218934</td>\n",
              "      <td>3373639</td>\n",
              "      <td>3451.66</td>\n",
              "      <td>3768.56</td>\n",
              "      <td>4044.50</td>\n",
              "      <td>4901.16</td>\n",
              "      <td>5265.36</td>\n",
              "      <td>6144.65</td>\n",
              "      <td>6656.34</td>\n",
              "      <td>ชุมชนเมืองนครเขื่อนขันธ์</td>\n",
              "      <td>ตลาด</td>\n",
              "      <td>พระประแดง</td>\n",
              "      <td>กลาง</td>\n",
              "      <td>665816.5497</td>\n",
              "      <td>1510691.186</td>\n",
              "      <td>เป็นชุมชนตลาด</td>\n",
              "      <td>ชุมชนเมืองนครเขื่อนขันธ์ เป็นชุมชนย่านการค้าเก...</td>\n",
              "    </tr>\n",
              "    <tr>\n",
              "      <th>2</th>\n",
              "      <td>สมุทรปราการ</td>\n",
              "      <td>th-sp</td>\n",
              "      <td>2107433</td>\n",
              "      <td>2204073</td>\n",
              "      <td>2350340</td>\n",
              "      <td>2780429</td>\n",
              "      <td>2900180</td>\n",
              "      <td>3218934</td>\n",
              "      <td>3373639</td>\n",
              "      <td>3451.66</td>\n",
              "      <td>3768.56</td>\n",
              "      <td>4044.50</td>\n",
              "      <td>4901.16</td>\n",
              "      <td>5265.36</td>\n",
              "      <td>6144.65</td>\n",
              "      <td>6656.34</td>\n",
              "      <td>ชุมชนตลาดบางพลี</td>\n",
              "      <td>บางพลีใหญ่</td>\n",
              "      <td>บางพลี</td>\n",
              "      <td>กลาง</td>\n",
              "      <td>684972.5986</td>\n",
              "      <td>1504734.254</td>\n",
              "      <td>เป็นชุมชนตลาด</td>\n",
              "      <td>ชุมชนตลาดบางพลี เป็นชุมชนย่านตลาดการค้าเก่าแก่...</td>\n",
              "    </tr>\n",
              "    <tr>\n",
              "      <th>3</th>\n",
              "      <td>สมุทรปราการ</td>\n",
              "      <td>th-sp</td>\n",
              "      <td>2107433</td>\n",
              "      <td>2204073</td>\n",
              "      <td>2350340</td>\n",
              "      <td>2780429</td>\n",
              "      <td>2900180</td>\n",
              "      <td>3218934</td>\n",
              "      <td>3373639</td>\n",
              "      <td>3451.66</td>\n",
              "      <td>3768.56</td>\n",
              "      <td>4044.50</td>\n",
              "      <td>4901.16</td>\n",
              "      <td>5265.36</td>\n",
              "      <td>6144.65</td>\n",
              "      <td>6656.34</td>\n",
              "      <td>ชุมชนตลาดคลองสวน</td>\n",
              "      <td>คลองสวน</td>\n",
              "      <td>บางบ่อ</td>\n",
              "      <td>กลาง</td>\n",
              "      <td>711460.1263</td>\n",
              "      <td>1511257.498</td>\n",
              "      <td>เป็นชุมชนตลาด</td>\n",
              "      <td>ชุมชนตลาดคลองสวน เป็นชุมชนย่านตลาดการค้า บริเว...</td>\n",
              "    </tr>\n",
              "    <tr>\n",
              "      <th>4</th>\n",
              "      <td>สมุทรปราการ</td>\n",
              "      <td>th-sp</td>\n",
              "      <td>2107433</td>\n",
              "      <td>2204073</td>\n",
              "      <td>2350340</td>\n",
              "      <td>2780429</td>\n",
              "      <td>2900180</td>\n",
              "      <td>3218934</td>\n",
              "      <td>3373639</td>\n",
              "      <td>3451.66</td>\n",
              "      <td>3768.56</td>\n",
              "      <td>4044.50</td>\n",
              "      <td>4901.16</td>\n",
              "      <td>5265.36</td>\n",
              "      <td>6144.65</td>\n",
              "      <td>6656.34</td>\n",
              "      <td>ชุมชนบ้านสาขลา</td>\n",
              "      <td>นาเกลือ</td>\n",
              "      <td>พระสมุทรเจดีย์</td>\n",
              "      <td>กลาง</td>\n",
              "      <td>662776.0498</td>\n",
              "      <td>1497564.267</td>\n",
              "      <td>เป็นชุมชนประมง</td>\n",
              "      <td>ชุมชนบ้านสาขลา เป็นชุมชนประมงของชาวนาเกลือ ที่...</td>\n",
              "    </tr>\n",
              "    <tr>\n",
              "      <th>...</th>\n",
              "      <td>...</td>\n",
              "      <td>...</td>\n",
              "      <td>...</td>\n",
              "      <td>...</td>\n",
              "      <td>...</td>\n",
              "      <td>...</td>\n",
              "      <td>...</td>\n",
              "      <td>...</td>\n",
              "      <td>...</td>\n",
              "      <td>...</td>\n",
              "      <td>...</td>\n",
              "      <td>...</td>\n",
              "      <td>...</td>\n",
              "      <td>...</td>\n",
              "      <td>...</td>\n",
              "      <td>...</td>\n",
              "      <td>...</td>\n",
              "      <td>...</td>\n",
              "      <td>...</td>\n",
              "      <td>...</td>\n",
              "      <td>...</td>\n",
              "      <td>...</td>\n",
              "      <td>...</td>\n",
              "      <td>...</td>\n",
              "    </tr>\n",
              "    <tr>\n",
              "      <th>609</th>\n",
              "      <td>นราธิวาส</td>\n",
              "      <td>th-nw</td>\n",
              "      <td>489944</td>\n",
              "      <td>570973</td>\n",
              "      <td>589690</td>\n",
              "      <td>635910</td>\n",
              "      <td>646020</td>\n",
              "      <td>665710</td>\n",
              "      <td>692057</td>\n",
              "      <td>2139.00</td>\n",
              "      <td>2208.00</td>\n",
              "      <td>2323.54</td>\n",
              "      <td>2524.44</td>\n",
              "      <td>2654.01</td>\n",
              "      <td>2888.53</td>\n",
              "      <td>3137.67</td>\n",
              "      <td>ดุซงญอ</td>\n",
              "      <td>ดุซงญอ</td>\n",
              "      <td>จะแนะ</td>\n",
              "      <td>ใต้</td>\n",
              "      <td>799197.4461</td>\n",
              "      <td>682963.5703</td>\n",
              "      <td>เป็นชุมชนตลาด</td>\n",
              "      <td>ดุซงญอ เป็นชุมชนตลาด และชุมชนความทรงจำ \"ดุซงญอ...</td>\n",
              "    </tr>\n",
              "    <tr>\n",
              "      <th>610</th>\n",
              "      <td>นราธิวาส</td>\n",
              "      <td>th-nw</td>\n",
              "      <td>489944</td>\n",
              "      <td>570973</td>\n",
              "      <td>589690</td>\n",
              "      <td>635910</td>\n",
              "      <td>646020</td>\n",
              "      <td>665710</td>\n",
              "      <td>692057</td>\n",
              "      <td>2139.00</td>\n",
              "      <td>2208.00</td>\n",
              "      <td>2323.54</td>\n",
              "      <td>2524.44</td>\n",
              "      <td>2654.01</td>\n",
              "      <td>2888.53</td>\n",
              "      <td>3137.67</td>\n",
              "      <td>ตะโละมาเนาะ</td>\n",
              "      <td>ลุโบะสาวอ</td>\n",
              "      <td>บาเจาะ</td>\n",
              "      <td>ใต้</td>\n",
              "      <td>793838.0669</td>\n",
              "      <td>717521.8107</td>\n",
              "      <td>เป็นชุมชนเกษตรกรรม</td>\n",
              "      <td>ตะโละมาเนาะ เป็นชุมชนเกษตรกรรม และชุมชนโดยรอบโ...</td>\n",
              "    </tr>\n",
              "    <tr>\n",
              "      <th>611</th>\n",
              "      <td>นราธิวาส</td>\n",
              "      <td>th-nw</td>\n",
              "      <td>489944</td>\n",
              "      <td>570973</td>\n",
              "      <td>589690</td>\n",
              "      <td>635910</td>\n",
              "      <td>646020</td>\n",
              "      <td>665710</td>\n",
              "      <td>692057</td>\n",
              "      <td>2139.00</td>\n",
              "      <td>2208.00</td>\n",
              "      <td>2323.54</td>\n",
              "      <td>2524.44</td>\n",
              "      <td>2654.01</td>\n",
              "      <td>2888.53</td>\n",
              "      <td>3137.67</td>\n",
              "      <td>ละหาร</td>\n",
              "      <td>ละหาร</td>\n",
              "      <td>ยี่งอ</td>\n",
              "      <td>ใต้</td>\n",
              "      <td>803363.9264</td>\n",
              "      <td>707860.4349</td>\n",
              "      <td>เป็นชุมชนเกษตรกรรม</td>\n",
              "      <td>ละหาร เป็นชุมชนเกษตรกรรม บ้านละหารตั้งอยู่ในอำ...</td>\n",
              "    </tr>\n",
              "    <tr>\n",
              "      <th>612</th>\n",
              "      <td>นราธิวาส</td>\n",
              "      <td>th-nw</td>\n",
              "      <td>489944</td>\n",
              "      <td>570973</td>\n",
              "      <td>589690</td>\n",
              "      <td>635910</td>\n",
              "      <td>646020</td>\n",
              "      <td>665710</td>\n",
              "      <td>692057</td>\n",
              "      <td>2139.00</td>\n",
              "      <td>2208.00</td>\n",
              "      <td>2323.54</td>\n",
              "      <td>2524.44</td>\n",
              "      <td>2654.01</td>\n",
              "      <td>2888.53</td>\n",
              "      <td>3137.67</td>\n",
              "      <td>ตลาดยี่งอ</td>\n",
              "      <td>ยี่งอ</td>\n",
              "      <td>ยี่งอ</td>\n",
              "      <td>ใต้</td>\n",
              "      <td>799685.276</td>\n",
              "      <td>708719.1293</td>\n",
              "      <td>เป็นชุมชนตลาด</td>\n",
              "      <td>ตลาดยี่งอ เป็นชุมชนตลาด \"เมืองยี่งอ\" อาจจะเรีย...</td>\n",
              "    </tr>\n",
              "    <tr>\n",
              "      <th>613</th>\n",
              "      <td>นราธิวาส</td>\n",
              "      <td>th-nw</td>\n",
              "      <td>489944</td>\n",
              "      <td>570973</td>\n",
              "      <td>589690</td>\n",
              "      <td>635910</td>\n",
              "      <td>646020</td>\n",
              "      <td>665710</td>\n",
              "      <td>692057</td>\n",
              "      <td>2139.00</td>\n",
              "      <td>2208.00</td>\n",
              "      <td>2323.54</td>\n",
              "      <td>2524.44</td>\n",
              "      <td>2654.01</td>\n",
              "      <td>2888.53</td>\n",
              "      <td>3137.67</td>\n",
              "      <td>ตลาดสุไหงปาดี</td>\n",
              "      <td>ปะลุรู</td>\n",
              "      <td>สุไหงปาดี</td>\n",
              "      <td>ใต้</td>\n",
              "      <td>818865.3765</td>\n",
              "      <td>673637.8713</td>\n",
              "      <td>เป็นชุมชนตลาด</td>\n",
              "      <td>ตลาดสุไหงปาดี เป็นชุมชนตลาด และชุมชนโดยรอบทางร...</td>\n",
              "    </tr>\n",
              "  </tbody>\n",
              "</table>\n",
              "<p>614 rows × 24 columns</p>\n",
              "</div>"
            ],
            "text/plain": [
              "           จังหวัด  ...                                        ลักษณะสำคัญ\n",
              "0    กรุงเทพมหานคร  ...                                        ไม่มีข้อมูล\n",
              "1      สมุทรปราการ  ...  ชุมชนเมืองนครเขื่อนขันธ์ เป็นชุมชนย่านการค้าเก...\n",
              "2      สมุทรปราการ  ...  ชุมชนตลาดบางพลี เป็นชุมชนย่านตลาดการค้าเก่าแก่...\n",
              "3      สมุทรปราการ  ...  ชุมชนตลาดคลองสวน เป็นชุมชนย่านตลาดการค้า บริเว...\n",
              "4      สมุทรปราการ  ...  ชุมชนบ้านสาขลา เป็นชุมชนประมงของชาวนาเกลือ ที่...\n",
              "..             ...  ...                                                ...\n",
              "609       นราธิวาส  ...  ดุซงญอ เป็นชุมชนตลาด และชุมชนความทรงจำ \"ดุซงญอ...\n",
              "610       นราธิวาส  ...  ตะโละมาเนาะ เป็นชุมชนเกษตรกรรม และชุมชนโดยรอบโ...\n",
              "611       นราธิวาส  ...  ละหาร เป็นชุมชนเกษตรกรรม บ้านละหารตั้งอยู่ในอำ...\n",
              "612       นราธิวาส  ...  ตลาดยี่งอ เป็นชุมชนตลาด \"เมืองยี่งอ\" อาจจะเรีย...\n",
              "613       นราธิวาส  ...  ตลาดสุไหงปาดี เป็นชุมชนตลาด และชุมชนโดยรอบทางร...\n",
              "\n",
              "[614 rows x 24 columns]"
            ]
          },
          "metadata": {},
          "execution_count": 40
        }
      ]
    },
    {
      "cell_type": "markdown",
      "metadata": {
        "id": "ngdxGCn0-J_w"
      },
      "source": [
        "#### ข้อมููลที่ 4 จำนวนประชากร จำแนกตามรายจังหวัด ปี 2561"
      ]
    },
    {
      "cell_type": "code",
      "metadata": {
        "colab": {
          "base_uri": "https://localhost:8080/",
          "height": 391
        },
        "id": "akqXoLpKfaDl",
        "outputId": "056c74ff-6fbe-4977-e0ec-530900fa3f12"
      },
      "source": [
        "data_pop = pd.read_csv(os.path.join(path,'stat_c61.csv')) \n",
        "data_pop"
      ],
      "execution_count": 41,
      "outputs": [
        {
          "output_type": "error",
          "ename": "FileNotFoundError",
          "evalue": "ignored",
          "traceback": [
            "\u001b[0;31m---------------------------------------------------------------------------\u001b[0m",
            "\u001b[0;31mFileNotFoundError\u001b[0m                         Traceback (most recent call last)",
            "\u001b[0;32m<ipython-input-41-424b105bacc6>\u001b[0m in \u001b[0;36m<module>\u001b[0;34m()\u001b[0m\n\u001b[0;32m----> 1\u001b[0;31m \u001b[0mdata_pop\u001b[0m \u001b[0;34m=\u001b[0m \u001b[0mpd\u001b[0m\u001b[0;34m.\u001b[0m\u001b[0mread_csv\u001b[0m\u001b[0;34m(\u001b[0m\u001b[0mos\u001b[0m\u001b[0;34m.\u001b[0m\u001b[0mpath\u001b[0m\u001b[0;34m.\u001b[0m\u001b[0mjoin\u001b[0m\u001b[0;34m(\u001b[0m\u001b[0mpath\u001b[0m\u001b[0;34m,\u001b[0m\u001b[0;34m'stat_c61.csv'\u001b[0m\u001b[0;34m)\u001b[0m\u001b[0;34m)\u001b[0m\u001b[0;34m\u001b[0m\u001b[0;34m\u001b[0m\u001b[0m\n\u001b[0m\u001b[1;32m      2\u001b[0m \u001b[0mdata_pop\u001b[0m\u001b[0;34m\u001b[0m\u001b[0;34m\u001b[0m\u001b[0m\n",
            "\u001b[0;32m/usr/local/lib/python3.7/dist-packages/pandas/io/parsers.py\u001b[0m in \u001b[0;36mread_csv\u001b[0;34m(filepath_or_buffer, sep, delimiter, header, names, index_col, usecols, squeeze, prefix, mangle_dupe_cols, dtype, engine, converters, true_values, false_values, skipinitialspace, skiprows, skipfooter, nrows, na_values, keep_default_na, na_filter, verbose, skip_blank_lines, parse_dates, infer_datetime_format, keep_date_col, date_parser, dayfirst, cache_dates, iterator, chunksize, compression, thousands, decimal, lineterminator, quotechar, quoting, doublequote, escapechar, comment, encoding, dialect, error_bad_lines, warn_bad_lines, delim_whitespace, low_memory, memory_map, float_precision)\u001b[0m\n\u001b[1;32m    686\u001b[0m     )\n\u001b[1;32m    687\u001b[0m \u001b[0;34m\u001b[0m\u001b[0m\n\u001b[0;32m--> 688\u001b[0;31m     \u001b[0;32mreturn\u001b[0m \u001b[0m_read\u001b[0m\u001b[0;34m(\u001b[0m\u001b[0mfilepath_or_buffer\u001b[0m\u001b[0;34m,\u001b[0m \u001b[0mkwds\u001b[0m\u001b[0;34m)\u001b[0m\u001b[0;34m\u001b[0m\u001b[0;34m\u001b[0m\u001b[0m\n\u001b[0m\u001b[1;32m    689\u001b[0m \u001b[0;34m\u001b[0m\u001b[0m\n\u001b[1;32m    690\u001b[0m \u001b[0;34m\u001b[0m\u001b[0m\n",
            "\u001b[0;32m/usr/local/lib/python3.7/dist-packages/pandas/io/parsers.py\u001b[0m in \u001b[0;36m_read\u001b[0;34m(filepath_or_buffer, kwds)\u001b[0m\n\u001b[1;32m    452\u001b[0m \u001b[0;34m\u001b[0m\u001b[0m\n\u001b[1;32m    453\u001b[0m     \u001b[0;31m# Create the parser.\u001b[0m\u001b[0;34m\u001b[0m\u001b[0;34m\u001b[0m\u001b[0;34m\u001b[0m\u001b[0m\n\u001b[0;32m--> 454\u001b[0;31m     \u001b[0mparser\u001b[0m \u001b[0;34m=\u001b[0m \u001b[0mTextFileReader\u001b[0m\u001b[0;34m(\u001b[0m\u001b[0mfp_or_buf\u001b[0m\u001b[0;34m,\u001b[0m \u001b[0;34m**\u001b[0m\u001b[0mkwds\u001b[0m\u001b[0;34m)\u001b[0m\u001b[0;34m\u001b[0m\u001b[0;34m\u001b[0m\u001b[0m\n\u001b[0m\u001b[1;32m    455\u001b[0m \u001b[0;34m\u001b[0m\u001b[0m\n\u001b[1;32m    456\u001b[0m     \u001b[0;32mif\u001b[0m \u001b[0mchunksize\u001b[0m \u001b[0;32mor\u001b[0m \u001b[0miterator\u001b[0m\u001b[0;34m:\u001b[0m\u001b[0;34m\u001b[0m\u001b[0;34m\u001b[0m\u001b[0m\n",
            "\u001b[0;32m/usr/local/lib/python3.7/dist-packages/pandas/io/parsers.py\u001b[0m in \u001b[0;36m__init__\u001b[0;34m(self, f, engine, **kwds)\u001b[0m\n\u001b[1;32m    946\u001b[0m             \u001b[0mself\u001b[0m\u001b[0;34m.\u001b[0m\u001b[0moptions\u001b[0m\u001b[0;34m[\u001b[0m\u001b[0;34m\"has_index_names\"\u001b[0m\u001b[0;34m]\u001b[0m \u001b[0;34m=\u001b[0m \u001b[0mkwds\u001b[0m\u001b[0;34m[\u001b[0m\u001b[0;34m\"has_index_names\"\u001b[0m\u001b[0;34m]\u001b[0m\u001b[0;34m\u001b[0m\u001b[0;34m\u001b[0m\u001b[0m\n\u001b[1;32m    947\u001b[0m \u001b[0;34m\u001b[0m\u001b[0m\n\u001b[0;32m--> 948\u001b[0;31m         \u001b[0mself\u001b[0m\u001b[0;34m.\u001b[0m\u001b[0m_make_engine\u001b[0m\u001b[0;34m(\u001b[0m\u001b[0mself\u001b[0m\u001b[0;34m.\u001b[0m\u001b[0mengine\u001b[0m\u001b[0;34m)\u001b[0m\u001b[0;34m\u001b[0m\u001b[0;34m\u001b[0m\u001b[0m\n\u001b[0m\u001b[1;32m    949\u001b[0m \u001b[0;34m\u001b[0m\u001b[0m\n\u001b[1;32m    950\u001b[0m     \u001b[0;32mdef\u001b[0m \u001b[0mclose\u001b[0m\u001b[0;34m(\u001b[0m\u001b[0mself\u001b[0m\u001b[0;34m)\u001b[0m\u001b[0;34m:\u001b[0m\u001b[0;34m\u001b[0m\u001b[0;34m\u001b[0m\u001b[0m\n",
            "\u001b[0;32m/usr/local/lib/python3.7/dist-packages/pandas/io/parsers.py\u001b[0m in \u001b[0;36m_make_engine\u001b[0;34m(self, engine)\u001b[0m\n\u001b[1;32m   1178\u001b[0m     \u001b[0;32mdef\u001b[0m \u001b[0m_make_engine\u001b[0m\u001b[0;34m(\u001b[0m\u001b[0mself\u001b[0m\u001b[0;34m,\u001b[0m \u001b[0mengine\u001b[0m\u001b[0;34m=\u001b[0m\u001b[0;34m\"c\"\u001b[0m\u001b[0;34m)\u001b[0m\u001b[0;34m:\u001b[0m\u001b[0;34m\u001b[0m\u001b[0;34m\u001b[0m\u001b[0m\n\u001b[1;32m   1179\u001b[0m         \u001b[0;32mif\u001b[0m \u001b[0mengine\u001b[0m \u001b[0;34m==\u001b[0m \u001b[0;34m\"c\"\u001b[0m\u001b[0;34m:\u001b[0m\u001b[0;34m\u001b[0m\u001b[0;34m\u001b[0m\u001b[0m\n\u001b[0;32m-> 1180\u001b[0;31m             \u001b[0mself\u001b[0m\u001b[0;34m.\u001b[0m\u001b[0m_engine\u001b[0m \u001b[0;34m=\u001b[0m \u001b[0mCParserWrapper\u001b[0m\u001b[0;34m(\u001b[0m\u001b[0mself\u001b[0m\u001b[0;34m.\u001b[0m\u001b[0mf\u001b[0m\u001b[0;34m,\u001b[0m \u001b[0;34m**\u001b[0m\u001b[0mself\u001b[0m\u001b[0;34m.\u001b[0m\u001b[0moptions\u001b[0m\u001b[0;34m)\u001b[0m\u001b[0;34m\u001b[0m\u001b[0;34m\u001b[0m\u001b[0m\n\u001b[0m\u001b[1;32m   1181\u001b[0m         \u001b[0;32melse\u001b[0m\u001b[0;34m:\u001b[0m\u001b[0;34m\u001b[0m\u001b[0;34m\u001b[0m\u001b[0m\n\u001b[1;32m   1182\u001b[0m             \u001b[0;32mif\u001b[0m \u001b[0mengine\u001b[0m \u001b[0;34m==\u001b[0m \u001b[0;34m\"python\"\u001b[0m\u001b[0;34m:\u001b[0m\u001b[0;34m\u001b[0m\u001b[0;34m\u001b[0m\u001b[0m\n",
            "\u001b[0;32m/usr/local/lib/python3.7/dist-packages/pandas/io/parsers.py\u001b[0m in \u001b[0;36m__init__\u001b[0;34m(self, src, **kwds)\u001b[0m\n\u001b[1;32m   2008\u001b[0m         \u001b[0mkwds\u001b[0m\u001b[0;34m[\u001b[0m\u001b[0;34m\"usecols\"\u001b[0m\u001b[0;34m]\u001b[0m \u001b[0;34m=\u001b[0m \u001b[0mself\u001b[0m\u001b[0;34m.\u001b[0m\u001b[0musecols\u001b[0m\u001b[0;34m\u001b[0m\u001b[0;34m\u001b[0m\u001b[0m\n\u001b[1;32m   2009\u001b[0m \u001b[0;34m\u001b[0m\u001b[0m\n\u001b[0;32m-> 2010\u001b[0;31m         \u001b[0mself\u001b[0m\u001b[0;34m.\u001b[0m\u001b[0m_reader\u001b[0m \u001b[0;34m=\u001b[0m \u001b[0mparsers\u001b[0m\u001b[0;34m.\u001b[0m\u001b[0mTextReader\u001b[0m\u001b[0;34m(\u001b[0m\u001b[0msrc\u001b[0m\u001b[0;34m,\u001b[0m \u001b[0;34m**\u001b[0m\u001b[0mkwds\u001b[0m\u001b[0;34m)\u001b[0m\u001b[0;34m\u001b[0m\u001b[0;34m\u001b[0m\u001b[0m\n\u001b[0m\u001b[1;32m   2011\u001b[0m         \u001b[0mself\u001b[0m\u001b[0;34m.\u001b[0m\u001b[0munnamed_cols\u001b[0m \u001b[0;34m=\u001b[0m \u001b[0mself\u001b[0m\u001b[0;34m.\u001b[0m\u001b[0m_reader\u001b[0m\u001b[0;34m.\u001b[0m\u001b[0munnamed_cols\u001b[0m\u001b[0;34m\u001b[0m\u001b[0;34m\u001b[0m\u001b[0m\n\u001b[1;32m   2012\u001b[0m \u001b[0;34m\u001b[0m\u001b[0m\n",
            "\u001b[0;32mpandas/_libs/parsers.pyx\u001b[0m in \u001b[0;36mpandas._libs.parsers.TextReader.__cinit__\u001b[0;34m()\u001b[0m\n",
            "\u001b[0;32mpandas/_libs/parsers.pyx\u001b[0m in \u001b[0;36mpandas._libs.parsers.TextReader._setup_parser_source\u001b[0;34m()\u001b[0m\n",
            "\u001b[0;31mFileNotFoundError\u001b[0m: [Errno 2] No such file or directory: '/content/drive/My Drive/DWDM2021_DATA/stat_c61.csv'"
          ]
        }
      ]
    },
    {
      "cell_type": "markdown",
      "metadata": {
        "id": "1Xo49Q5_-g07"
      },
      "source": [
        "เชื่อม data_pop เข้ากับ data_mix เข้ากันด้วย 'รหัสจังหวัด' จะได้ data_all "
      ]
    },
    {
      "cell_type": "code",
      "metadata": {
        "id": "ABE-qRV3foxd"
      },
      "source": [
        "data_all = data_mix.merge(data_pop,how='left',left_on='รหัสจังหวัด',right_on='รหัสจังหวัด')\n",
        "data_all"
      ],
      "execution_count": null,
      "outputs": []
    },
    {
      "cell_type": "code",
      "metadata": {
        "id": "Z5TzvmVNxC0c"
      },
      "source": [
        "data_all.isnull().any() # ตรวจสอบอีกรอบ"
      ],
      "execution_count": null,
      "outputs": []
    },
    {
      "cell_type": "markdown",
      "metadata": {
        "id": "7cdJBYUFVrHS"
      },
      "source": [
        "Plot กราฟ ดูลักษณะข้อมูล รายได้จากการท่องเที่ยว จำแนกตามรายจังหวัด ปี 2561"
      ]
    },
    {
      "cell_type": "code",
      "metadata": {
        "id": "Lg0Y_sFNVoGG"
      },
      "source": [
        "import matplotlib.pyplot as plt\n",
        "from matplotlib import pyplot as plt\n",
        "import numpy as np\n",
        "import pandas as pd"
      ],
      "execution_count": null,
      "outputs": []
    },
    {
      "cell_type": "code",
      "metadata": {
        "id": "7SG95OG8ajaZ"
      },
      "source": [
        "data_all.iloc[:,15:16] # ต้องการดู column income2561 # แต่ไม่ใส่ใน ppt "
      ],
      "execution_count": null,
      "outputs": []
    },
    {
      "cell_type": "code",
      "metadata": {
        "id": "bLu4pWhkc-7e"
      },
      "source": [
        "data_all.plot.scatter('จังหวัด','income2561', s = 20) # plot กราฟ ดูารกระจายของข้อมูล"
      ],
      "execution_count": null,
      "outputs": []
    },
    {
      "cell_type": "markdown",
      "metadata": {
        "id": "LIKgS9eR_aCu"
      },
      "source": [
        "จากกราฟ จะเห็นได้ว่าไม่มีการกระจายของข้อมูล "
      ]
    },
    {
      "cell_type": "code",
      "metadata": {
        "id": "FK6ATrbaa76N"
      },
      "source": [
        "bucket = ['low','median','high'] # ข้ามก่อน\n",
        "data_all['group_income'] = pd.cut(data_all.income2561,\n",
        "                            bins=[0,49999,99999,1200000],\n",
        "                            labels=bucket,\n",
        "                            right=False).astype(str).astype(CategoricalDtype(bucket,ordered=True))"
      ],
      "execution_count": null,
      "outputs": []
    },
    {
      "cell_type": "code",
      "metadata": {
        "id": "1nfkmjZ5gE0N"
      },
      "source": [
        "data_all"
      ],
      "execution_count": null,
      "outputs": []
    },
    {
      "cell_type": "code",
      "metadata": {
        "id": "TKQj11x9hxVb"
      },
      "source": [
        "data_all['group_income'] = data_all['group_income'].map({'low':1,'median':2,'high':3}) # ข้าม \n",
        "data_all"
      ],
      "execution_count": null,
      "outputs": []
    },
    {
      "cell_type": "markdown",
      "metadata": {
        "id": "_w5wKHznIBQ-"
      },
      "source": [
        "#### **คำถาม**"
      ]
    },
    {
      "cell_type": "markdown",
      "metadata": {
        "id": "idFopQOFCUS1"
      },
      "source": [
        "###ข้อมูลจำนวนครัวเรือน ข้อมูลจำนวนประชากรแต่ละจังหวัด รายได้จากการท่องเที่ยวของแต่ละจังหวัด ใช้ทำนายลักษณะของชุมชนเก่าว่ามีลักษณะอย่างไร"
      ]
    },
    {
      "cell_type": "markdown",
      "metadata": {
        "id": "KBcBYl30yZX3"
      },
      "source": [
        "## **Classification**\n"
      ]
    },
    {
      "cell_type": "markdown",
      "metadata": {
        "id": "_XoOYmmryiBB"
      },
      "source": [
        "###ทำนายลักษณะชุมชน จาก จำนวนครัวเรือน, จำนวนประชากร และ รายได้ "
      ]
    },
    {
      "cell_type": "markdown",
      "metadata": {
        "id": "smaH5AUpAbcE"
      },
      "source": [
        "เลือกข้อมูล column ที่ต้องการจะใช้ ได้แก่ \n",
        "* House = จำนวนครัวเรือน\n",
        "* Total = จำนวนประชากร จำแนกตามรายจังหวัด ปี 2561\n",
        "* income2561 = รายได้จากการท่องเที่ยว จำแนกตามรายจังหวัด ปี 2561\n",
        "* ลักษณะชุมชน = แสดงรายละเอียดลักษณะสำคัญของชุมชน"
      ]
    },
    {
      "cell_type": "code",
      "metadata": {
        "id": "iIADRhBHxkag"
      },
      "source": [
        "data_cut = data_all[['House','Total','income2561','ลักษณะชุมชน']]\n",
        "data_cut"
      ],
      "execution_count": null,
      "outputs": []
    },
    {
      "cell_type": "markdown",
      "metadata": {
        "id": "DEYfWifNUdtP"
      },
      "source": [
        "#Decision tree"
      ]
    },
    {
      "cell_type": "markdown",
      "metadata": {
        "id": "UrH0Wf5BBXWe"
      },
      "source": [
        "ขั้นตอนนี้ คือ การกำหนดตัวแปร x, y เพื่อทำ decision tree \n",
        "\n",
        "โดยกำหนด x คือ House, Total, income2561\n",
        "และ y คือ ลักษณะชุมชน (สิ่งที่เราจะทำนาย)"
      ]
    },
    {
      "cell_type": "code",
      "metadata": {
        "id": "_1VNsQPD1rYr"
      },
      "source": [
        "#กำหนด X และ y เพื่อทำ decision tree\n",
        "X = data_cut[['House','Total','income2561']]\n",
        "y = data_cut['ลักษณะชุมชน']"
      ],
      "execution_count": null,
      "outputs": []
    },
    {
      "cell_type": "code",
      "metadata": {
        "id": "yR-b6Kdd3fcp"
      },
      "source": [
        "X"
      ],
      "execution_count": null,
      "outputs": []
    },
    {
      "cell_type": "markdown",
      "metadata": {
        "id": "BwEKbevU28Wl"
      },
      "source": [
        "Train Model"
      ]
    },
    {
      "cell_type": "code",
      "metadata": {
        "id": "jCeN4qm-2ygM"
      },
      "source": [
        "from sklearn.model_selection import  train_test_split"
      ],
      "execution_count": null,
      "outputs": []
    },
    {
      "cell_type": "markdown",
      "metadata": {
        "id": "c9ov72nW3Du_"
      },
      "source": [
        "Train-Test"
      ]
    },
    {
      "cell_type": "code",
      "metadata": {
        "id": "dLYpYQvb3Af_"
      },
      "source": [
        "#แบ่งข้อมูลออกเป็น 2 ส่วน ด้วยการสุ่ม\n",
        "X_train, X_test, y_train, y_test = train_test_split(X, y, test_size=0.5, random_state=8)"
      ],
      "execution_count": null,
      "outputs": []
    },
    {
      "cell_type": "code",
      "metadata": {
        "id": "s0zvv2Y44JLO"
      },
      "source": [
        "X.shape # ดูขนาดของข้อมูล จากนั้นแบ่งกลุ่มเป็น 2 ส่วน "
      ],
      "execution_count": null,
      "outputs": []
    },
    {
      "cell_type": "code",
      "metadata": {
        "id": "z_2dzei34Otp"
      },
      "source": [
        "X_train.shape"
      ],
      "execution_count": null,
      "outputs": []
    },
    {
      "cell_type": "code",
      "metadata": {
        "id": "jRLP7l5i4X6Y"
      },
      "source": [
        "X_test.shape"
      ],
      "execution_count": null,
      "outputs": []
    },
    {
      "cell_type": "markdown",
      "metadata": {
        "id": "Gr-umP0v4k7w"
      },
      "source": [
        "Train - Validation"
      ]
    },
    {
      "cell_type": "code",
      "metadata": {
        "id": "mfhkEdJi4dV3"
      },
      "source": [
        "#แบ่งข้อมูลออกเป็น 2 ส่วน ด้วยการสุ่ม\n",
        "X_train2, X_val, y_train2, y_val = train_test_split(X_train, y_train, test_size=0.5, random_state=8)"
      ],
      "execution_count": null,
      "outputs": []
    },
    {
      "cell_type": "code",
      "metadata": {
        "id": "04LYjAPh4vG-"
      },
      "source": [
        "#import\n",
        "from sklearn.tree import DecisionTreeClassifier # package ใช้ทำ decision tree"
      ],
      "execution_count": null,
      "outputs": []
    },
    {
      "cell_type": "code",
      "metadata": {
        "id": "l1c9F3xSkhZs"
      },
      "source": [
        "#import accuracy_score จาก sklearn.metrics\n",
        "from sklearn.metrics import accuracy_score # package หาค่า accuracy"
      ],
      "execution_count": null,
      "outputs": []
    },
    {
      "cell_type": "markdown",
      "metadata": {
        "id": "UGQJFBBmjBR2"
      },
      "source": [
        "Decision tree 1 ใช้เกณฑ์ max_depth = 5,random_state = 13"
      ]
    },
    {
      "cell_type": "code",
      "metadata": {
        "id": "045ln_uv4xpO"
      },
      "source": [
        "#define\n",
        "mytree = DecisionTreeClassifier(max_depth=5,random_state=13)\n",
        "#train\n",
        "mytree.fit(X_train2,y_train2)\n",
        "#test\n",
        "mytree_result = mytree.predict(X_val)\n",
        "#accuracy_score\n",
        "accuracy_score(y_val, mytree_result)"
      ],
      "execution_count": null,
      "outputs": []
    },
    {
      "cell_type": "markdown",
      "metadata": {
        "id": "fSiya3U7nnA4"
      },
      "source": [
        "Decision tree 2 ใช้เกณฑ์ splitter = 'random',random_state = 13"
      ]
    },
    {
      "cell_type": "code",
      "metadata": {
        "id": "Uu6OFKTTnq4I"
      },
      "source": [
        "#define\n",
        "mytree2 = DecisionTreeClassifier(splitter='random',random_state=13)\n",
        "#train\n",
        "mytree2.fit(X_train2,y_train2)\n",
        "#test\n",
        "mytree_result2 = mytree2.predict(X_val)\n",
        "#accuracy_score\n",
        "accuracy_score(y_val, mytree_result2)"
      ],
      "execution_count": null,
      "outputs": []
    },
    {
      "cell_type": "markdown",
      "metadata": {
        "id": "QgXo4vIonFeA"
      },
      "source": [
        "Decision tree 3 ใช้เกณฑ์ criterion = 'entropy', splitter = 'random', random_state=13"
      ]
    },
    {
      "cell_type": "code",
      "metadata": {
        "id": "WTlhk7btlPWj"
      },
      "source": [
        "#define\n",
        "mytree3 = DecisionTreeClassifier(criterion='entropy',splitter='random',random_state=13)\n",
        "#train\n",
        "mytree3.fit(X_train2,y_train2)\n",
        "#test\n",
        "mytree_result3 = mytree3.predict(X_val)\n",
        "#accuracy_score\n",
        "accuracy_score(y_val, mytree_result3)"
      ],
      "execution_count": null,
      "outputs": []
    },
    {
      "cell_type": "markdown",
      "metadata": {
        "id": "QO4PbN1SoF76"
      },
      "source": [
        "Decision tree 4 ใช้เกณฑ์ criterion = 'gini',max_leaf_nodes = 50,splitter ='random',random_state = 13"
      ]
    },
    {
      "cell_type": "code",
      "metadata": {
        "id": "P2wCYqtjnKnd"
      },
      "source": [
        "#define\n",
        "mytree4 = DecisionTreeClassifier(criterion='gini',max_leaf_nodes=50,splitter='random',random_state=13)\n",
        "#train\n",
        "mytree4.fit(X_train2,y_train2)\n",
        "#test\n",
        "mytree_result4 = mytree4.predict(X_val)\n",
        "#accuracy_score\n",
        "accuracy_score(y_val, mytree_result4)"
      ],
      "execution_count": null,
      "outputs": []
    },
    {
      "cell_type": "markdown",
      "metadata": {
        "id": "8Fc9-6tArVgi"
      },
      "source": [
        "#KNN"
      ]
    },
    {
      "cell_type": "code",
      "metadata": {
        "id": "hzv2et64rNBy"
      },
      "source": [
        "#import\n",
        "from sklearn.neighbors import KNeighborsClassifier # package ที่ใช้ในการทำ KNN"
      ],
      "execution_count": null,
      "outputs": []
    },
    {
      "cell_type": "markdown",
      "metadata": {
        "id": "cbKAqWQhvnEU"
      },
      "source": [
        "KNN1"
      ]
    },
    {
      "cell_type": "markdown",
      "metadata": {
        "id": "oVCbZn-QrdDU"
      },
      "source": [
        "ใช้เกณฑ์ n_neighbors = 3, weights = 'uniform'"
      ]
    },
    {
      "cell_type": "code",
      "metadata": {
        "id": "F6u5F7QRrZBF"
      },
      "source": [
        "# Define\n",
        "neigh1 = KNeighborsClassifier(n_neighbors=3, weights='uniform') #ถามเพื่อนบ้านที่ใกล้สุด 3 คน และเชื่อทุกคนเท่ากัน\n",
        "# Train\n",
        "neigh1.fit(X_train2,y_train2)\n",
        "# Test\n",
        "knn1_result = neigh1.predict(X_val)\n",
        "accuracy_score(y_val, knn1_result)"
      ],
      "execution_count": null,
      "outputs": []
    },
    {
      "cell_type": "markdown",
      "metadata": {
        "id": "n-ncm7qovok-"
      },
      "source": [
        "KNN2"
      ]
    },
    {
      "cell_type": "markdown",
      "metadata": {
        "id": "BbSgqJAJtYkx"
      },
      "source": [
        "ใช้เกณฑ์ n_neighbors = 10, weights = 'distance'"
      ]
    },
    {
      "cell_type": "code",
      "metadata": {
        "id": "ADB-7LL-tLbT"
      },
      "source": [
        "# Define\n",
        "neigh2 = KNeighborsClassifier(n_neighbors=10, weights='distance')#ถามเพื่อนบ้านที่ใกล้สุด 10 คน และเชื่อคนที่ใกล้มากกว่าไกล\n",
        "# Train\n",
        "neigh2.fit(X_train2,y_train2)\n",
        "# Test\n",
        "knn2_result = neigh2.predict(X_val)\n",
        "accuracy_score(y_val, knn2_result)"
      ],
      "execution_count": null,
      "outputs": []
    },
    {
      "cell_type": "markdown",
      "metadata": {
        "id": "yw6MN7d3vs7J"
      },
      "source": [
        "KKN3"
      ]
    },
    {
      "cell_type": "markdown",
      "metadata": {
        "id": "vkiC3YnWvrME"
      },
      "source": [
        "ใช้เกณฑ์ n_neighbors = 1"
      ]
    },
    {
      "cell_type": "code",
      "metadata": {
        "id": "PcI5mh5ZtPyJ"
      },
      "source": [
        "# Define\n",
        "neigh3 = KNeighborsClassifier(n_neighbors=1)#เชื่อเพื่อนบ้านที่ใกล้ที่สุดคนเดียว\n",
        "# Train\n",
        "neigh3.fit(X_train2,y_train2)\n",
        "# Test\n",
        "knn3_result = neigh3.predict(X_val)\n",
        "accuracy_score(y_val, knn3_result)"
      ],
      "execution_count": null,
      "outputs": []
    },
    {
      "cell_type": "markdown",
      "metadata": {
        "id": "Ng51XqVduBSd"
      },
      "source": [
        "#Neural Network"
      ]
    },
    {
      "cell_type": "markdown",
      "metadata": {
        "id": "qt5lQZ_PuGzN"
      },
      "source": [
        "Import"
      ]
    },
    {
      "cell_type": "code",
      "metadata": {
        "id": "FWfXLxlnt6wW"
      },
      "source": [
        "from sklearn.neural_network import MLPClassifier # package ที่ใช้ในการทำ ANN"
      ],
      "execution_count": null,
      "outputs": []
    },
    {
      "cell_type": "markdown",
      "metadata": {
        "id": "jn_c-FBzuW57"
      },
      "source": [
        "Train-Test"
      ]
    },
    {
      "cell_type": "markdown",
      "metadata": {
        "id": "WYXHOO8QuoXk"
      },
      "source": [
        "ANN1"
      ]
    },
    {
      "cell_type": "code",
      "metadata": {
        "id": "_80M7G9HuULf"
      },
      "source": [
        "# Define\n",
        "perceptron1 = MLPClassifier(random_state=13,max_iter=2000,hidden_layer_sizes=1,learning_rate_init=0.05)\n",
        "# Train\n",
        "perceptron1.fit(X_train2,y_train2)\n",
        "# Test\n",
        "ann1_result = perceptron1.predict(X_val)\n",
        "accuracy_score(y_val, ann1_result)"
      ],
      "execution_count": null,
      "outputs": []
    },
    {
      "cell_type": "markdown",
      "metadata": {
        "id": "c6YPYDqnuqad"
      },
      "source": [
        "ANN2"
      ]
    },
    {
      "cell_type": "code",
      "metadata": {
        "id": "gvlxnxtHuZ3h"
      },
      "source": [
        "# Define\n",
        "perceptron2 = MLPClassifier(random_state=13,max_iter=2000,hidden_layer_sizes=10,learning_rate_init=100) \n",
        "# Train\n",
        "perceptron2.fit(X_train2,y_train2)\n",
        "# Test\n",
        "ann2_result = perceptron2.predict(X_val)\n",
        "accuracy_score(y_val, ann2_result)"
      ],
      "execution_count": null,
      "outputs": []
    },
    {
      "cell_type": "markdown",
      "metadata": {
        "id": "uw9dmW1XJXeJ"
      },
      "source": [
        "ANN1 & ANN2 ต่างกันตรงค่า hidden_layer_sizes และ learning_rate_init\n"
      ]
    },
    {
      "cell_type": "markdown",
      "metadata": {
        "id": "8sRgZNQDur5j"
      },
      "source": [
        "ANN3"
      ]
    },
    {
      "cell_type": "code",
      "metadata": {
        "id": "KsYIibVKugx4"
      },
      "source": [
        "# Define\n",
        "perceptron3 = MLPClassifier(random_state=13,max_iter=20000,hidden_layer_sizes=10,learning_rate_init=0.01) \n",
        "# Train\n",
        "perceptron3.fit(X_train2,y_train2)\n",
        "# Test\n",
        "ann3_result = perceptron3.predict(X_val)\n",
        "accuracy_score(y_val, ann3_result)"
      ],
      "execution_count": null,
      "outputs": []
    },
    {
      "cell_type": "markdown",
      "metadata": {
        "id": "K6HMhsJ1tm2F"
      },
      "source": [
        "### **Retrain & Evaluate**"
      ]
    },
    {
      "cell_type": "markdown",
      "metadata": {
        "id": "Je-7Y-mtnpXx"
      },
      "source": [
        "จากค่า accuracy ของ Decision tree 4 และ KNN1 มีค่าเท่ากันคือ 0.5064935064935064 จึงทำการ Train ทั้งสองตัวแบบเพื่อหาตัวแบบที่เหมาะสมที่สุด  "
      ]
    },
    {
      "cell_type": "markdown",
      "metadata": {
        "id": "moE_Ab2dq1NP"
      },
      "source": [
        "**เลือก Decision tree 4 แล้ว Train ใหม่ด้วย Training**"
      ]
    },
    {
      "cell_type": "code",
      "metadata": {
        "id": "nRKs3y5yoKnO"
      },
      "source": [
        "#import\n",
        "from sklearn.tree import DecisionTreeClassifier\n",
        "#define\n",
        "mytree_4final = DecisionTreeClassifier(criterion='gini',max_leaf_nodes=50,splitter='random',random_state=13)\n",
        "#train\n",
        "mytree_4final.fit(X_train,y_train)\n",
        "#test-evaluate\n",
        "mytree_4_finalresult = mytree_4final.predict(X_test)\n",
        "dectree_ac = accuracy_score(y_test, mytree_4_finalresult)\n",
        "dectree_ac"
      ],
      "execution_count": null,
      "outputs": []
    },
    {
      "cell_type": "markdown",
      "metadata": {
        "id": "iUB2v6Ofsx9g"
      },
      "source": [
        "plot tree"
      ]
    },
    {
      "cell_type": "code",
      "metadata": {
        "id": "YM8MTowQsxsO"
      },
      "source": [
        "from sklearn.tree import plot_tree"
      ],
      "execution_count": null,
      "outputs": []
    },
    {
      "cell_type": "code",
      "metadata": {
        "id": "MT48rYa-sqk7"
      },
      "source": [
        "plot_tree(mytree_4final);"
      ],
      "execution_count": null,
      "outputs": []
    },
    {
      "cell_type": "markdown",
      "metadata": {
        "id": "sb1c301IvQMY"
      },
      "source": [
        "**เลือก KNN1 มา Train ใหม่ อีกครั้ง**"
      ]
    },
    {
      "cell_type": "code",
      "metadata": {
        "id": "4zawmvP2tSLk"
      },
      "source": [
        "# Define\n",
        "neigh1final = KNeighborsClassifier(n_neighbors=3, weights='uniform') #ถามเพื่อนบ้านที่ใกล้สุด 3 คน และเชื่อทุกคนเท่ากัน\n",
        "# Train\n",
        "neigh1final.fit(X_train,y_train)\n",
        "# Test\n",
        "knn1final_result = neigh1final.predict(X_test)\n",
        "knn_ac = accuracy_score(y_test, knn1final_result)\n",
        "knn_ac"
      ],
      "execution_count": null,
      "outputs": []
    },
    {
      "cell_type": "markdown",
      "metadata": {
        "id": "tAmFFwQYonDw"
      },
      "source": [
        "สรุป จากการ Train ของทั้งสองตัวแบบ พบว่า ค่า accuracy ของ Decision tree 4 = 0.5374592833876222 และ ค่า accuracy ของ KNN1 = 0.6103896103896104\n",
        "\n",
        "ดังนั้น เมื่อนำสองค่ามาเทียบกันพบว่า ค่า accuracy ของ KNN มีค่ามากกว่า Decision tree จึงเลือกตัวแบบ KNN เพราะมีความเหมาะสมที่สุด\n"
      ]
    },
    {
      "cell_type": "markdown",
      "metadata": {
        "id": "uKFUHzBmwQho"
      },
      "source": [
        "#Visulization"
      ]
    },
    {
      "cell_type": "code",
      "metadata": {
        "id": "4DG8C7Adv-mO"
      },
      "source": [
        "from matplotlib import pyplot as plt\n",
        "\n",
        "labels = ['Decision Tree', 'KNN']\n",
        "accuracy_Y = [dectree_ac,knn_ac]\n",
        "#plot\n",
        "plt.bar(labels,accuracy_Y)\n",
        "plt.ylabel('Accuracy_Score')\n",
        "plt.title('Compare Acuuracy_score')\n",
        "plt.legend();"
      ],
      "execution_count": null,
      "outputs": []
    },
    {
      "cell_type": "code",
      "metadata": {
        "id": "OX3q0JZiwj57"
      },
      "source": [
        "from sklearn.metrics import accuracy_score,classification_report,confusion_matrix  # เรียกใช้อัลกอริทึมที่เราต้องการ"
      ],
      "execution_count": null,
      "outputs": []
    },
    {
      "cell_type": "code",
      "metadata": {
        "id": "xKbzN-THJzy5"
      },
      "source": [
        "knn1final_result"
      ],
      "execution_count": null,
      "outputs": []
    },
    {
      "cell_type": "code",
      "metadata": {
        "id": "-Ib32U0AJ09R"
      },
      "source": [
        "X_test"
      ],
      "execution_count": null,
      "outputs": []
    },
    {
      "cell_type": "code",
      "metadata": {
        "id": "YAaKCaM9J2pV"
      },
      "source": [
        "# ทำการติดตั้ง font ภาษาไทยเพื่อนำมาใช้ในการ plot กราฟ\n",
        "import matplotlib as matplotlib # ทำการเช็ค version ของตัว library ดู ซึ่งเข้าใจว่าต้องเป็น version 3.2 ขึ้นไปเท่านั้นถึงจะใช้ได้ ถ้า version ต่ำกว่านี้ก็อาจจะต้องทำการอัพเดต version ก่อน\n",
        "matplotlib.__version__"
      ],
      "execution_count": null,
      "outputs": []
    },
    {
      "cell_type": "code",
      "metadata": {
        "id": "HByx0asrJ45A"
      },
      "source": [
        "# ทำการดาวน์โหลด font ในที่นี้ก็จะใช้โค้ดด้านล่างนี้ โหลด font ที่ชื่อว่า thsarabunnew\n",
        "!wget -q https://github.com/Phonbopit/sarabun-webfont/raw/master/fonts/thsarabunnew-webfont.ttf"
      ],
      "execution_count": null,
      "outputs": []
    },
    {
      "cell_type": "code",
      "metadata": {
        "id": "Lcf22HkbJ6hn"
      },
      "source": [
        "matplotlib.font_manager.fontManager.addfont('thsarabunnew-webfont.ttf')  #เพื่ม font ที่เรา download มาเข้าไปใน font manager ของ matplotlib พร้อมกับเซ็ตค่า font ที่จะใช้งานแสดงบนกราฟที่เราจะพล็อต\n",
        "matplotlib.rc('font', family='TH Sarabun New')"
      ],
      "execution_count": null,
      "outputs": []
    },
    {
      "cell_type": "code",
      "metadata": {
        "id": "Anag_G-GJ78d"
      },
      "source": [
        "from matplotlib import pyplot as plt # เรียกใช้อัลกอริทึมที่เราต้องการ"
      ],
      "execution_count": null,
      "outputs": []
    },
    {
      "cell_type": "code",
      "metadata": {
        "id": "mCSIP2kfJ9L_"
      },
      "source": [
        "#ผลการทำนายลักษณะชุมชนโดยใช้จำนวนครัวเรือน\n",
        "plt.plot(X_test['House'],knn1final_result,'Pb',alpha =0.2) \n",
        "plt.xlabel('จำนวนครัวเรือน')\n",
        "plt.ylabel('ลักษณะชุมชน')\n",
        "plt.title('ผลการทำนายลักษณะชุมชนโดยใช้จำนวนครัวเรือน')\n",
        "plt.show();"
      ],
      "execution_count": null,
      "outputs": []
    },
    {
      "cell_type": "markdown",
      "metadata": {
        "id": "m2IO7we_KBmW"
      },
      "source": [
        "**สรุป** จากผลการทำนายลักษณะชุมชนโดยใช้จำนวนครัวเรือน พบว่า จังหวัดที่มีจำนวนครัวเรือนมาก ส่วนใหญ่จะเป็นชุมชนย่านพาณิชยกรรมเก่า, เป็นชุมชนตลาด, เป็นชุมชนเกษตรกรรม"
      ]
    },
    {
      "cell_type": "code",
      "metadata": {
        "id": "aHRvanQKJ_6c"
      },
      "source": [
        "#ผลการทำนายลักษณะชุมชนโดยใช้จำนวนประชากร\n",
        "plt.plot(X_test['Total'],knn1final_result,'dc',alpha =0.2) \n",
        "plt.xlabel('จำนวนประชากร')\n",
        "plt.ylabel('ลักษณะชุมชน')\n",
        "plt.title('ผลการทำนายลักษณะชุมชนโดยใช้จำนวนประชากร')\n",
        "plt.show();"
      ],
      "execution_count": null,
      "outputs": []
    },
    {
      "cell_type": "markdown",
      "metadata": {
        "id": "Ul7MZrVKKI_9"
      },
      "source": [
        "**สรุป** จากผลการทำนายลักษณะชุมชนโดยใช้จำนวนประชากร พบว่า จังหวัดที่มีจำนวนประชากรมาก ส่วนใหญ่จะเป็นชุมชนย่านพาณิชยกรรมเก่า, เป็นชุมชนตลาด, เป็นชุมชนเกษตรกรรม"
      ]
    },
    {
      "cell_type": "code",
      "metadata": {
        "id": "Qfq2A9dAKH0u"
      },
      "source": [
        "#ผลการทำนายลักษณะชุมชนโดยใช้จำนวนรายได้จากการท่องเที่ยว\n",
        "plt.plot(X_test['income2561'],knn1final_result,'*g',alpha =0.2) \n",
        "plt.xlabel('จำนวนรายได้จากการท่องเที่ยว')\n",
        "plt.ylabel('ลักษณะชุมชน')\n",
        "plt.title('ผลการทำนายลักษณะชุมชนโดยใช้จำนวนรายได้จากการท่องเที่ยว')\n",
        "plt.show();"
      ],
      "execution_count": null,
      "outputs": []
    },
    {
      "cell_type": "markdown",
      "metadata": {
        "id": "Hfvy03k3KPyd"
      },
      "source": [
        "**สรุป** จากผลการทำนายลักษณะชุมชนโดยใช้จำนวนรายได้จากการท่องเที่ยว พบว่า จังหวัดที่มีรายได้จากการท่องเที่ยวมาก ส่วนใหญ่จะเป็นชุมชนตลาด,เป็นชุมชนเกษตรกรรม"
      ]
    },
    {
      "cell_type": "markdown",
      "metadata": {
        "id": "wNSVIz1_KSup"
      },
      "source": [
        "**จบการนำเสนอ Final Project**"
      ]
    },
    {
      "cell_type": "code",
      "metadata": {
        "id": "A8Wvh2GWKZGY"
      },
      "source": [
        ""
      ],
      "execution_count": null,
      "outputs": []
    }
  ]
}