{
  "nbformat": 4,
  "nbformat_minor": 0,
  "metadata": {
    "colab": {
      "name": "Project_G_Final.ipynb",
      "provenance": [],
      "authorship_tag": "ABX9TyO2jQpqjYCJCmwXi8IdKADo",
      "include_colab_link": true
    },
    "kernelspec": {
      "name": "python3",
      "display_name": "Python 3"
    },
    "language_info": {
      "name": "python"
    }
  },
  "cells": [
    {
      "cell_type": "markdown",
      "metadata": {
        "id": "view-in-github",
        "colab_type": "text"
      },
      "source": [
        "<a href=\"https://colab.research.google.com/github/naruemonssp/DWDM21/blob/main/Project_G_Final.ipynb\" target=\"_parent\"><img src=\"https://colab.research.google.com/assets/colab-badge.svg\" alt=\"Open In Colab\"/></a>"
      ]
    },
    {
      "cell_type": "markdown",
      "metadata": {
        "id": "2tP5Ad0M-pg-"
      },
      "source": [
        "## **สมาชิก**\n",
        "\n",
        "\n",
        "\n",
        "1.   623020516-1 นางสาวชนัญชิดา เมธีกุลมานิต\n",
        "2.   623020521-8 นางสาวณิชากร ไชยสุวรรณ\n",
        "3.   623021040-9 นางสาวกิตติมา อุปสุข\n",
        "4.   623021050-6 นางสาวนฤมล ไสยโสภณ\n",
        "5.   623021052-2 นางสาวภิญญาดา เพ็ญสุข\n",
        "\n",
        "\n"
      ]
    },
    {
      "cell_type": "markdown",
      "metadata": {
        "id": "Ft97cUUB-4TJ"
      },
      "source": [
        "**แหล่งที่มาของข้อมูล**\n",
        "\n",
        "* ย่านชุมชนเก่า แหล่งที่มาของข้อมูล\n",
        "\n",
        "https://data.go.th/dataset/old-community?fbclid=IwAR0TJxEAwTtBKYS853iy-LVEDE09z9WawwXii0BufdHWwojpU0_Lvw3ciYM\n",
        "\n",
        "* ผู้เยี่ยมเยือน จำแนกตามรายจังหวัด แหล่งที่มาของข้อมูล\n",
        "\n",
        "https://data.go.th/dataset/visitors?fbclid=IwAR0mLjK4IUjLWa99UBhG5sM6FGGnicg_iVRzQHTp8btujsUbFEOzmGFaRYA\n",
        "\n",
        "* รายได้จากการท่องเที่ยว จำแนกตามรายจังหวัด แหล่งที่มา\n",
        "\n",
        "https://data.go.th/dataset/1559?fbclid=IwAR3-ZnxUzDyap-vs3T3vdkkwXgIu5ye3pwha8okKoZk6MQMhYl6KNmYeu9M"
      ]
    },
    {
      "cell_type": "code",
      "metadata": {
        "id": "rTbX-BVa-OxO"
      },
      "source": [
        "import pandas as pd # ทำงานกับข้อมูลลักษณะตาราง"
      ],
      "execution_count": 1,
      "outputs": []
    },
    {
      "cell_type": "code",
      "metadata": {
        "colab": {
          "base_uri": "https://localhost:8080/"
        },
        "id": "880XCrFa_HdA",
        "outputId": "868c7262-84e5-4424-b810-4d52c3121734"
      },
      "source": [
        "from google.colab import drive # package เชื่อม google  drive\n",
        "drive.mount('/content/drive')"
      ],
      "execution_count": 2,
      "outputs": [
        {
          "output_type": "stream",
          "name": "stdout",
          "text": [
            "Mounted at /content/drive\n"
          ]
        }
      ]
    },
    {
      "cell_type": "code",
      "metadata": {
        "colab": {
          "base_uri": "https://localhost:8080/"
        },
        "id": "CedyXswP_JQ4",
        "outputId": "f1bdc4c6-45e3-4e98-bbc5-eafe0ae959ab"
      },
      "source": [
        "ls # ตรวจสอบว่า colab เชื่อมต่อ google drive"
      ],
      "execution_count": 3,
      "outputs": [
        {
          "output_type": "stream",
          "name": "stdout",
          "text": [
            "\u001b[0m\u001b[01;34mdrive\u001b[0m/  \u001b[01;34msample_data\u001b[0m/\n"
          ]
        }
      ]
    },
    {
      "cell_type": "code",
      "metadata": {
        "id": "7boKmIgI_SQt"
      },
      "source": [
        "import os # จัดการไฟล์และ path (ที่อยู่ของไฟล์)"
      ],
      "execution_count": null,
      "outputs": []
    },
    {
      "cell_type": "code",
      "metadata": {
        "id": "v63YHZJL_TaR"
      },
      "source": [
        "path = '/content/drive/My Drive/DWDM2021_DATA'"
      ],
      "execution_count": null,
      "outputs": []
    },
    {
      "cell_type": "markdown",
      "metadata": {
        "id": "1huYQ3vh_X7h"
      },
      "source": [
        "### **Preprocessing**"
      ]
    },
    {
      "cell_type": "markdown",
      "metadata": {
        "id": "U5npV4Be_hGp"
      },
      "source": [
        "**นำเข้าข้อมูล**\n",
        "\n",
        "\n",
        "**ข้อมูลที่ 1 ย่านชุมชนเก่า**"
      ]
    },
    {
      "cell_type": "code",
      "metadata": {
        "id": "o0o4oAOE_TXt"
      },
      "source": [
        "data_1 = pd.read_csv(os.path.join(path,'old-community-area-updated-may-ใหม่ล่าสุด.csv')) # ย่านชุมชนเก่า\n",
        "data_1"
      ],
      "execution_count": null,
      "outputs": []
    },
    {
      "cell_type": "code",
      "metadata": {
        "id": "Q07cS8ia_TVc"
      },
      "source": [
        ""
      ],
      "execution_count": null,
      "outputs": []
    },
    {
      "cell_type": "code",
      "metadata": {
        "id": "yYwVLBR6_TTA"
      },
      "source": [
        ""
      ],
      "execution_count": null,
      "outputs": []
    },
    {
      "cell_type": "code",
      "metadata": {
        "id": "dWW-N-EY_TQS"
      },
      "source": [
        ""
      ],
      "execution_count": null,
      "outputs": []
    },
    {
      "cell_type": "code",
      "metadata": {
        "id": "mTSa8mF1_TNO"
      },
      "source": [
        ""
      ],
      "execution_count": null,
      "outputs": []
    },
    {
      "cell_type": "code",
      "metadata": {
        "id": "KUikqy13_TIO"
      },
      "source": [
        ""
      ],
      "execution_count": null,
      "outputs": []
    },
    {
      "cell_type": "code",
      "metadata": {
        "id": "YpocPsKl_TB_"
      },
      "source": [
        ""
      ],
      "execution_count": null,
      "outputs": []
    },
    {
      "cell_type": "code",
      "metadata": {
        "id": "9WovWM3L_Ssw"
      },
      "source": [
        ""
      ],
      "execution_count": null,
      "outputs": []
    }
  ]
}